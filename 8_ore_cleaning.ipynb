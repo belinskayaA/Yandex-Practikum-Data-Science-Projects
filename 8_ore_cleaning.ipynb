{
 "cells": [
  {
   "cell_type": "markdown",
   "metadata": {},
   "source": [
    "<div class=\"alert alert-success\">\n",
    "    <font color='green'> <b><u>КОММЕНТАРИЙ РЕВЬЮЕРА</u></b>\n",
    "\n",
    "Анастасия, доброго дня! рад приветствовать тебя) <br />\n",
    "<br />\n",
    "Меня зовут Николай Шавлюго. <br />И на этом этапе твоего движения к новой профессии от меня будут комментарии по написанному коду. <br />Чтобы меньше \"мусорить эфир\" и чтобы максимально наглядно отделяться от основного кода, есть предложение условиться в некоторых обозначениях:<br /> <br />\n",
    "<u><b>ТАКОЙ ШРИФТ</b></u> - всегда начало комментария <br />\n",
    "<font color='green'>такой шрифт</font> - комментарии о том, что всё ОК <br/>\n",
    "<font color='orange'>такой шрифт</font> - комментарии о том, что всё ОК по результату,<br> однако есть на что обратить внимание в плане применения техник, или есть способы сделать более короткий или быстрый код <br/>\n",
    "<font color='red'>такой шрифт</font> - комментарии о том, что есть критичный момент, влияющий на бизнес-результат проекта.<br/>\n",
    "</font><br /><br />\n",
    "<font color='green'>Моей целью является не \"уличить\" в не знании, а просто высказать сверху твоих знаний - свой опыт, что бы ты мог использовать его для своего дальнейшего успеха) И очень здорово будет, если тебе удастся задавать вопросы, да и вообще - всячески доставать меня, если я по каким-то причинам не приму проект:) При этом, из своего опыта скажу, хорошо и важно, когда переписка ревьюера и студента - сохраняется на следующие проекты и даже на будущую практическую деятельность.<br>\n",
    "<br> Я сразу же начал общаться на ты:) но если это не очень удобно, то дай знать)) <BR> В ПУТЬ!<br>\n",
    "</div>"
   ]
  },
  {
   "cell_type": "markdown",
   "metadata": {
    "toc": true
   },
   "source": [
    "<h1>Содержание<span class=\"tocSkip\"></span></h1>\n",
    "<div class=\"toc\"><ul class=\"toc-item\"><li><span><a href=\"#Подготовка-данных\" data-toc-modified-id=\"Подготовка-данных-1\"><span class=\"toc-item-num\">1&nbsp;&nbsp;</span>Подготовка данных</a></span><ul class=\"toc-item\"><li><span><a href=\"#Открываем-файлы-и-изучите-их.\" data-toc-modified-id=\"Открываем-файлы-и-изучите-их.-1.1\"><span class=\"toc-item-num\">1.1&nbsp;&nbsp;</span>Открываем файлы и изучите их.</a></span></li><li><span><a href=\"#Проверяем,-что-эффективность-обогащения-рассчитана-правильно.\" data-toc-modified-id=\"Проверяем,-что-эффективность-обогащения-рассчитана-правильно.-1.2\"><span class=\"toc-item-num\">1.2&nbsp;&nbsp;</span>Проверяем, что эффективность обогащения рассчитана правильно.</a></span></li><li><span><a href=\"#Признаки,-недоступные-в-тестовой-выборке.\" data-toc-modified-id=\"Признаки,-недоступные-в-тестовой-выборке.-1.3\"><span class=\"toc-item-num\">1.3&nbsp;&nbsp;</span>Признаки, недоступные в тестовой выборке.</a></span></li><li><span><a href=\"#Предобработка-данных\" data-toc-modified-id=\"Предобработка-данных-1.4\"><span class=\"toc-item-num\">1.4&nbsp;&nbsp;</span>Предобработка данных</a></span></li></ul></li><li><span><a href=\"#Анализ-данных\" data-toc-modified-id=\"Анализ-данных-2\"><span class=\"toc-item-num\">2&nbsp;&nbsp;</span>Анализ данных</a></span><ul class=\"toc-item\"><li><span><a href=\"#Концентрация-металлов-(Au,-Ag,-Pb)-на-различных-этапах-очистки.\" data-toc-modified-id=\"Концентрация-металлов-(Au,-Ag,-Pb)-на-различных-этапах-очистки.-2.1\"><span class=\"toc-item-num\">2.1&nbsp;&nbsp;</span>Концентрация металлов (Au, Ag, Pb) на различных этапах очистки.</a></span></li><li><span><a href=\"#Распределение-размеров-гранул-сырья-на-обучающей-и-тестовой-выборках.\" data-toc-modified-id=\"Распределение-размеров-гранул-сырья-на-обучающей-и-тестовой-выборках.-2.2\"><span class=\"toc-item-num\">2.2&nbsp;&nbsp;</span>Распределение размеров гранул сырья на обучающей и тестовой выборках.</a></span></li><li><span><a href=\"#Cуммарная-концентрация-всех-веществ-на-разных-стадиях\" data-toc-modified-id=\"Cуммарная-концентрация-всех-веществ-на-разных-стадиях-2.3\"><span class=\"toc-item-num\">2.3&nbsp;&nbsp;</span>Cуммарная концентрация всех веществ на разных стадиях</a></span></li></ul></li><li><span><a href=\"#Модель\" data-toc-modified-id=\"Модель-3\"><span class=\"toc-item-num\">3&nbsp;&nbsp;</span>Модель</a></span><ul class=\"toc-item\"><li><span><a href=\"#Функция-для-вычисления-итоговой-sMAPE\" data-toc-modified-id=\"Функция-для-вычисления-итоговой-sMAPE-3.1\"><span class=\"toc-item-num\">3.1&nbsp;&nbsp;</span>Функция для вычисления итоговой sMAPE</a></span></li><li><span><a href=\"#Разные-модели-и-оцените-их-качество\" data-toc-modified-id=\"Разные-модели-и-оцените-их-качество-3.2\"><span class=\"toc-item-num\">3.2&nbsp;&nbsp;</span>Разные модели и оцените их качество</a></span><ul class=\"toc-item\"><li><span><a href=\"#Поиск-лучшей-модели\" data-toc-modified-id=\"Поиск-лучшей-модели-3.2.1\"><span class=\"toc-item-num\">3.2.1&nbsp;&nbsp;</span>Поиск лучшей модели</a></span></li></ul></li></ul></li><li><span><a href=\"#Чек-лист-готовности-проекта\" data-toc-modified-id=\"Чек-лист-готовности-проекта-4\"><span class=\"toc-item-num\">4&nbsp;&nbsp;</span>Чек-лист готовности проекта</a></span></li></ul></div>"
   ]
  },
  {
   "cell_type": "markdown",
   "metadata": {},
   "source": [
    "# Восстановление золота из руды"
   ]
  },
  {
   "cell_type": "markdown",
   "metadata": {},
   "source": [
    "Подготовьте прототип модели машинного обучения для «Цифры». Компания разрабатывает решения для эффективной работы промышленных предприятий.\n",
    "\n",
    "Модель должна предсказать коэффициент восстановления золота из золотосодержащей руды. Используйте данные с параметрами добычи и очистки. \n",
    "\n",
    "Модель поможет оптимизировать производство, чтобы не запускать предприятие с убыточными характеристиками.\n",
    "\n",
    "Вам нужно:\n",
    "\n",
    "1. Подготовить данные;\n",
    "2. Провести исследовательский анализ данных;\n",
    "3. Построить и обучить модель.\n",
    "\n",
    "Чтобы выполнить проект, обращайтесь к библиотекам *pandas*, *matplotlib* и *sklearn.* Вам поможет их документация."
   ]
  },
  {
   "cell_type": "markdown",
   "metadata": {},
   "source": [
    "## Подготовка данных"
   ]
  },
  {
   "cell_type": "code",
   "execution_count": 106,
   "metadata": {},
   "outputs": [],
   "source": [
    "import pandas as pd\n",
    "import numpy as np\n",
    "import seaborn as sns\n",
    "import scipy.stats as st\n",
    "import matplotlib.pyplot as plt\n",
    "from scipy import stats\n",
    "from sklearn.linear_model import LinearRegression\n",
    "from sklearn.metrics import mean_squared_error\n",
    "from sklearn.metrics import mean_absolute_error\n",
    "from sklearn.model_selection import train_test_split\n",
    "from scipy.stats import median_test\n",
    "from scipy.stats import levene\n",
    "from sklearn.model_selection import GridSearchCV\n",
    "from sklearn.linear_model import LinearRegression\n",
    "from sklearn.tree import DecisionTreeRegressor\n",
    "from sklearn.ensemble import RandomForestRegressor\n",
    "from sklearn.dummy import DummyRegressor\n",
    "from sklearn.preprocessing import MinMaxScaler\n",
    "from sklearn.preprocessing import StandardScaler\n",
    "from sklearn import utils\n",
    "from sklearn import preprocessing\n",
    "from sklearn.metrics import accuracy_score \n",
    "from sklearn.pipeline import  make_pipeline\n",
    "from sklearn import linear_model\n",
    "from sklearn.metrics import make_scorer\n"
   ]
  },
  {
   "cell_type": "markdown",
   "metadata": {},
   "source": [
    "### Открываем файлы и изучите их."
   ]
  },
  {
   "cell_type": "code",
   "execution_count": 107,
   "metadata": {},
   "outputs": [],
   "source": [
    "df_train = pd.read_csv('/datasets/gold_recovery_train.csv')\n",
    "df_test = pd.read_csv('/datasets/gold_recovery_test.csv')\n",
    "df_full = pd.read_csv('/datasets/gold_recovery_full.csv')"
   ]
  },
  {
   "cell_type": "markdown",
   "metadata": {},
   "source": [
    "<div class=\"alert alert-success\">\n",
    "<font color='green'> \n",
    "<u>КОММЕНТАРИЙ РЕВЬЮЕРА</u>\n",
    "<font color='green'><br>Ок, данные на базе)\n",
    "</div>"
   ]
  },
  {
   "cell_type": "markdown",
   "metadata": {},
   "source": [
    "### Проверяем, что эффективность обогащения рассчитана правильно. "
   ]
  },
  {
   "cell_type": "markdown",
   "metadata": {},
   "source": [
    "Считаем эффективность обогащения по предложенной формуле."
   ]
  },
  {
   "cell_type": "code",
   "execution_count": 108,
   "metadata": {},
   "outputs": [],
   "source": [
    "def recovery(C,F,T):    \n",
    "    recovery = ((C*(F-T))/ (F*(C-T))) * 100\n",
    "    return recovery"
   ]
  },
  {
   "cell_type": "code",
   "execution_count": 109,
   "metadata": {},
   "outputs": [],
   "source": [
    "rec = recovery(df_train['rougher.output.concentrate_au'], df_train['rougher.input.feed_au'], df_train['rougher.output.tail_au'])"
   ]
  },
  {
   "cell_type": "code",
   "execution_count": 110,
   "metadata": {},
   "outputs": [],
   "source": [
    "frame = { 'rougher.output.recovery': df_train['rougher.output.recovery'], 'recovery': rec }\n",
    "result = pd.DataFrame(frame)\n",
    "result = result.dropna()"
   ]
  },
  {
   "cell_type": "code",
   "execution_count": 111,
   "metadata": {},
   "outputs": [
    {
     "data": {
      "text/plain": [
       "9.444891926100695e-15"
      ]
     },
     "execution_count": 111,
     "metadata": {},
     "output_type": "execute_result"
    }
   ],
   "source": [
    "mae = mean_absolute_error(result['rougher.output.recovery'], result['recovery'])\n",
    "mae "
   ]
  },
  {
   "cell_type": "markdown",
   "metadata": {},
   "source": [
    "MAE между нашими расчётами и значением признака совсем небольшое, следовательно расчеты произведены верно."
   ]
  },
  {
   "cell_type": "markdown",
   "metadata": {},
   "source": [
    "<div class=\"alert alert-success\">\n",
    "<font color='green'> \n",
    "<u>КОММЕНТАРИЙ РЕВЬЮЕРА</u>\n",
    "<font color='green'><br>Отлично, есть контакт)\n",
    "</div>"
   ]
  },
  {
   "cell_type": "markdown",
   "metadata": {},
   "source": [
    "### Признаки, недоступные в тестовой выборке."
   ]
  },
  {
   "cell_type": "code",
   "execution_count": 112,
   "metadata": {},
   "outputs": [
    {
     "data": {
      "text/plain": [
       "['rougher.output.concentrate_pb',\n",
       " 'rougher.calculation.floatbank10_sulfate_to_au_feed',\n",
       " 'final.output.tail_ag',\n",
       " 'rougher.calculation.sulfate_to_au_concentrate',\n",
       " 'secondary_cleaner.output.tail_sol',\n",
       " 'rougher.output.concentrate_sol',\n",
       " 'rougher.output.concentrate_au',\n",
       " 'secondary_cleaner.output.tail_ag',\n",
       " 'rougher.output.concentrate_ag',\n",
       " 'final.output.recovery',\n",
       " 'secondary_cleaner.output.tail_pb',\n",
       " 'final.output.concentrate_au',\n",
       " 'primary_cleaner.output.concentrate_au',\n",
       " 'primary_cleaner.output.concentrate_pb',\n",
       " 'secondary_cleaner.output.tail_au',\n",
       " 'rougher.calculation.floatbank11_sulfate_to_au_feed',\n",
       " 'rougher.output.tail_ag',\n",
       " 'primary_cleaner.output.concentrate_ag',\n",
       " 'final.output.tail_au',\n",
       " 'final.output.tail_sol',\n",
       " 'primary_cleaner.output.tail_au',\n",
       " 'final.output.concentrate_pb',\n",
       " 'rougher.output.recovery',\n",
       " 'final.output.concentrate_sol',\n",
       " 'rougher.output.tail_au',\n",
       " 'rougher.output.tail_pb',\n",
       " 'rougher.output.tail_sol',\n",
       " 'primary_cleaner.output.tail_sol',\n",
       " 'primary_cleaner.output.tail_pb',\n",
       " 'final.output.tail_pb',\n",
       " 'rougher.calculation.au_pb_ratio',\n",
       " 'primary_cleaner.output.concentrate_sol',\n",
       " 'final.output.concentrate_ag',\n",
       " 'primary_cleaner.output.tail_ag']"
      ]
     },
     "execution_count": 112,
     "metadata": {},
     "output_type": "execute_result"
    }
   ],
   "source": [
    "miss_col= list(set(df_train.columns) - set(df_test.columns))\n",
    "miss_col"
   ]
  },
  {
   "cell_type": "markdown",
   "metadata": {},
   "source": [
    "В основном отсутствуют параметры продукта и 4 расчётные характеристики. "
   ]
  },
  {
   "cell_type": "markdown",
   "metadata": {},
   "source": [
    "<div class=\"alert alert-success\">\n",
    "<font color='green'> \n",
    "<u>КОММЕНТАРИЙ РЕВЬЮЕРА</u>\n",
    "<font color='green'><br>\n",
    "В общем, да, \n",
    "В тестовой выборке недоступны некоторые расчетные (calculation) и выходные (output) характеристики процесса, т.к. их невозможно получить/измерить во время выполнения технологического процесса.\n",
    "</div>"
   ]
  },
  {
   "cell_type": "markdown",
   "metadata": {},
   "source": [
    "### Предобработка данных"
   ]
  },
  {
   "cell_type": "code",
   "execution_count": 113,
   "metadata": {},
   "outputs": [
    {
     "name": "stdout",
     "output_type": "stream",
     "text": [
      "<class 'pandas.core.frame.DataFrame'>\n",
      "RangeIndex: 16860 entries, 0 to 16859\n",
      "Data columns (total 87 columns):\n",
      "date                                                  16860 non-null object\n",
      "final.output.concentrate_ag                           16788 non-null float64\n",
      "final.output.concentrate_pb                           16788 non-null float64\n",
      "final.output.concentrate_sol                          16490 non-null float64\n",
      "final.output.concentrate_au                           16789 non-null float64\n",
      "final.output.recovery                                 15339 non-null float64\n",
      "final.output.tail_ag                                  16794 non-null float64\n",
      "final.output.tail_pb                                  16677 non-null float64\n",
      "final.output.tail_sol                                 16715 non-null float64\n",
      "final.output.tail_au                                  16794 non-null float64\n",
      "primary_cleaner.input.sulfate                         15553 non-null float64\n",
      "primary_cleaner.input.depressant                      15598 non-null float64\n",
      "primary_cleaner.input.feed_size                       16860 non-null float64\n",
      "primary_cleaner.input.xanthate                        15875 non-null float64\n",
      "primary_cleaner.output.concentrate_ag                 16778 non-null float64\n",
      "primary_cleaner.output.concentrate_pb                 16502 non-null float64\n",
      "primary_cleaner.output.concentrate_sol                16224 non-null float64\n",
      "primary_cleaner.output.concentrate_au                 16778 non-null float64\n",
      "primary_cleaner.output.tail_ag                        16777 non-null float64\n",
      "primary_cleaner.output.tail_pb                        16761 non-null float64\n",
      "primary_cleaner.output.tail_sol                       16579 non-null float64\n",
      "primary_cleaner.output.tail_au                        16777 non-null float64\n",
      "primary_cleaner.state.floatbank8_a_air                16820 non-null float64\n",
      "primary_cleaner.state.floatbank8_a_level              16827 non-null float64\n",
      "primary_cleaner.state.floatbank8_b_air                16820 non-null float64\n",
      "primary_cleaner.state.floatbank8_b_level              16833 non-null float64\n",
      "primary_cleaner.state.floatbank8_c_air                16822 non-null float64\n",
      "primary_cleaner.state.floatbank8_c_level              16833 non-null float64\n",
      "primary_cleaner.state.floatbank8_d_air                16821 non-null float64\n",
      "primary_cleaner.state.floatbank8_d_level              16833 non-null float64\n",
      "rougher.calculation.sulfate_to_au_concentrate         16833 non-null float64\n",
      "rougher.calculation.floatbank10_sulfate_to_au_feed    16833 non-null float64\n",
      "rougher.calculation.floatbank11_sulfate_to_au_feed    16833 non-null float64\n",
      "rougher.calculation.au_pb_ratio                       15618 non-null float64\n",
      "rougher.input.feed_ag                                 16778 non-null float64\n",
      "rougher.input.feed_pb                                 16632 non-null float64\n",
      "rougher.input.feed_rate                               16347 non-null float64\n",
      "rougher.input.feed_size                               16443 non-null float64\n",
      "rougher.input.feed_sol                                16568 non-null float64\n",
      "rougher.input.feed_au                                 16777 non-null float64\n",
      "rougher.input.floatbank10_sulfate                     15816 non-null float64\n",
      "rougher.input.floatbank10_xanthate                    16514 non-null float64\n",
      "rougher.input.floatbank11_sulfate                     16237 non-null float64\n",
      "rougher.input.floatbank11_xanthate                    14956 non-null float64\n",
      "rougher.output.concentrate_ag                         16778 non-null float64\n",
      "rougher.output.concentrate_pb                         16778 non-null float64\n",
      "rougher.output.concentrate_sol                        16698 non-null float64\n",
      "rougher.output.concentrate_au                         16778 non-null float64\n",
      "rougher.output.recovery                               14287 non-null float64\n",
      "rougher.output.tail_ag                                14610 non-null float64\n",
      "rougher.output.tail_pb                                16778 non-null float64\n",
      "rougher.output.tail_sol                               14611 non-null float64\n",
      "rougher.output.tail_au                                14611 non-null float64\n",
      "rougher.state.floatbank10_a_air                       16807 non-null float64\n",
      "rougher.state.floatbank10_a_level                     16807 non-null float64\n",
      "rougher.state.floatbank10_b_air                       16807 non-null float64\n",
      "rougher.state.floatbank10_b_level                     16807 non-null float64\n",
      "rougher.state.floatbank10_c_air                       16807 non-null float64\n",
      "rougher.state.floatbank10_c_level                     16814 non-null float64\n",
      "rougher.state.floatbank10_d_air                       16802 non-null float64\n",
      "rougher.state.floatbank10_d_level                     16809 non-null float64\n",
      "rougher.state.floatbank10_e_air                       16257 non-null float64\n",
      "rougher.state.floatbank10_e_level                     16809 non-null float64\n",
      "rougher.state.floatbank10_f_air                       16802 non-null float64\n",
      "rougher.state.floatbank10_f_level                     16802 non-null float64\n",
      "secondary_cleaner.output.tail_ag                      16776 non-null float64\n",
      "secondary_cleaner.output.tail_pb                      16764 non-null float64\n",
      "secondary_cleaner.output.tail_sol                     14874 non-null float64\n",
      "secondary_cleaner.output.tail_au                      16778 non-null float64\n",
      "secondary_cleaner.state.floatbank2_a_air              16497 non-null float64\n",
      "secondary_cleaner.state.floatbank2_a_level            16751 non-null float64\n",
      "secondary_cleaner.state.floatbank2_b_air              16705 non-null float64\n",
      "secondary_cleaner.state.floatbank2_b_level            16748 non-null float64\n",
      "secondary_cleaner.state.floatbank3_a_air              16763 non-null float64\n",
      "secondary_cleaner.state.floatbank3_a_level            16747 non-null float64\n",
      "secondary_cleaner.state.floatbank3_b_air              16752 non-null float64\n",
      "secondary_cleaner.state.floatbank3_b_level            16750 non-null float64\n",
      "secondary_cleaner.state.floatbank4_a_air              16731 non-null float64\n",
      "secondary_cleaner.state.floatbank4_a_level            16747 non-null float64\n",
      "secondary_cleaner.state.floatbank4_b_air              16768 non-null float64\n",
      "secondary_cleaner.state.floatbank4_b_level            16767 non-null float64\n",
      "secondary_cleaner.state.floatbank5_a_air              16775 non-null float64\n",
      "secondary_cleaner.state.floatbank5_a_level            16775 non-null float64\n",
      "secondary_cleaner.state.floatbank5_b_air              16775 non-null float64\n",
      "secondary_cleaner.state.floatbank5_b_level            16776 non-null float64\n",
      "secondary_cleaner.state.floatbank6_a_air              16757 non-null float64\n",
      "secondary_cleaner.state.floatbank6_a_level            16775 non-null float64\n",
      "dtypes: float64(86), object(1)\n",
      "memory usage: 11.2+ MB\n",
      "<class 'pandas.core.frame.DataFrame'>\n",
      "RangeIndex: 5856 entries, 0 to 5855\n",
      "Data columns (total 53 columns):\n",
      "date                                          5856 non-null object\n",
      "primary_cleaner.input.sulfate                 5554 non-null float64\n",
      "primary_cleaner.input.depressant              5572 non-null float64\n",
      "primary_cleaner.input.feed_size               5856 non-null float64\n",
      "primary_cleaner.input.xanthate                5690 non-null float64\n",
      "primary_cleaner.state.floatbank8_a_air        5840 non-null float64\n",
      "primary_cleaner.state.floatbank8_a_level      5840 non-null float64\n",
      "primary_cleaner.state.floatbank8_b_air        5840 non-null float64\n",
      "primary_cleaner.state.floatbank8_b_level      5840 non-null float64\n",
      "primary_cleaner.state.floatbank8_c_air        5840 non-null float64\n",
      "primary_cleaner.state.floatbank8_c_level      5840 non-null float64\n",
      "primary_cleaner.state.floatbank8_d_air        5840 non-null float64\n",
      "primary_cleaner.state.floatbank8_d_level      5840 non-null float64\n",
      "rougher.input.feed_ag                         5840 non-null float64\n",
      "rougher.input.feed_pb                         5840 non-null float64\n",
      "rougher.input.feed_rate                       5816 non-null float64\n",
      "rougher.input.feed_size                       5834 non-null float64\n",
      "rougher.input.feed_sol                        5789 non-null float64\n",
      "rougher.input.feed_au                         5840 non-null float64\n",
      "rougher.input.floatbank10_sulfate             5599 non-null float64\n",
      "rougher.input.floatbank10_xanthate            5733 non-null float64\n",
      "rougher.input.floatbank11_sulfate             5801 non-null float64\n",
      "rougher.input.floatbank11_xanthate            5503 non-null float64\n",
      "rougher.state.floatbank10_a_air               5839 non-null float64\n",
      "rougher.state.floatbank10_a_level             5840 non-null float64\n",
      "rougher.state.floatbank10_b_air               5839 non-null float64\n",
      "rougher.state.floatbank10_b_level             5840 non-null float64\n",
      "rougher.state.floatbank10_c_air               5839 non-null float64\n",
      "rougher.state.floatbank10_c_level             5840 non-null float64\n",
      "rougher.state.floatbank10_d_air               5839 non-null float64\n",
      "rougher.state.floatbank10_d_level             5840 non-null float64\n",
      "rougher.state.floatbank10_e_air               5839 non-null float64\n",
      "rougher.state.floatbank10_e_level             5840 non-null float64\n",
      "rougher.state.floatbank10_f_air               5839 non-null float64\n",
      "rougher.state.floatbank10_f_level             5840 non-null float64\n",
      "secondary_cleaner.state.floatbank2_a_air      5836 non-null float64\n",
      "secondary_cleaner.state.floatbank2_a_level    5840 non-null float64\n",
      "secondary_cleaner.state.floatbank2_b_air      5833 non-null float64\n",
      "secondary_cleaner.state.floatbank2_b_level    5840 non-null float64\n",
      "secondary_cleaner.state.floatbank3_a_air      5822 non-null float64\n",
      "secondary_cleaner.state.floatbank3_a_level    5840 non-null float64\n",
      "secondary_cleaner.state.floatbank3_b_air      5840 non-null float64\n",
      "secondary_cleaner.state.floatbank3_b_level    5840 non-null float64\n",
      "secondary_cleaner.state.floatbank4_a_air      5840 non-null float64\n",
      "secondary_cleaner.state.floatbank4_a_level    5840 non-null float64\n",
      "secondary_cleaner.state.floatbank4_b_air      5840 non-null float64\n",
      "secondary_cleaner.state.floatbank4_b_level    5840 non-null float64\n",
      "secondary_cleaner.state.floatbank5_a_air      5840 non-null float64\n",
      "secondary_cleaner.state.floatbank5_a_level    5840 non-null float64\n",
      "secondary_cleaner.state.floatbank5_b_air      5840 non-null float64\n",
      "secondary_cleaner.state.floatbank5_b_level    5840 non-null float64\n",
      "secondary_cleaner.state.floatbank6_a_air      5840 non-null float64\n",
      "secondary_cleaner.state.floatbank6_a_level    5840 non-null float64\n",
      "dtypes: float64(52), object(1)\n",
      "memory usage: 2.4+ MB\n",
      "<class 'pandas.core.frame.DataFrame'>\n",
      "RangeIndex: 22716 entries, 0 to 22715\n",
      "Data columns (total 87 columns):\n",
      "date                                                  22716 non-null object\n",
      "final.output.concentrate_ag                           22627 non-null float64\n",
      "final.output.concentrate_pb                           22629 non-null float64\n",
      "final.output.concentrate_sol                          22331 non-null float64\n",
      "final.output.concentrate_au                           22630 non-null float64\n",
      "final.output.recovery                                 20753 non-null float64\n",
      "final.output.tail_ag                                  22633 non-null float64\n",
      "final.output.tail_pb                                  22516 non-null float64\n",
      "final.output.tail_sol                                 22445 non-null float64\n",
      "final.output.tail_au                                  22635 non-null float64\n",
      "primary_cleaner.input.sulfate                         21107 non-null float64\n",
      "primary_cleaner.input.depressant                      21170 non-null float64\n",
      "primary_cleaner.input.feed_size                       22716 non-null float64\n",
      "primary_cleaner.input.xanthate                        21565 non-null float64\n",
      "primary_cleaner.output.concentrate_ag                 22618 non-null float64\n",
      "primary_cleaner.output.concentrate_pb                 22268 non-null float64\n",
      "primary_cleaner.output.concentrate_sol                21918 non-null float64\n",
      "primary_cleaner.output.concentrate_au                 22618 non-null float64\n",
      "primary_cleaner.output.tail_ag                        22614 non-null float64\n",
      "primary_cleaner.output.tail_pb                        22594 non-null float64\n",
      "primary_cleaner.output.tail_sol                       22365 non-null float64\n",
      "primary_cleaner.output.tail_au                        22617 non-null float64\n",
      "primary_cleaner.state.floatbank8_a_air                22660 non-null float64\n",
      "primary_cleaner.state.floatbank8_a_level              22667 non-null float64\n",
      "primary_cleaner.state.floatbank8_b_air                22660 non-null float64\n",
      "primary_cleaner.state.floatbank8_b_level              22673 non-null float64\n",
      "primary_cleaner.state.floatbank8_c_air                22662 non-null float64\n",
      "primary_cleaner.state.floatbank8_c_level              22673 non-null float64\n",
      "primary_cleaner.state.floatbank8_d_air                22661 non-null float64\n",
      "primary_cleaner.state.floatbank8_d_level              22673 non-null float64\n",
      "rougher.calculation.sulfate_to_au_concentrate         22672 non-null float64\n",
      "rougher.calculation.floatbank10_sulfate_to_au_feed    22672 non-null float64\n",
      "rougher.calculation.floatbank11_sulfate_to_au_feed    22672 non-null float64\n",
      "rougher.calculation.au_pb_ratio                       21089 non-null float64\n",
      "rougher.input.feed_ag                                 22618 non-null float64\n",
      "rougher.input.feed_pb                                 22472 non-null float64\n",
      "rougher.input.feed_rate                               22163 non-null float64\n",
      "rougher.input.feed_size                               22277 non-null float64\n",
      "rougher.input.feed_sol                                22357 non-null float64\n",
      "rougher.input.feed_au                                 22617 non-null float64\n",
      "rougher.input.floatbank10_sulfate                     21415 non-null float64\n",
      "rougher.input.floatbank10_xanthate                    22247 non-null float64\n",
      "rougher.input.floatbank11_sulfate                     22038 non-null float64\n",
      "rougher.input.floatbank11_xanthate                    20459 non-null float64\n",
      "rougher.output.concentrate_ag                         22618 non-null float64\n",
      "rougher.output.concentrate_pb                         22618 non-null float64\n",
      "rougher.output.concentrate_sol                        22526 non-null float64\n",
      "rougher.output.concentrate_au                         22618 non-null float64\n",
      "rougher.output.recovery                               19597 non-null float64\n",
      "rougher.output.tail_ag                                19979 non-null float64\n",
      "rougher.output.tail_pb                                22618 non-null float64\n",
      "rougher.output.tail_sol                               19980 non-null float64\n",
      "rougher.output.tail_au                                19980 non-null float64\n",
      "rougher.state.floatbank10_a_air                       22646 non-null float64\n",
      "rougher.state.floatbank10_a_level                     22647 non-null float64\n",
      "rougher.state.floatbank10_b_air                       22646 non-null float64\n",
      "rougher.state.floatbank10_b_level                     22647 non-null float64\n",
      "rougher.state.floatbank10_c_air                       22646 non-null float64\n",
      "rougher.state.floatbank10_c_level                     22654 non-null float64\n",
      "rougher.state.floatbank10_d_air                       22641 non-null float64\n",
      "rougher.state.floatbank10_d_level                     22649 non-null float64\n",
      "rougher.state.floatbank10_e_air                       22096 non-null float64\n",
      "rougher.state.floatbank10_e_level                     22649 non-null float64\n",
      "rougher.state.floatbank10_f_air                       22641 non-null float64\n",
      "rougher.state.floatbank10_f_level                     22642 non-null float64\n",
      "secondary_cleaner.output.tail_ag                      22616 non-null float64\n",
      "secondary_cleaner.output.tail_pb                      22600 non-null float64\n",
      "secondary_cleaner.output.tail_sol                     20501 non-null float64\n",
      "secondary_cleaner.output.tail_au                      22618 non-null float64\n",
      "secondary_cleaner.state.floatbank2_a_air              22333 non-null float64\n",
      "secondary_cleaner.state.floatbank2_a_level            22591 non-null float64\n",
      "secondary_cleaner.state.floatbank2_b_air              22538 non-null float64\n",
      "secondary_cleaner.state.floatbank2_b_level            22588 non-null float64\n",
      "secondary_cleaner.state.floatbank3_a_air              22585 non-null float64\n",
      "secondary_cleaner.state.floatbank3_a_level            22587 non-null float64\n",
      "secondary_cleaner.state.floatbank3_b_air              22592 non-null float64\n",
      "secondary_cleaner.state.floatbank3_b_level            22590 non-null float64\n",
      "secondary_cleaner.state.floatbank4_a_air              22571 non-null float64\n",
      "secondary_cleaner.state.floatbank4_a_level            22587 non-null float64\n",
      "secondary_cleaner.state.floatbank4_b_air              22608 non-null float64\n",
      "secondary_cleaner.state.floatbank4_b_level            22607 non-null float64\n",
      "secondary_cleaner.state.floatbank5_a_air              22615 non-null float64\n",
      "secondary_cleaner.state.floatbank5_a_level            22615 non-null float64\n",
      "secondary_cleaner.state.floatbank5_b_air              22615 non-null float64\n",
      "secondary_cleaner.state.floatbank5_b_level            22616 non-null float64\n",
      "secondary_cleaner.state.floatbank6_a_air              22597 non-null float64\n",
      "secondary_cleaner.state.floatbank6_a_level            22615 non-null float64\n",
      "dtypes: float64(86), object(1)\n",
      "memory usage: 15.1+ MB\n",
      "None None None\n"
     ]
    }
   ],
   "source": [
    "print(df_train.info(), df_test.info(), df_full.info())"
   ]
  },
  {
   "cell_type": "markdown",
   "metadata": {},
   "source": [
    "При первичном анализе переменных мы видим, что формат переменной date неверный, стоит его заменить на datetime для будущего анализа. Так же можно заметить, что во всех выборках много пропущенных значений, с которыми нужно будет что-то сделать перед построением модели. "
   ]
  },
  {
   "cell_type": "code",
   "execution_count": 114,
   "metadata": {},
   "outputs": [],
   "source": [
    "datasets=[df_train, df_test, df_full]\n",
    "for data in datasets:\n",
    "    data['date'] = pd.to_datetime(data['date'])"
   ]
  },
  {
   "cell_type": "markdown",
   "metadata": {},
   "source": [
    "## Анализ данных"
   ]
  },
  {
   "cell_type": "markdown",
   "metadata": {},
   "source": [
    "### Концентрация металлов (Au, Ag, Pb) на различных этапах очистки. "
   ]
  },
  {
   "cell_type": "code",
   "execution_count": 115,
   "metadata": {},
   "outputs": [
    {
     "name": "stdout",
     "output_type": "stream",
     "text": [
      "Концентрация до флотации\n",
      "Ag: 7.8323470598724105 Pb: 3.218930556391918 Au: 7.170717105614575\n",
      "Концентрация после флотации\n",
      "Ag: 10.580474921211186 Pb: 6.880322149168017 Au: 17.401540550165493\n",
      "Концентрация после первичной очистки\n",
      "Ag: 7.42263990344636 Pb: 8.620293905953279 Au: 29.16459553955655\n",
      "Концентрация поле вторичной очистки\n",
      "Ag: 4.71690730577574 Pb: 9.113559091294015 Au: 39.4672174116452\n"
     ]
    }
   ],
   "source": [
    "print('Концентрация до флотации')\n",
    "print('Ag:', df_train['rougher.input.feed_ag'].mean(),'Pb:', df_train['rougher.input.feed_pb'].mean(), 'Au:', df_train['rougher.input.feed_au'].mean())\n",
    "\n",
    "print('Концентрация после флотации')\n",
    "print('Ag:', df_train['rougher.output.concentrate_ag'].mean(),'Pb:', df_train['rougher.output.concentrate_pb'].mean(), 'Au:', df_train['rougher.output.concentrate_au'].mean())\n",
    "\n",
    "print('Концентрация после первичной очистки')\n",
    "print('Ag:', df_train['primary_cleaner.output.concentrate_ag'].mean(),'Pb:', df_train['primary_cleaner.output.concentrate_pb'].mean(), 'Au:', df_train['primary_cleaner.output.concentrate_au'].mean())\n",
    "\n",
    "print('Концентрация поле вторичной очистки')\n",
    "print('Ag:', df_train['final.output.concentrate_ag'].mean(),'Pb:', df_train['final.output.concentrate_pb'].mean(), 'Au:', df_train['final.output.concentrate_au'].mean())\n",
    "\n"
   ]
  },
  {
   "cell_type": "markdown",
   "metadata": {},
   "source": [
    "- При первичном анализе видно, что концентрация золота в руде сильно растет после флотации и очисток.\n",
    "- Концентрация свинца меняется не так сильно, но тоже возрастает на каждом этапе очистки.\n",
    "- Концентрация серебра максимальная после флотации, а на этапах очистки падает ниже, чем была в первоначальной руде."
   ]
  },
  {
   "cell_type": "markdown",
   "metadata": {},
   "source": [
    "<div class=\"alert alert-success\">\n",
    "<font color='green'> \n",
    "<u>КОММЕНТАРИЙ РЕВЬЮЕРА</u>\n",
    "<font color='green'><br>\n",
    "Жалко, что нет удобного графического анализа. Но ведь и тут видно, что золотишко растёт - и это хорошо, кому-то). Серебро падает - это логично, мы же производим золоот)<br>\n",
    "А свинец - побочное дитя химических реакций, поэтому не много увеличивается его содержание)\n",
    "</div>"
   ]
  },
  {
   "cell_type": "markdown",
   "metadata": {},
   "source": [
    "### Распределение размеров гранул сырья на обучающей и тестовой выборках."
   ]
  },
  {
   "cell_type": "code",
   "execution_count": 116,
   "metadata": {},
   "outputs": [
    {
     "name": "stdout",
     "output_type": "stream",
     "text": [
      "train: 58.67644376412422 54.10425711683596\n",
      "test: 55.93753506406803 50.002004130561886\n"
     ]
    }
   ],
   "source": [
    "print('train:', df_train['rougher.input.feed_size'].mean(), df_train['rougher.input.feed_size'].median())\n",
    "print('test:', df_test['rougher.input.feed_size'].mean(), df_test['rougher.input.feed_size'].median())\n"
   ]
  },
  {
   "cell_type": "code",
   "execution_count": 117,
   "metadata": {},
   "outputs": [
    {
     "data": {
      "text/plain": [
       "1.5031805405738098e-29"
      ]
     },
     "execution_count": 117,
     "metadata": {},
     "output_type": "execute_result"
    }
   ],
   "source": [
    "stat, p, med, tbl = median_test(df_train['rougher.input.feed_size'], df_test['rougher.input.feed_size'], nan_policy = 'omit')\n",
    "p"
   ]
  },
  {
   "cell_type": "markdown",
   "metadata": {},
   "source": [
    "pvalue < 0,05 следовательно медианы отличаются в тренировочной и тестовых выборках, однако это может быть обусловленно разным размером выборок и разным числом пропусков в них."
   ]
  },
  {
   "cell_type": "code",
   "execution_count": 118,
   "metadata": {},
   "outputs": [
    {
     "data": {
      "text/plain": [
       "LeveneResult(statistic=1.8329608085952822, pvalue=0.17579196524125687)"
      ]
     },
     "execution_count": 118,
     "metadata": {},
     "output_type": "execute_result"
    }
   ],
   "source": [
    "levene(df_train['rougher.input.feed_size'].dropna(), df_test['rougher.input.feed_size'].dropna())"
   ]
  },
  {
   "cell_type": "markdown",
   "metadata": {},
   "source": [
    "pvalue > 0,05 следовательно дисперсии расспределения размеров гранул равны в тренировочной и тестовых выборках."
   ]
  },
  {
   "cell_type": "code",
   "execution_count": 119,
   "metadata": {},
   "outputs": [
    {
     "data": {
      "text/plain": [
       "Text(0.5, 1.0, 'test')"
      ]
     },
     "execution_count": 119,
     "metadata": {},
     "output_type": "execute_result"
    },
    {
     "data": {
      "image/png": "[encoded data removed]",
      "text/plain": [
       "<Figure size 1440x720 with 2 Axes>"
      ]
     },
     "metadata": {
      "needs_background": "light"
     },
     "output_type": "display_data"
    }
   ],
   "source": [
    "fig, ((train, test)) = plt.subplots(nrows=1, ncols=2, figsize=(20,10))\n",
    "train.hist(df_train['rougher.input.feed_size'], bins=100)\n",
    "train.set_title('train')\n",
    "test.hist(df_test['rougher.input.feed_size'], bins=100)\n",
    "test.set_title('test')"
   ]
  },
  {
   "cell_type": "markdown",
   "metadata": {},
   "source": [
    "- Визуально расспределения отличаются не сильно, у обоих наибольшее колличество значений рассположено в районе 50-60, медианные и \n",
    "- Дисперсии расспределений значимо не отличаются.\n",
    "- Медиана и среднее в тренировочной выборке больше, чем в тренировочной."
   ]
  },
  {
   "cell_type": "markdown",
   "metadata": {},
   "source": [
    "<div class=\"alert alert-success\">\n",
    "<font color='green'> \n",
    "<u>КОММЕНТАРИЙ РЕВЬЮЕРА</u>\n",
    "<font color='green'><br>ОК,  верно, распределение для тестовой выборки немного отличается от такового для обучающей - первое сдвинуто немного в меньшую сторону (и анализ р-уровня тобой проведён), НО в целом размеры большинства частиц лежат в оптимальном интервале  40—100 мкм  («Флотация руды»: ООО \"Техноаналитприбор\":[сайт].URL:https://techade.ru/stati/flotatsiya-rudy) для обоих выборок. Поэтому, да, выборки подходят для оценки.\n",
    "</div>"
   ]
  },
  {
   "cell_type": "markdown",
   "metadata": {},
   "source": [
    "### Cуммарная концентрация всех веществ на разных стадиях"
   ]
  },
  {
   "cell_type": "code",
   "execution_count": 120,
   "metadata": {},
   "outputs": [
    {
     "data": {
      "text/html": [
       "<div>\n",
       "<style scoped>\n",
       "    .dataframe tbody tr th:only-of-type {\n",
       "        vertical-align: middle;\n",
       "    }\n",
       "\n",
       "    .dataframe tbody tr th {\n",
       "        vertical-align: top;\n",
       "    }\n",
       "\n",
       "    .dataframe thead th {\n",
       "        text-align: right;\n",
       "    }\n",
       "</style>\n",
       "<table border=\"1\" class=\"dataframe\">\n",
       "  <thead>\n",
       "    <tr style=\"text-align: right;\">\n",
       "      <th></th>\n",
       "      <th>rougher</th>\n",
       "      <th>primary_cleaner</th>\n",
       "      <th>secondary_cleaner</th>\n",
       "      <th>final</th>\n",
       "    </tr>\n",
       "  </thead>\n",
       "  <tbody>\n",
       "    <tr>\n",
       "      <td>0</td>\n",
       "      <td>14.871440</td>\n",
       "      <td>38.395653</td>\n",
       "      <td>53.111627</td>\n",
       "      <td>58.137072</td>\n",
       "    </tr>\n",
       "    <tr>\n",
       "      <td>1</td>\n",
       "      <td>14.905729</td>\n",
       "      <td>38.945647</td>\n",
       "      <td>53.174338</td>\n",
       "      <td>58.699942</td>\n",
       "    </tr>\n",
       "    <tr>\n",
       "      <td>2</td>\n",
       "      <td>14.638299</td>\n",
       "      <td>38.649756</td>\n",
       "      <td>52.927464</td>\n",
       "      <td>58.927421</td>\n",
       "    </tr>\n",
       "    <tr>\n",
       "      <td>3</td>\n",
       "      <td>14.199305</td>\n",
       "      <td>38.411473</td>\n",
       "      <td>43.979185</td>\n",
       "      <td>58.714815</td>\n",
       "    </tr>\n",
       "    <tr>\n",
       "      <td>4</td>\n",
       "      <td>13.511497</td>\n",
       "      <td>38.867359</td>\n",
       "      <td>52.121146</td>\n",
       "      <td>59.065251</td>\n",
       "    </tr>\n",
       "    <tr>\n",
       "      <td>...</td>\n",
       "      <td>...</td>\n",
       "      <td>...</td>\n",
       "      <td>...</td>\n",
       "      <td>...</td>\n",
       "    </tr>\n",
       "    <tr>\n",
       "      <td>22711</td>\n",
       "      <td>16.045275</td>\n",
       "      <td>40.712449</td>\n",
       "      <td>51.945355</td>\n",
       "      <td>61.295107</td>\n",
       "    </tr>\n",
       "    <tr>\n",
       "      <td>22712</td>\n",
       "      <td>15.104931</td>\n",
       "      <td>40.755632</td>\n",
       "      <td>52.161648</td>\n",
       "      <td>61.412113</td>\n",
       "    </tr>\n",
       "    <tr>\n",
       "      <td>22713</td>\n",
       "      <td>14.515579</td>\n",
       "      <td>32.589863</td>\n",
       "      <td>51.619196</td>\n",
       "      <td>61.340054</td>\n",
       "    </tr>\n",
       "    <tr>\n",
       "      <td>22714</td>\n",
       "      <td>14.313448</td>\n",
       "      <td>40.148948</td>\n",
       "      <td>50.273714</td>\n",
       "      <td>61.401016</td>\n",
       "    </tr>\n",
       "    <tr>\n",
       "      <td>22715</td>\n",
       "      <td>14.399936</td>\n",
       "      <td>40.465768</td>\n",
       "      <td>49.544487</td>\n",
       "      <td>61.635645</td>\n",
       "    </tr>\n",
       "  </tbody>\n",
       "</table>\n",
       "<p>22716 rows × 4 columns</p>\n",
       "</div>"
      ],
      "text/plain": [
       "         rougher  primary_cleaner  secondary_cleaner      final\n",
       "0      14.871440        38.395653          53.111627  58.137072\n",
       "1      14.905729        38.945647          53.174338  58.699942\n",
       "2      14.638299        38.649756          52.927464  58.927421\n",
       "3      14.199305        38.411473          43.979185  58.714815\n",
       "4      13.511497        38.867359          52.121146  59.065251\n",
       "...          ...              ...                ...        ...\n",
       "22711  16.045275        40.712449          51.945355  61.295107\n",
       "22712  15.104931        40.755632          52.161648  61.412113\n",
       "22713  14.515579        32.589863          51.619196  61.340054\n",
       "22714  14.313448        40.148948          50.273714  61.401016\n",
       "22715  14.399936        40.465768          49.544487  61.635645\n",
       "\n",
       "[22716 rows x 4 columns]"
      ]
     },
     "execution_count": 120,
     "metadata": {},
     "output_type": "execute_result"
    }
   ],
   "source": [
    "frame = {'rougher': df_full[['rougher.input.feed_au', 'rougher.input.feed_ag', 'rougher.input.feed_pb']].sum(axis=1), \n",
    "             'primary_cleaner': df_full[['rougher.output.concentrate_au', 'rougher.output.concentrate_ag', 'rougher.output.concentrate_pb']].sum(axis=1),\n",
    "            'secondary_cleaner': df_full[['primary_cleaner.output.concentrate_au', 'primary_cleaner.output.concentrate_ag', 'primary_cleaner.output.concentrate_pb']].sum(axis=1),\n",
    "            'final': df_full[['final.output.concentrate_au', 'final.output.concentrate_ag', 'final.output.concentrate_pb']].sum(axis=1)}\n",
    "sum_result = pd.DataFrame(frame)\n",
    "sum_result"
   ]
  },
  {
   "cell_type": "code",
   "execution_count": 121,
   "metadata": {},
   "outputs": [],
   "source": [
    "def distribution(data):\n",
    "    fig, ((ax0, ax1, ax2, ax3)) = plt.subplots(nrows=1, ncols=4, figsize=(18,8))\n",
    "    ax0.hist(data.rougher, bins = 100)\n",
    "    ax0.set_title('руда')\n",
    "    ax1.hist(data.primary_cleaner, bins = 100)\n",
    "    ax1.set_title('черновой концентрат')\n",
    "    ax2.hist(data.secondary_cleaner, bins = 100)\n",
    "    ax2.set_title('концентрат после очистки')\n",
    "    ax3.hist(data.final, bins = 100)\n",
    "    ax3.set_title('финальный концентрат')\n",
    "\n",
    "    fig.text(0.5, 0.04, 'суммарная концентрация веществ', ha='center')\n",
    "    fig.text(0.04, 0.5, 'число наблюдений', va='center', rotation='vertical')"
   ]
  },
  {
   "cell_type": "code",
   "execution_count": 122,
   "metadata": {},
   "outputs": [],
   "source": [
    "def boxplot(data):\n",
    "    fig, ((ax0, ax1, ax2, ax3)) = plt.subplots(nrows=1, ncols=4, figsize=(18,8))\n",
    "    ax0.boxplot(data.rougher)\n",
    "    ax0.set_title('руда')\n",
    "    ax1.boxplot(data.primary_cleaner)\n",
    "    ax1.set_title('черновой концентрат')\n",
    "    ax2.boxplot(data.secondary_cleaner)\n",
    "    ax2.set_title('концентрат после очистки')\n",
    "    ax3.boxplot(data.final)\n",
    "    ax3.set_title('финальный концентрат')"
   ]
  },
  {
   "cell_type": "code",
   "execution_count": 123,
   "metadata": {},
   "outputs": [
    {
     "data": {
      "image/png": "[encoded data removed]",
      "text/plain": [
       "<Figure size 1296x576 with 4 Axes>"
      ]
     },
     "metadata": {
      "needs_background": "light"
     },
     "output_type": "display_data"
    }
   ],
   "source": [
    "distribution(sum_result)"
   ]
  },
  {
   "cell_type": "code",
   "execution_count": 124,
   "metadata": {},
   "outputs": [
    {
     "data": {
      "image/png": "[encoded data removed]",
      "text/plain": [
       "<Figure size 1296x576 with 4 Axes>"
      ]
     },
     "metadata": {
      "needs_background": "light"
     },
     "output_type": "display_data"
    }
   ],
   "source": [
    "boxplot(sum_result)"
   ]
  },
  {
   "cell_type": "markdown",
   "metadata": {},
   "source": [
    "На всех стадиях есть значения равные 0. У расспределений после флотации и очисток становятся тяжелые хвосты. Отфильтруем все аномально малые значения и 0. Попробуем удалить их в тренировочной выборке и посмотрим улучшит ли это качество нашей модели."
   ]
  },
  {
   "cell_type": "code",
   "execution_count": 125,
   "metadata": {},
   "outputs": [],
   "source": [
    "columns = ['rougher.input.feed_au', 'rougher.input.feed_ag', 'rougher.input.feed_pb', 'rougher.output.concentrate_au', 'rougher.output.concentrate_ag', 'rougher.output.concentrate_pb',\n",
    "          'primary_cleaner.output.concentrate_au', 'primary_cleaner.output.concentrate_ag', 'primary_cleaner.output.concentrate_pb',\n",
    "          'final.output.concentrate_au', 'final.output.concentrate_ag', 'final.output.concentrate_pb']\n",
    "\n",
    "df_train_best = df_train\n",
    "for column in columns:\n",
    "    l = df_train[column].quantile(0.01)\n",
    "    h  = df_train[column].quantile(0.99)\n",
    "    df_train_best[column] = df_train[column].apply(lambda x: x if ( ( (x < h) & (x>l) ) | (x == 0.0)) else np.nan)"
   ]
  },
  {
   "cell_type": "code",
   "execution_count": null,
   "metadata": {},
   "outputs": [],
   "source": []
  },
  {
   "cell_type": "markdown",
   "metadata": {},
   "source": [
    "<div class=\"alert alert-success\">\n",
    "<font color='green'> \n",
    "<u>КОММЕНТАРИЙ РЕВЬЮЕРА</u>\n",
    "<font color='green'><br>\n",
    "ОК, Ещё пару строк по выбросам: в некоторых проектах - это важно, избавиться от выбросов<br>\n",
    "\n",
    "И вот если обратиться к нашему проекту:<br>\n",
    "1) Есть нулевые аномалии в суммарных концентрациях - и их надо \"убить\". Дело в том, что предполагается, что хоть грамм чего-нибудь но есть в руде. А если мы имеем ноль, значит большая вероятность неточности измерений.<br>\n",
    "    \n",
    "2)А вот с выбросами как в приниципе..<br>\n",
    "Тут на обсуждение: наша цель - предсказывать модель на реальных данных. И вот эти выбросы - это и есть реальная концентрация. И нам важно, чтобы модель умела и их тоже видеть и обрабатывать. Если их убрать из модели, то получится, что у нас она станет как бы искусственной. Т.е. будет работать только в небольших диапазонах - потому что обучалась только в них.<br>\n",
    "    \n",
    "Поэтому, тут так: выбросы - это не всегда то, от чего надо избавляться))) Ещё зависит от бизнес-задачи.<br>\n",
    "    \n",
    "Кстати<br>\n",
    "если говорить о теории выбросов с помощью графика \"ящик с усами\", то вот это интервал q3+-1.5*iqr говорит действильно о них самых<br>\n",
    "Но нет рекоммендаций к их удалению. Говорят так \"на усмотрение бизнеса\".<br>\n",
    "А вот если взять вот этот интервал q3+3*iqr:  то тут уж с очень высокой вероятность можно говорить о грубых выбросах.\n",
    "</div>"
   ]
  },
  {
   "cell_type": "markdown",
   "metadata": {},
   "source": [
    "## Модель"
   ]
  },
  {
   "cell_type": "markdown",
   "metadata": {},
   "source": [
    "### Функция для вычисления итоговой sMAPE"
   ]
  },
  {
   "cell_type": "code",
   "execution_count": 126,
   "metadata": {},
   "outputs": [],
   "source": [
    "def smape(target, predictions):\n",
    "    summ = ((abs(target - predictions)) / ((abs(target) + abs(predictions)) / 2)).sum()\n",
    "    smape = ((1 / len(target)) * summ) * 100\n",
    "    return smape"
   ]
  },
  {
   "cell_type": "code",
   "execution_count": 127,
   "metadata": {},
   "outputs": [],
   "source": [
    "def finalsmape(smape_rougher, smape_final):\n",
    "    final_smape = 0.25 * smape_rougher + 0.75 * smape_final\n",
    "    return final_smape"
   ]
  },
  {
   "cell_type": "markdown",
   "metadata": {},
   "source": [
    "<div class=\"alert alert-success\">\n",
    "<font color='green'> \n",
    "<u>КОММЕНТАРИЙ РЕВЬЮЕРА</u>\n",
    "<font color='red'><br>\n",
    "тут, скорее всего, описка в формуле (в знаменателе)... посмотри, пожалуйста.\n",
    "</div>"
   ]
  },
  {
   "cell_type": "markdown",
   "metadata": {},
   "source": [
    "### Разные модели и оцените их качество"
   ]
  },
  {
   "cell_type": "code",
   "execution_count": 128,
   "metadata": {},
   "outputs": [],
   "source": [
    "# Создадим копии датасетов\n",
    "train_copy = df_train_best.copy(deep=True)\n",
    "test_copy = df_test.copy(deep=True)\n",
    "full_copy = df_full.copy(deep=True)"
   ]
  },
  {
   "cell_type": "code",
   "execution_count": 129,
   "metadata": {},
   "outputs": [],
   "source": [
    "df_train_best = df_train_best.dropna()\n",
    "df_test = df_test.dropna()\n",
    "df_full = df_full.dropna()"
   ]
  },
  {
   "cell_type": "code",
   "execution_count": 130,
   "metadata": {},
   "outputs": [
    {
     "name": "stderr",
     "output_type": "stream",
     "text": [
      "/opt/conda/lib/python3.7/site-packages/pandas/core/frame.py:4102: SettingWithCopyWarning: \n",
      "A value is trying to be set on a copy of a slice from a DataFrame\n",
      "\n",
      "See the caveats in the documentation: http://pandas.pydata.org/pandas-docs/stable/user_guide/indexing.html#returning-a-view-versus-a-copy\n",
      "  errors=errors,\n"
     ]
    }
   ],
   "source": [
    "#Удалим признаки, которые отсутсвуют в тестовой выборке и по которым мы все равно не сможем выносить суждения.\n",
    "df_train_best.drop(miss_col, axis=1, inplace=True)"
   ]
  },
  {
   "cell_type": "markdown",
   "metadata": {},
   "source": [
    "<div class=\"alert alert-success\">\n",
    "<font color='green'> \n",
    "<u>КОММЕНТАРИЙ РЕВЬЮЕРА</u>\n",
    "</font>\n",
    "<font color='green'><br>\n",
    "Такая команда (можно поместить в самое начало тетрадки) иногда может помочь не выводить предупреждения)<br>\n",
    "import warnings<br>\n",
    "warnings.filterwarnings('ignore')<br>\n",
    "</div>"
   ]
  },
  {
   "cell_type": "markdown",
   "metadata": {},
   "source": [
    "<div class=\"alert alert-success\">\n",
    "<font color='green'> \n",
    "<u>КОММЕНТАРИЙ РЕВЬЮЕРА</u>\n",
    "<font color='green'><br>да!!!! эти столбцы точно нужно удалять.\n",
    "</div>"
   ]
  },
  {
   "cell_type": "code",
   "execution_count": 131,
   "metadata": {},
   "outputs": [],
   "source": [
    "# Добавим target из полного набора данных\n",
    "train = df_train_best.merge(df_full[['date', 'rougher.output.recovery', 'final.output.recovery']], how = 'left', on = 'date')\n",
    "test = df_test.merge(df_full[['date', 'rougher.output.recovery', 'final.output.recovery']], how = 'left', on = 'date')"
   ]
  },
  {
   "cell_type": "code",
   "execution_count": 132,
   "metadata": {},
   "outputs": [],
   "source": [
    "#Разделим выборки на фичи и целевые признаки\n",
    "target_train = train[['rougher.output.recovery', 'final.output.recovery']]\n",
    "features_train = train.drop(['rougher.output.recovery', 'final.output.recovery', 'date'], axis=1)\n",
    "\n",
    "\n",
    "target_test = test[['rougher.output.recovery','final.output.recovery']]\n",
    "features_test = test.drop(['rougher.output.recovery', 'final.output.recovery', 'date'], axis=1)"
   ]
  },
  {
   "cell_type": "code",
   "execution_count": 133,
   "metadata": {},
   "outputs": [],
   "source": [
    "scaler = MinMaxScaler()\n",
    "cols_train = features_train.columns\n",
    "cols_test = features_test.columns\n",
    "\n",
    "features_train_scaled = pd.DataFrame(scaler.fit_transform(features_train[cols_train]))\n",
    "features_test_scaled = pd.DataFrame(scaler.fit_transform(features_test[cols_test]))"
   ]
  },
  {
   "cell_type": "code",
   "execution_count": 134,
   "metadata": {},
   "outputs": [],
   "source": [
    "target_train_r = target_train['rougher.output.recovery']\n",
    "target_train_f = target_train['final.output.recovery']\n",
    "\n",
    "target_test_r = target_test['rougher.output.recovery']\n",
    "target_test_f = target_test['final.output.recovery']"
   ]
  },
  {
   "cell_type": "code",
   "execution_count": 135,
   "metadata": {},
   "outputs": [],
   "source": [
    "#target_train_encoded_r = lab_enc.fit_transform(target_train['rougher.output.recovery'])\n",
    "#target_train_encoded_f = lab_enc.fit_transform(target_train['final.output.recovery'])\n",
    "\n",
    "#target_test_encoded_r = lab_enc.fit_transform(target_test['rougher.output.recovery'])\n",
    "#target_test_encoded_f = lab_enc.fit_transform(target_test['final.output.recovery'])"
   ]
  },
  {
   "cell_type": "code",
   "execution_count": 136,
   "metadata": {},
   "outputs": [
    {
     "data": {
      "text/plain": [
       "((10077, 52), (5383, 52))"
      ]
     },
     "execution_count": 136,
     "metadata": {},
     "output_type": "execute_result"
    }
   ],
   "source": [
    "features_train.shape, features_test.shape"
   ]
  },
  {
   "cell_type": "markdown",
   "metadata": {},
   "source": [
    "Инициализируем базовую модель, чтобы посмотреть выше какого значения нам нужно достичь."
   ]
  },
  {
   "cell_type": "code",
   "execution_count": 137,
   "metadata": {},
   "outputs": [],
   "source": [
    "dummy_median = DummyRegressor(strategy='mean')"
   ]
  },
  {
   "cell_type": "code",
   "execution_count": 138,
   "metadata": {},
   "outputs": [],
   "source": [
    "dummy_median.fit(features_train_scaled, target_train_r)\n",
    "predictions_rough = dummy_median.predict(features_test_scaled)\n",
    "\n",
    "dummy_median.fit(features_train_scaled, target_train_f)\n",
    "predictions_final = dummy_median.predict(features_test_scaled)\n"
   ]
  },
  {
   "cell_type": "code",
   "execution_count": 139,
   "metadata": {},
   "outputs": [
    {
     "data": {
      "text/plain": [
       "8.571744008411654"
      ]
     },
     "execution_count": 139,
     "metadata": {},
     "output_type": "execute_result"
    }
   ],
   "source": [
    "finalsmape(smape(target_test_r, predictions_rough),smape(target_test_f, predictions_final))"
   ]
  },
  {
   "cell_type": "markdown",
   "metadata": {},
   "source": [
    "#### Поиск лучшей модели"
   ]
  },
  {
   "cell_type": "code",
   "execution_count": 140,
   "metadata": {},
   "outputs": [],
   "source": [
    "model_rf = make_pipeline(StandardScaler(),RandomForestRegressor())\n",
    "model_dt = make_pipeline(StandardScaler(),DecisionTreeRegressor())"
   ]
  },
  {
   "cell_type": "code",
   "execution_count": 141,
   "metadata": {},
   "outputs": [],
   "source": [
    "parameters_rf = {\"randomforestregressor__n_estimators\":[5,150],\n",
    "             \"randomforestregressor__max_depth\":[1,10]}\n",
    "parameters_dt = {\"decisiontreeregressor__max_depth\":[1,10]}"
   ]
  },
  {
   "cell_type": "code",
   "execution_count": 142,
   "metadata": {},
   "outputs": [],
   "source": [
    "smape_score = make_scorer(smape,greater_is_better=False)"
   ]
  },
  {
   "cell_type": "code",
   "execution_count": 143,
   "metadata": {},
   "outputs": [],
   "source": [
    "grid_r_rf = GridSearchCV(model_rf,param_grid = parameters_rf, scoring=smape_score)\n",
    "grid_f_rf  = GridSearchCV(model_rf,param_grid = parameters_rf, scoring=smape_score)\n",
    "\n",
    "grid_r_dt = GridSearchCV(model_dt,param_grid = parameters_dt, scoring=smape_score)\n",
    "grid_f_dt = GridSearchCV(model_dt,param_grid = parameters_dt, scoring=smape_score)"
   ]
  },
  {
   "cell_type": "code",
   "execution_count": 144,
   "metadata": {},
   "outputs": [
    {
     "name": "stderr",
     "output_type": "stream",
     "text": [
      "/opt/conda/lib/python3.7/site-packages/sklearn/model_selection/_split.py:1978: FutureWarning: The default value of cv will change from 3 to 5 in version 0.22. Specify it explicitly to silence this warning.\n",
      "  warnings.warn(CV_WARNING, FutureWarning)\n",
      "/opt/conda/lib/python3.7/site-packages/sklearn/model_selection/_split.py:1978: FutureWarning: The default value of cv will change from 3 to 5 in version 0.22. Specify it explicitly to silence this warning.\n",
      "  warnings.warn(CV_WARNING, FutureWarning)\n",
      "/opt/conda/lib/python3.7/site-packages/sklearn/model_selection/_split.py:1978: FutureWarning: The default value of cv will change from 3 to 5 in version 0.22. Specify it explicitly to silence this warning.\n",
      "  warnings.warn(CV_WARNING, FutureWarning)\n",
      "/opt/conda/lib/python3.7/site-packages/sklearn/model_selection/_split.py:1978: FutureWarning: The default value of cv will change from 3 to 5 in version 0.22. Specify it explicitly to silence this warning.\n",
      "  warnings.warn(CV_WARNING, FutureWarning)\n"
     ]
    },
    {
     "data": {
      "text/plain": [
       "GridSearchCV(cv='warn', error_score='raise-deprecating',\n",
       "             estimator=Pipeline(memory=None,\n",
       "                                steps=[('standardscaler',\n",
       "                                        StandardScaler(copy=True,\n",
       "                                                       with_mean=True,\n",
       "                                                       with_std=True)),\n",
       "                                       ('decisiontreeregressor',\n",
       "                                        DecisionTreeRegressor(criterion='mse',\n",
       "                                                              max_depth=None,\n",
       "                                                              max_features=None,\n",
       "                                                              max_leaf_nodes=None,\n",
       "                                                              min_impurity_decrease=0.0,\n",
       "                                                              min_impurity_split=None,\n",
       "                                                              min_samples_leaf=1,\n",
       "                                                              min_samples_split=2,\n",
       "                                                              min_weight_fraction_leaf=0.0,\n",
       "                                                              presort=False,\n",
       "                                                              random_state=None,\n",
       "                                                              splitter='best'))],\n",
       "                                verbose=False),\n",
       "             iid='warn', n_jobs=None,\n",
       "             param_grid={'decisiontreeregressor__max_depth': [1, 10]},\n",
       "             pre_dispatch='2*n_jobs', refit=True, return_train_score=False,\n",
       "             scoring=make_scorer(smape, greater_is_better=False), verbose=0)"
      ]
     },
     "execution_count": 144,
     "metadata": {},
     "output_type": "execute_result"
    }
   ],
   "source": [
    "grid_r_rf.fit(features_train_scaled,target_train_r)\n",
    "grid_f_rf.fit(features_train_scaled,target_train_f)\n",
    "\n",
    "grid_r_dt.fit(features_train_scaled,target_train_r)\n",
    "grid_f_dt.fit(features_train_scaled,target_train_f)"
   ]
  },
  {
   "cell_type": "code",
   "execution_count": 145,
   "metadata": {},
   "outputs": [
    {
     "name": "stdout",
     "output_type": "stream",
     "text": [
      "Random forest scores\n",
      "-12.432023154608812\n",
      "-8.586870276792189\n",
      "Decision tree scores\n",
      "-12.491203620779027\n",
      "-8.5962455024251\n"
     ]
    }
   ],
   "source": [
    "print('Random forest scores')\n",
    "print(grid_r_rf.best_score_)\n",
    "print(grid_f_rf.best_score_)\n",
    "\n",
    "print('Decision tree scores')\n",
    "print(grid_r_dt.best_score_)\n",
    "print(grid_f_dt.best_score_)"
   ]
  },
  {
   "cell_type": "markdown",
   "metadata": {},
   "source": [
    "У случайного леса меньше ошибка, следовательно выберем его как лучшую модель."
   ]
  },
  {
   "cell_type": "code",
   "execution_count": 146,
   "metadata": {},
   "outputs": [],
   "source": [
    "predictions_rough = grid_r_rf.predict(features_test_scaled)\n",
    "predictions_final = grid_f_rf.predict(features_test_scaled)"
   ]
  },
  {
   "cell_type": "code",
   "execution_count": 147,
   "metadata": {},
   "outputs": [
    {
     "data": {
      "text/plain": [
       "13.254200967145"
      ]
     },
     "execution_count": 147,
     "metadata": {},
     "output_type": "execute_result"
    }
   ],
   "source": [
    "finalsmape(smape(target_test_r, predictions_rough),smape(target_test_f, predictions_final))"
   ]
  },
  {
   "cell_type": "markdown",
   "metadata": {},
   "source": [
    "У случайного леса финальная ошибка больше, чем у дефолтной модели, попробуем более простые модели линейной регрессии и lasso."
   ]
  },
  {
   "cell_type": "code",
   "execution_count": 148,
   "metadata": {},
   "outputs": [
    {
     "data": {
      "text/plain": [
       "15.403905306738254"
      ]
     },
     "execution_count": 148,
     "metadata": {},
     "output_type": "execute_result"
    }
   ],
   "source": [
    "reg_r = LinearRegression()\n",
    "reg_f = LinearRegression()\n",
    "\n",
    "reg_r.fit(features_train_scaled,target_train_r)\n",
    "reg_f.fit(features_train_scaled,target_train_f)\n",
    "\n",
    "predictions_rough = reg_r.predict(features_test_scaled)\n",
    "predictions_final = reg_f.predict(features_test_scaled)\n",
    "\n",
    "finalsmape(smape(target_test_r, predictions_rough),smape(target_test_f, predictions_final))"
   ]
  },
  {
   "cell_type": "code",
   "execution_count": 149,
   "metadata": {},
   "outputs": [
    {
     "data": {
      "text/plain": [
       "8.042108343834851"
      ]
     },
     "execution_count": 149,
     "metadata": {},
     "output_type": "execute_result"
    }
   ],
   "source": [
    "reg_lasso_r = linear_model.Lasso(alpha=0.1)\n",
    "reg_lasso_f = linear_model.Lasso(alpha=0.1)\n",
    "\n",
    "reg_lasso_r.fit(features_train_scaled,target_train_r)\n",
    "reg_lasso_f.fit(features_train_scaled,target_train_f)\n",
    "\n",
    "predictions_rough = reg_lasso_r.predict(features_test_scaled)\n",
    "predictions_final = reg_lasso_f.predict(features_test_scaled)\n",
    "\n",
    "finalsmape(smape(target_test_r, predictions_rough),smape(target_test_f, predictions_final))"
   ]
  },
  {
   "cell_type": "markdown",
   "metadata": {},
   "source": [
    "Lasso лучшая модель, так как ошибка меньше, чем у дефолтной модели."
   ]
  },
  {
   "cell_type": "markdown",
   "metadata": {},
   "source": [
    "В результате анализа мы определили: \n",
    "- Концентрация золота в руде возрастает по мере обработки\n",
    "- Размер гранул не отличается в тестовой и тренировочных выборках\n",
    "- По мере очищения руды в данных накапливаются нулевые и аномально малые значения, от них лучше избавиться для более успешного обучения модели.\n",
    "\n",
    "Была найдена модель с минимальным симметричным средним абсолютным процентным отклонением, этой моделью стала модель Lasso, ее отклонение равняется всего 8.04."
   ]
  },
  {
   "cell_type": "markdown",
   "metadata": {},
   "source": [
    "<div class=\"alert alert-success\">\n",
    "<font color='green'> \n",
    "    <b><u>КОММЕНТАРИЙ РЕВЬЮЕРА</u></b>\n",
    "<font color='green'><br>\n",
    "Анастасия, интересную работу ты провела.<br>\n",
    "Понятно, логично, вдумчиво<br>\n",
    "Видна хорошая предвариателная работа с данными, уместный графический анализ, осмысленная аналитика и дельная модельная работа - многое удалось как надо)<br>\n",
    "    \n",
    "Хорошо, что есть сравнение с константной моделью!<br>\n",
    "<font color='red'>\n",
    "Есть всего пару вопросов для дополнений:<br>\n",
    "1) Описка в формуле метрики (именно поэтому такая малая ошибка выходит)<br>\n",
    "2) Количество строк в трайне: там сейчас всего окло 5000 строк осталось.<br>\n",
    "Слишком, мне кажется, урезалось) Посмотри этот момент ещё раз, пожалуйста. (обычно ожидается в районе 10000)\n",
    "    \n",
    "<font color='green'>    \n",
    "Спасибо)<br>\n",
    "БУДУ ЖДАТЬ КОММЕНТАРИЕВ!\n",
    "</div>"
   ]
  },
  {
   "cell_type": "markdown",
   "metadata": {},
   "source": [
    "Формулу поправила, там что-то я в скобках запуталась :))) Выбросы стала не так строго резать. Но все-равно не понимаю, почему все модели, кроме Lasso так плохо справляются. "
   ]
  },
  {
   "cell_type": "markdown",
   "metadata": {},
   "source": [
    "<div class=\"alert alert-success\">\n",
    "<font color='green'> \n",
    "<u>КОММЕНТАРИЙ РЕВЬЮЕРА 2</u>\n",
    "<font color='green'><br>\n",
    "ОК, Анастасия, увидел твои доработки.<br>\n",
    "   \n",
    "По поводу того, что разные модели считают с разной точностью: у каждого в этой жизни своё предназначение:). Поэтому и пробуем разные модели, что могут быть разные результаты).<br><br>   \n",
    "    \n",
    "Разница средних метрик между нашей моедлью лассо и константной - совсем не большая. И тут сложно говорить кто лучше/хуже ...(по идее, если хотим точно выяснить - надо испрользовать проверку гипотез мз спринта 4, т.е. сраниваем средние с учётом разброса данных)\n",
    "На мой взгляд метрики - примерно одинаковые. И это допустимо в этом проекте). Что же тогда ещё для дальнейшего улучшения качества моделирования возможно сделать?<br>    \n",
    "\n",
    "Попробовал систематизировать:<br>\n",
    "1) качество данных на входе: ещё раз оценить аномалии, пропуски, соответствие физике (правдиво ли всё)<br>\n",
    "2) Работа с моделями:<br>\n",
    "- Генерация и поиск бизнес-факторов для моделирования: возможно что-то упустили, или придумать что-то гибридное из имеющихся факторов... В общем ещё раз пройтись по бизнес-цепочке процесса<br>\n",
    "- Подбор самих моделей. показателей самих моделей <br>\n",
    "- Подбор параметров выбранных показателей у выбранных моделей <br>\n",
    "    \n",
    "3)Плюс, есть же ещё параметры самого процесса: температура, скорость конвейера, сила удара чего-то там....<br> Они тоже могут помочь<br>\n",
    "4) ну и разобраться ещё раз с физическими и производственными процессами. ВОзможно приниципиально иное решение можно создать.<br> \n",
    "    \n",
    "В общем-то другого и нет. Только такие возможности.<br>\n",
    "Если углубится в так называемый \"Статистический анализ данных\" (SPC) - по сути это превариетльная подготовка данных в этом проекте, можно найти какое-нибудь решение<br>\n",
    "\n",
    "Но цель проекта достигнута:<br>\n",
    "1) пройдены важные этапы построения производственной модели<br>\n",
    "2) возникло много дополнительных вопросов))\n",
    "\n",
    "Спасибо за работу) УСПЕШНОГО ДАЛЬНЕЙШЕГО ОБУЧЕНИЯ!\n",
    "</div>"
   ]
  },
  {
   "cell_type": "code",
   "execution_count": null,
   "metadata": {},
   "outputs": [],
   "source": []
  },
  {
   "cell_type": "markdown",
   "metadata": {},
   "source": [
    "## Чек-лист готовности проекта"
   ]
  },
  {
   "cell_type": "markdown",
   "metadata": {},
   "source": [
    "- [x]  Jupyter Notebook открыт\n",
    "- [x]  Весь код выполняется без ошибок\n",
    "- [x]  Ячейки с кодом расположены в порядке выполнения\n",
    "- [x]  Выполнен шаг 1: данные подготовлены\n",
    "    - [x]  Проверена формула вычисления эффективности обогащения\n",
    "    - [x]  Проанализированы признаки, недоступные в тестовой выборке\n",
    "    - [x]  Проведена предобработка данных\n",
    "- [x]  Выполнен шаг 2: данные проанализированы\n",
    "    - [x]  Исследовано изменение концентрации элементов на каждом этапе\n",
    "    - [x]  Проанализированы распределения размеров гранул на обучающей и тестовой выборках\n",
    "    - [x]  Исследованы суммарные концентрации\n",
    "    - [x]  Проанализированы и обработаны аномальные значения\n",
    "- [x]  Выполнен шаг 3: построена модель прогнозирования\n",
    "    - [x]  Написана функция для вычисления итогового *sMAPE*\n",
    "    - [x]  Обучено и проверено несколько моделей\n",
    "    - [x]  Выбрана лучшая модель, её качество проверено на тестовой выборке"
   ]
  }
 ],
 "metadata": {
  "ExecuteTimeLog": [
   {
    "duration": 1666,
    "start_time": "2021-06-09T06:33:47.322Z"
   },
   {
    "duration": 1024,
    "start_time": "2021-06-09T06:33:48.991Z"
   },
   {
    "duration": 5,
    "start_time": "2021-06-09T06:34:42.463Z"
   },
   {
    "duration": 11,
    "start_time": "2021-06-09T06:34:42.471Z"
   },
   {
    "duration": 9,
    "start_time": "2021-06-09T06:34:42.485Z"
   },
   {
    "duration": 12,
    "start_time": "2021-06-09T06:34:42.625Z"
   },
   {
    "duration": 7,
    "start_time": "2021-06-09T06:36:01.270Z"
   },
   {
    "duration": 61,
    "start_time": "2021-06-09T06:38:01.039Z"
   },
   {
    "duration": 26,
    "start_time": "2021-06-09T06:38:02.773Z"
   },
   {
    "duration": 19,
    "start_time": "2021-06-09T06:38:18.245Z"
   },
   {
    "duration": 9,
    "start_time": "2021-06-09T06:38:19.452Z"
   },
   {
    "duration": 7,
    "start_time": "2021-06-09T06:38:19.637Z"
   },
   {
    "duration": 9,
    "start_time": "2021-06-09T06:38:20.005Z"
   },
   {
    "duration": 1370,
    "start_time": "2021-06-09T06:38:20.348Z"
   },
   {
    "duration": 32,
    "start_time": "2021-06-09T06:38:21.721Z"
   },
   {
    "duration": 32,
    "start_time": "2021-06-09T06:38:21.756Z"
   },
   {
    "duration": 11,
    "start_time": "2021-06-09T06:38:21.792Z"
   },
   {
    "duration": 2369,
    "start_time": "2021-06-09T06:38:21.805Z"
   },
   {
    "duration": 913,
    "start_time": "2021-06-09T06:38:24.177Z"
   },
   {
    "duration": 672,
    "start_time": "2021-06-09T06:38:25.093Z"
   },
   {
    "duration": 10,
    "start_time": "2021-06-09T06:41:06.107Z"
   },
   {
    "duration": 5,
    "start_time": "2021-06-09T06:42:58.639Z"
   },
   {
    "duration": 3,
    "start_time": "2021-06-09T06:42:58.824Z"
   },
   {
    "duration": 21,
    "start_time": "2021-06-09T06:45:03.821Z"
   },
   {
    "duration": 38,
    "start_time": "2021-06-09T06:45:04.061Z"
   },
   {
    "duration": 9,
    "start_time": "2021-06-09T06:45:04.237Z"
   },
   {
    "duration": 26,
    "start_time": "2021-06-09T06:45:04.549Z"
   },
   {
    "duration": 17,
    "start_time": "2021-06-09T06:45:05.077Z"
   },
   {
    "duration": 20,
    "start_time": "2021-06-09T06:45:05.637Z"
   },
   {
    "duration": 5,
    "start_time": "2021-06-09T06:45:07.846Z"
   },
   {
    "duration": 3,
    "start_time": "2021-06-09T06:45:08.389Z"
   },
   {
    "duration": 5,
    "start_time": "2021-06-09T06:45:29.641Z"
   },
   {
    "duration": 19,
    "start_time": "2021-06-09T06:45:43.815Z"
   },
   {
    "duration": 5,
    "start_time": "2021-06-09T06:47:24.511Z"
   },
   {
    "duration": 105,
    "start_time": "2021-06-09T06:48:21.447Z"
   },
   {
    "duration": 2115,
    "start_time": "2021-06-09T07:16:19.721Z"
   },
   {
    "duration": 393,
    "start_time": "2021-06-09T10:10:37.185Z"
   },
   {
    "duration": -91,
    "start_time": "2021-06-09T10:10:37.673Z"
   },
   {
    "duration": -98,
    "start_time": "2021-06-09T10:10:37.681Z"
   },
   {
    "duration": -105,
    "start_time": "2021-06-09T10:10:37.689Z"
   },
   {
    "duration": -114,
    "start_time": "2021-06-09T10:10:37.700Z"
   },
   {
    "duration": -123,
    "start_time": "2021-06-09T10:10:37.710Z"
   },
   {
    "duration": -129,
    "start_time": "2021-06-09T10:10:37.717Z"
   },
   {
    "duration": -134,
    "start_time": "2021-06-09T10:10:37.724Z"
   },
   {
    "duration": -139,
    "start_time": "2021-06-09T10:10:37.730Z"
   },
   {
    "duration": -146,
    "start_time": "2021-06-09T10:10:37.738Z"
   },
   {
    "duration": -150,
    "start_time": "2021-06-09T10:10:37.744Z"
   },
   {
    "duration": -155,
    "start_time": "2021-06-09T10:10:37.750Z"
   },
   {
    "duration": -175,
    "start_time": "2021-06-09T10:10:37.771Z"
   },
   {
    "duration": -180,
    "start_time": "2021-06-09T10:10:37.778Z"
   },
   {
    "duration": -185,
    "start_time": "2021-06-09T10:10:37.784Z"
   },
   {
    "duration": -191,
    "start_time": "2021-06-09T10:10:37.791Z"
   },
   {
    "duration": -196,
    "start_time": "2021-06-09T10:10:37.797Z"
   },
   {
    "duration": -201,
    "start_time": "2021-06-09T10:10:37.804Z"
   },
   {
    "duration": -205,
    "start_time": "2021-06-09T10:10:37.809Z"
   },
   {
    "duration": -211,
    "start_time": "2021-06-09T10:10:37.816Z"
   },
   {
    "duration": 5,
    "start_time": "2021-06-09T10:10:51.431Z"
   },
   {
    "duration": 3,
    "start_time": "2021-06-09T10:10:51.551Z"
   },
   {
    "duration": 419,
    "start_time": "2021-06-09T10:10:52.011Z"
   },
   {
    "duration": -26,
    "start_time": "2021-06-09T10:10:52.460Z"
   },
   {
    "duration": -30,
    "start_time": "2021-06-09T10:10:52.465Z"
   },
   {
    "duration": 375,
    "start_time": "2021-06-09T10:11:02.796Z"
   },
   {
    "duration": -77,
    "start_time": "2021-06-09T10:11:03.253Z"
   },
   {
    "duration": -83,
    "start_time": "2021-06-09T10:11:03.260Z"
   },
   {
    "duration": -89,
    "start_time": "2021-06-09T10:11:03.267Z"
   },
   {
    "duration": -96,
    "start_time": "2021-06-09T10:11:03.276Z"
   },
   {
    "duration": -101,
    "start_time": "2021-06-09T10:11:03.283Z"
   },
   {
    "duration": -106,
    "start_time": "2021-06-09T10:11:03.289Z"
   },
   {
    "duration": -111,
    "start_time": "2021-06-09T10:11:03.296Z"
   },
   {
    "duration": -116,
    "start_time": "2021-06-09T10:11:03.302Z"
   },
   {
    "duration": -120,
    "start_time": "2021-06-09T10:11:03.308Z"
   },
   {
    "duration": -125,
    "start_time": "2021-06-09T10:11:03.314Z"
   },
   {
    "duration": -133,
    "start_time": "2021-06-09T10:11:03.324Z"
   },
   {
    "duration": -139,
    "start_time": "2021-06-09T10:11:03.331Z"
   },
   {
    "duration": -146,
    "start_time": "2021-06-09T10:11:03.339Z"
   },
   {
    "duration": -151,
    "start_time": "2021-06-09T10:11:03.345Z"
   },
   {
    "duration": -155,
    "start_time": "2021-06-09T10:11:03.351Z"
   },
   {
    "duration": -175,
    "start_time": "2021-06-09T10:11:03.372Z"
   },
   {
    "duration": -184,
    "start_time": "2021-06-09T10:11:03.382Z"
   },
   {
    "duration": -189,
    "start_time": "2021-06-09T10:11:03.388Z"
   },
   {
    "duration": -194,
    "start_time": "2021-06-09T10:11:03.395Z"
   },
   {
    "duration": -199,
    "start_time": "2021-06-09T10:11:03.401Z"
   },
   {
    "duration": -205,
    "start_time": "2021-06-09T10:11:03.408Z"
   },
   {
    "duration": -209,
    "start_time": "2021-06-09T10:11:03.414Z"
   },
   {
    "duration": -216,
    "start_time": "2021-06-09T10:11:03.422Z"
   },
   {
    "duration": -221,
    "start_time": "2021-06-09T10:11:03.428Z"
   },
   {
    "duration": -226,
    "start_time": "2021-06-09T10:11:03.435Z"
   },
   {
    "duration": -232,
    "start_time": "2021-06-09T10:11:03.442Z"
   },
   {
    "duration": -187,
    "start_time": "2021-06-09T10:11:03.448Z"
   },
   {
    "duration": -191,
    "start_time": "2021-06-09T10:11:03.454Z"
   },
   {
    "duration": -195,
    "start_time": "2021-06-09T10:11:03.459Z"
   },
   {
    "duration": -199,
    "start_time": "2021-06-09T10:11:03.465Z"
   },
   {
    "duration": -221,
    "start_time": "2021-06-09T10:11:03.488Z"
   },
   {
    "duration": -226,
    "start_time": "2021-06-09T10:11:03.495Z"
   },
   {
    "duration": -230,
    "start_time": "2021-06-09T10:11:03.501Z"
   },
   {
    "duration": -235,
    "start_time": "2021-06-09T10:11:03.507Z"
   },
   {
    "duration": -240,
    "start_time": "2021-06-09T10:11:03.513Z"
   },
   {
    "duration": -245,
    "start_time": "2021-06-09T10:11:03.519Z"
   },
   {
    "duration": -250,
    "start_time": "2021-06-09T10:11:03.526Z"
   },
   {
    "duration": -254,
    "start_time": "2021-06-09T10:11:03.531Z"
   },
   {
    "duration": -258,
    "start_time": "2021-06-09T10:11:03.537Z"
   },
   {
    "duration": -263,
    "start_time": "2021-06-09T10:11:03.543Z"
   },
   {
    "duration": -281,
    "start_time": "2021-06-09T10:11:03.563Z"
   },
   {
    "duration": -290,
    "start_time": "2021-06-09T10:11:03.573Z"
   },
   {
    "duration": -295,
    "start_time": "2021-06-09T10:11:03.580Z"
   },
   {
    "duration": 370,
    "start_time": "2021-06-09T10:11:31.596Z"
   },
   {
    "duration": -71,
    "start_time": "2021-06-09T10:11:32.042Z"
   },
   {
    "duration": -74,
    "start_time": "2021-06-09T10:11:32.047Z"
   },
   {
    "duration": -80,
    "start_time": "2021-06-09T10:11:32.054Z"
   },
   {
    "duration": -85,
    "start_time": "2021-06-09T10:11:32.060Z"
   },
   {
    "duration": -88,
    "start_time": "2021-06-09T10:11:32.065Z"
   },
   {
    "duration": -92,
    "start_time": "2021-06-09T10:11:32.070Z"
   },
   {
    "duration": -96,
    "start_time": "2021-06-09T10:11:32.076Z"
   },
   {
    "duration": -101,
    "start_time": "2021-06-09T10:11:32.082Z"
   },
   {
    "duration": -108,
    "start_time": "2021-06-09T10:11:32.091Z"
   },
   {
    "duration": -116,
    "start_time": "2021-06-09T10:11:32.100Z"
   },
   {
    "duration": -123,
    "start_time": "2021-06-09T10:11:32.109Z"
   },
   {
    "duration": -129,
    "start_time": "2021-06-09T10:11:32.116Z"
   },
   {
    "duration": -133,
    "start_time": "2021-06-09T10:11:32.122Z"
   },
   {
    "duration": -150,
    "start_time": "2021-06-09T10:11:32.140Z"
   },
   {
    "duration": -156,
    "start_time": "2021-06-09T10:11:32.148Z"
   },
   {
    "duration": -161,
    "start_time": "2021-06-09T10:11:32.154Z"
   },
   {
    "duration": -165,
    "start_time": "2021-06-09T10:11:32.160Z"
   },
   {
    "duration": -170,
    "start_time": "2021-06-09T10:11:32.166Z"
   },
   {
    "duration": -175,
    "start_time": "2021-06-09T10:11:32.173Z"
   },
   {
    "duration": -182,
    "start_time": "2021-06-09T10:11:32.181Z"
   },
   {
    "duration": -186,
    "start_time": "2021-06-09T10:11:32.187Z"
   },
   {
    "duration": -192,
    "start_time": "2021-06-09T10:11:32.194Z"
   },
   {
    "duration": -198,
    "start_time": "2021-06-09T10:11:32.202Z"
   },
   {
    "duration": -201,
    "start_time": "2021-06-09T10:11:32.207Z"
   },
   {
    "duration": -153,
    "start_time": "2021-06-09T10:11:32.215Z"
   },
   {
    "duration": -157,
    "start_time": "2021-06-09T10:11:32.220Z"
   },
   {
    "duration": -163,
    "start_time": "2021-06-09T10:11:32.228Z"
   },
   {
    "duration": -169,
    "start_time": "2021-06-09T10:11:32.235Z"
   },
   {
    "duration": -185,
    "start_time": "2021-06-09T10:11:32.253Z"
   },
   {
    "duration": -189,
    "start_time": "2021-06-09T10:11:32.258Z"
   },
   {
    "duration": -193,
    "start_time": "2021-06-09T10:11:32.263Z"
   },
   {
    "duration": -198,
    "start_time": "2021-06-09T10:11:32.269Z"
   },
   {
    "duration": -202,
    "start_time": "2021-06-09T10:11:32.274Z"
   },
   {
    "duration": -207,
    "start_time": "2021-06-09T10:11:32.281Z"
   },
   {
    "duration": -219,
    "start_time": "2021-06-09T10:11:32.294Z"
   },
   {
    "duration": -229,
    "start_time": "2021-06-09T10:11:32.306Z"
   },
   {
    "duration": -240,
    "start_time": "2021-06-09T10:11:32.318Z"
   },
   {
    "duration": -247,
    "start_time": "2021-06-09T10:11:32.326Z"
   },
   {
    "duration": -257,
    "start_time": "2021-06-09T10:11:32.338Z"
   },
   {
    "duration": -270,
    "start_time": "2021-06-09T10:11:32.352Z"
   },
   {
    "duration": -298,
    "start_time": "2021-06-09T10:11:32.381Z"
   },
   {
    "duration": -326,
    "start_time": "2021-06-09T10:11:32.410Z"
   },
   {
    "duration": -335,
    "start_time": "2021-06-09T10:11:32.420Z"
   },
   {
    "duration": 7,
    "start_time": "2021-06-09T10:11:51.718Z"
   },
   {
    "duration": 996,
    "start_time": "2021-06-09T10:11:51.728Z"
   },
   {
    "duration": 4,
    "start_time": "2021-06-09T10:11:52.727Z"
   },
   {
    "duration": 29,
    "start_time": "2021-06-09T10:11:52.733Z"
   },
   {
    "duration": 11,
    "start_time": "2021-06-09T10:11:52.765Z"
   },
   {
    "duration": 16,
    "start_time": "2021-06-09T10:11:52.778Z"
   },
   {
    "duration": 8,
    "start_time": "2021-06-09T10:11:52.799Z"
   },
   {
    "duration": 95,
    "start_time": "2021-06-09T10:11:52.810Z"
   },
   {
    "duration": 21,
    "start_time": "2021-06-09T10:11:52.908Z"
   },
   {
    "duration": 41,
    "start_time": "2021-06-09T10:11:52.932Z"
   },
   {
    "duration": 8,
    "start_time": "2021-06-09T10:11:52.975Z"
   },
   {
    "duration": 14,
    "start_time": "2021-06-09T10:11:52.985Z"
   },
   {
    "duration": 9,
    "start_time": "2021-06-09T10:11:53.001Z"
   },
   {
    "duration": 1322,
    "start_time": "2021-06-09T10:11:53.012Z"
   },
   {
    "duration": 39,
    "start_time": "2021-06-09T10:11:54.337Z"
   },
   {
    "duration": 7,
    "start_time": "2021-06-09T10:11:54.378Z"
   },
   {
    "duration": 10,
    "start_time": "2021-06-09T10:11:54.387Z"
   },
   {
    "duration": 2287,
    "start_time": "2021-06-09T10:11:54.400Z"
   },
   {
    "duration": 887,
    "start_time": "2021-06-09T10:11:56.692Z"
   },
   {
    "duration": 682,
    "start_time": "2021-06-09T10:11:57.582Z"
   },
   {
    "duration": 5,
    "start_time": "2021-06-09T10:11:58.267Z"
   },
   {
    "duration": 18,
    "start_time": "2021-06-09T10:11:58.275Z"
   },
   {
    "duration": 23,
    "start_time": "2021-06-09T10:11:58.295Z"
   },
   {
    "duration": 63,
    "start_time": "2021-06-09T10:11:58.320Z"
   },
   {
    "duration": 9,
    "start_time": "2021-06-09T10:11:58.385Z"
   },
   {
    "duration": 38,
    "start_time": "2021-06-09T10:11:58.397Z"
   },
   {
    "duration": 46,
    "start_time": "2021-06-09T10:11:58.438Z"
   },
   {
    "duration": 29,
    "start_time": "2021-06-09T10:11:58.488Z"
   },
   {
    "duration": 5,
    "start_time": "2021-06-09T10:11:58.520Z"
   },
   {
    "duration": 36,
    "start_time": "2021-06-09T10:11:58.527Z"
   },
   {
    "duration": 9,
    "start_time": "2021-06-09T10:11:58.566Z"
   },
   {
    "duration": 7,
    "start_time": "2021-06-09T10:11:58.578Z"
   },
   {
    "duration": 8,
    "start_time": "2021-06-09T10:11:58.587Z"
   },
   {
    "duration": 12,
    "start_time": "2021-06-09T10:11:58.598Z"
   },
   {
    "duration": 4,
    "start_time": "2021-06-09T10:11:58.612Z"
   },
   {
    "duration": 5,
    "start_time": "2021-06-09T10:11:58.672Z"
   },
   {
    "duration": 8,
    "start_time": "2021-06-09T10:11:58.679Z"
   },
   {
    "duration": 8,
    "start_time": "2021-06-09T10:11:58.691Z"
   },
   {
    "duration": 163123,
    "start_time": "2021-06-09T10:11:58.703Z"
   },
   {
    "duration": 6,
    "start_time": "2021-06-09T10:14:41.828Z"
   },
   {
    "duration": 62,
    "start_time": "2021-06-09T10:14:41.837Z"
   },
   {
    "duration": 8,
    "start_time": "2021-06-09T10:14:41.902Z"
   },
   {
    "duration": 452,
    "start_time": "2021-06-09T10:14:41.913Z"
   },
   {
    "duration": 597,
    "start_time": "2021-06-09T10:14:42.369Z"
   },
   {
    "duration": 5,
    "start_time": "2021-06-09T10:16:23.747Z"
   },
   {
    "duration": 5,
    "start_time": "2021-06-09T10:16:23.890Z"
   },
   {
    "duration": 13,
    "start_time": "2021-06-09T10:16:24.360Z"
   },
   {
    "duration": 36,
    "start_time": "2021-06-09T10:16:24.531Z"
   },
   {
    "duration": 436,
    "start_time": "2021-06-09T10:16:24.660Z"
   },
   {
    "duration": 34,
    "start_time": "2021-06-09T10:16:25.286Z"
   },
   {
    "duration": 19,
    "start_time": "2021-06-09T10:16:25.422Z"
   },
   {
    "duration": 20,
    "start_time": "2021-06-09T10:16:25.571Z"
   },
   {
    "duration": 5,
    "start_time": "2021-06-09T10:16:25.703Z"
   },
   {
    "duration": 3,
    "start_time": "2021-06-09T10:16:25.848Z"
   },
   {
    "duration": 7,
    "start_time": "2021-06-09T10:16:37.157Z"
   },
   {
    "duration": 1021,
    "start_time": "2021-06-09T10:16:37.167Z"
   },
   {
    "duration": 4,
    "start_time": "2021-06-09T10:16:38.192Z"
   },
   {
    "duration": 22,
    "start_time": "2021-06-09T10:16:38.199Z"
   },
   {
    "duration": 18,
    "start_time": "2021-06-09T10:16:38.223Z"
   },
   {
    "duration": 28,
    "start_time": "2021-06-09T10:16:38.243Z"
   },
   {
    "duration": 12,
    "start_time": "2021-06-09T10:16:38.273Z"
   },
   {
    "duration": 69,
    "start_time": "2021-06-09T10:16:38.289Z"
   },
   {
    "duration": 24,
    "start_time": "2021-06-09T10:16:38.363Z"
   },
   {
    "duration": 22,
    "start_time": "2021-06-09T10:16:38.390Z"
   },
   {
    "duration": 12,
    "start_time": "2021-06-09T10:16:38.415Z"
   },
   {
    "duration": 8,
    "start_time": "2021-06-09T10:16:38.462Z"
   },
   {
    "duration": 24,
    "start_time": "2021-06-09T10:16:38.472Z"
   },
   {
    "duration": 1437,
    "start_time": "2021-06-09T10:16:38.498Z"
   },
   {
    "duration": 37,
    "start_time": "2021-06-09T10:16:39.937Z"
   },
   {
    "duration": 7,
    "start_time": "2021-06-09T10:16:39.976Z"
   },
   {
    "duration": 8,
    "start_time": "2021-06-09T10:16:39.986Z"
   },
   {
    "duration": 2097,
    "start_time": "2021-06-09T10:16:39.996Z"
   },
   {
    "duration": 874,
    "start_time": "2021-06-09T10:16:42.096Z"
   },
   {
    "duration": 609,
    "start_time": "2021-06-09T10:16:42.973Z"
   },
   {
    "duration": 4,
    "start_time": "2021-06-09T10:16:43.585Z"
   },
   {
    "duration": 8,
    "start_time": "2021-06-09T10:16:43.592Z"
   },
   {
    "duration": 13,
    "start_time": "2021-06-09T10:16:43.606Z"
   },
   {
    "duration": 59,
    "start_time": "2021-06-09T10:16:43.622Z"
   },
   {
    "duration": 7,
    "start_time": "2021-06-09T10:16:43.683Z"
   },
   {
    "duration": 30,
    "start_time": "2021-06-09T10:16:43.693Z"
   },
   {
    "duration": 46,
    "start_time": "2021-06-09T10:16:43.726Z"
   },
   {
    "duration": 22,
    "start_time": "2021-06-09T10:16:43.777Z"
   },
   {
    "duration": 4,
    "start_time": "2021-06-09T10:16:43.802Z"
   },
   {
    "duration": 6,
    "start_time": "2021-06-09T10:16:43.808Z"
   },
   {
    "duration": 9,
    "start_time": "2021-06-09T10:16:43.817Z"
   },
   {
    "duration": 3,
    "start_time": "2021-06-09T10:16:43.861Z"
   },
   {
    "duration": 8,
    "start_time": "2021-06-09T10:16:43.867Z"
   },
   {
    "duration": 10,
    "start_time": "2021-06-09T10:16:43.877Z"
   },
   {
    "duration": 3,
    "start_time": "2021-06-09T10:16:43.890Z"
   },
   {
    "duration": 9,
    "start_time": "2021-06-09T10:16:43.896Z"
   },
   {
    "duration": 7,
    "start_time": "2021-06-09T10:16:43.907Z"
   },
   {
    "duration": 6,
    "start_time": "2021-06-09T10:16:43.916Z"
   },
   {
    "duration": 165369,
    "start_time": "2021-06-09T10:16:43.924Z"
   },
   {
    "duration": 8,
    "start_time": "2021-06-09T10:19:29.296Z"
   },
   {
    "duration": 31,
    "start_time": "2021-06-09T10:19:29.306Z"
   },
   {
    "duration": 32,
    "start_time": "2021-06-09T10:19:29.339Z"
   },
   {
    "duration": 989,
    "start_time": "2021-06-09T10:19:29.375Z"
   },
   {
    "duration": 500,
    "start_time": "2021-06-09T10:19:30.366Z"
   },
   {
    "duration": 7,
    "start_time": "2021-06-09T10:20:46.896Z"
   },
   {
    "duration": 1011,
    "start_time": "2021-06-09T10:20:46.905Z"
   },
   {
    "duration": 5,
    "start_time": "2021-06-09T10:20:47.920Z"
   },
   {
    "duration": 17,
    "start_time": "2021-06-09T10:20:47.929Z"
   },
   {
    "duration": 17,
    "start_time": "2021-06-09T10:20:47.948Z"
   },
   {
    "duration": 12,
    "start_time": "2021-06-09T10:20:47.968Z"
   },
   {
    "duration": 6,
    "start_time": "2021-06-09T10:20:47.984Z"
   },
   {
    "duration": 89,
    "start_time": "2021-06-09T10:20:47.993Z"
   },
   {
    "duration": 23,
    "start_time": "2021-06-09T10:20:48.085Z"
   },
   {
    "duration": 22,
    "start_time": "2021-06-09T10:20:48.110Z"
   },
   {
    "duration": 10,
    "start_time": "2021-06-09T10:20:48.163Z"
   },
   {
    "duration": 11,
    "start_time": "2021-06-09T10:20:48.176Z"
   },
   {
    "duration": 11,
    "start_time": "2021-06-09T10:20:48.190Z"
   },
   {
    "duration": 2173,
    "start_time": "2021-06-09T10:20:48.204Z"
   },
   {
    "duration": 31,
    "start_time": "2021-06-09T10:20:50.380Z"
   },
   {
    "duration": 6,
    "start_time": "2021-06-09T10:20:50.414Z"
   },
   {
    "duration": 11,
    "start_time": "2021-06-09T10:20:50.422Z"
   },
   {
    "duration": 2150,
    "start_time": "2021-06-09T10:20:50.462Z"
   },
   {
    "duration": 866,
    "start_time": "2021-06-09T10:20:52.617Z"
   },
   {
    "duration": 590,
    "start_time": "2021-06-09T10:20:53.486Z"
   },
   {
    "duration": 4,
    "start_time": "2021-06-09T10:20:54.079Z"
   },
   {
    "duration": 7,
    "start_time": "2021-06-09T10:20:54.085Z"
   },
   {
    "duration": 13,
    "start_time": "2021-06-09T10:20:54.095Z"
   },
   {
    "duration": 54,
    "start_time": "2021-06-09T10:20:54.111Z"
   },
   {
    "duration": 8,
    "start_time": "2021-06-09T10:20:54.168Z"
   },
   {
    "duration": 28,
    "start_time": "2021-06-09T10:20:54.179Z"
   },
   {
    "duration": 14,
    "start_time": "2021-06-09T10:20:54.210Z"
   },
   {
    "duration": 47,
    "start_time": "2021-06-09T10:20:54.227Z"
   },
   {
    "duration": 4,
    "start_time": "2021-06-09T10:20:54.277Z"
   },
   {
    "duration": 6,
    "start_time": "2021-06-09T10:20:54.284Z"
   },
   {
    "duration": 9,
    "start_time": "2021-06-09T10:20:54.292Z"
   },
   {
    "duration": 5,
    "start_time": "2021-06-09T10:20:54.303Z"
   },
   {
    "duration": 11,
    "start_time": "2021-06-09T10:20:54.310Z"
   },
   {
    "duration": 46,
    "start_time": "2021-06-09T10:20:54.323Z"
   },
   {
    "duration": 9,
    "start_time": "2021-06-09T10:20:54.371Z"
   },
   {
    "duration": 7,
    "start_time": "2021-06-09T10:20:54.382Z"
   },
   {
    "duration": 13,
    "start_time": "2021-06-09T10:20:54.392Z"
   },
   {
    "duration": 7,
    "start_time": "2021-06-09T10:20:54.408Z"
   },
   {
    "duration": 249870,
    "start_time": "2021-06-09T10:20:54.417Z"
   },
   {
    "duration": 5,
    "start_time": "2021-06-09T10:25:04.289Z"
   },
   {
    "duration": 49,
    "start_time": "2021-06-09T10:25:04.296Z"
   },
   {
    "duration": 22,
    "start_time": "2021-06-09T10:25:04.347Z"
   },
   {
    "duration": 597,
    "start_time": "2021-06-09T10:25:04.371Z"
   },
   {
    "duration": 598,
    "start_time": "2021-06-09T10:25:04.973Z"
   }
  ],
  "kernelspec": {
   "display_name": "Python 3",
   "language": "python",
   "name": "python3"
  },
  "language_info": {
   "codemirror_mode": {
    "name": "ipython",
    "version": 3
   },
   "file_extension": ".py",
   "mimetype": "text/x-python",
   "name": "python",
   "nbconvert_exporter": "python",
   "pygments_lexer": "ipython3",
   "version": "3.7.8"
  },
  "toc": {
   "base_numbering": 1,
   "nav_menu": {},
   "number_sections": true,
   "sideBar": true,
   "skip_h1_title": true,
   "title_cell": "Содержание",
   "title_sidebar": "Contents",
   "toc_cell": true,
   "toc_position": {
    "height": "calc(100% - 180px)",
    "left": "10px",
    "top": "150px",
    "width": "165px"
   },
   "toc_section_display": true,
   "toc_window_display": true
  }
 },
 "nbformat": 4,
 "nbformat_minor": 2
}
