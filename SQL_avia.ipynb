{
 "cells": [
  {
   "cell_type": "markdown",
   "metadata": {},
   "source": [
    "<div style=\"border:solid green 2px; padding: 20px\">\n",
    "    \n",
    "Настя, привет! Меня зовут Бунакова Влада. Если не возражаешь, предлагаю общаться на «ты» :)\n",
    "\n",
    "Ниже в файле ты найдешь мои комментарии: <font color='green'>зеленый цвет — «все отлично»; </font> <font color='orange'>желтый — «хорошо, но можно лучше (один-два таких замечаний допустимы, но если их больше — придется исправлять)»; </font> <font color='red'>красный — «нужно исправить».</font> Комментарии в самом коде я отделяю знаками «###». Пожалуйста, не удаляй мои комментарии, они мне нужны при повторной проверке. Будет здорово, если в своих новых комментариях (выделяй их другим цветом) ты напишешь о сделанных тобой изменениях в коде. \n"
   ]
  },
  {
   "cell_type": "markdown",
   "metadata": {
    "toc": true
   },
   "source": [
    "<h1>Содержание<span class=\"tocSkip\"></span></h1>\n",
    "<div class=\"toc\"><ul class=\"toc-item\"><li><span><a href=\"#Аналитика\" data-toc-modified-id=\"Аналитика-1\"><span class=\"toc-item-num\">1&nbsp;&nbsp;</span>Аналитика</a></span><ul class=\"toc-item\"><li><span><a href=\"#Топ-10-городов\" data-toc-modified-id=\"Топ-10-городов-1.1\"><span class=\"toc-item-num\">1.1&nbsp;&nbsp;</span>Топ 10 городов</a></span></li><li><span><a href=\"#Графики\" data-toc-modified-id=\"Графики-1.2\"><span class=\"toc-item-num\">1.2&nbsp;&nbsp;</span>Графики</a></span><ul class=\"toc-item\"><li><span><a href=\"#Модели-самолётов-и-количество-рейсов\" data-toc-modified-id=\"Модели-самолётов-и-количество-рейсов-1.2.1\"><span class=\"toc-item-num\">1.2.1&nbsp;&nbsp;</span>Модели самолётов и количество рейсов</a></span></li><li><span><a href=\"#Города-и-количество-рейсов\" data-toc-modified-id=\"Города-и-количество-рейсов-1.2.2\"><span class=\"toc-item-num\">1.2.2&nbsp;&nbsp;</span>Города и количество рейсов</a></span></li></ul></li><li><span><a href=\"#Продажи-билетов-в-недели-фестивалей-и-нет\" data-toc-modified-id=\"Продажи-билетов-в-недели-фестивалей-и-нет-1.3\"><span class=\"toc-item-num\">1.3&nbsp;&nbsp;</span>Продажи билетов в недели фестивалей и нет</a></span></li></ul></li><li><span><a href=\"#Вывод\" data-toc-modified-id=\"Вывод-2\"><span class=\"toc-item-num\">2&nbsp;&nbsp;</span>Вывод</a></span></li><li><span><a href=\"#Чек-лист-проверки\" data-toc-modified-id=\"Чек-лист-проверки-3\"><span class=\"toc-item-num\">3&nbsp;&nbsp;</span>Чек-лист проверки</a></span></li></ul></div>"
   ]
  },
  {
   "cell_type": "markdown",
   "metadata": {},
   "source": [
    "# Спрос на рейсы авиакомпании"
   ]
  },
  {
   "cell_type": "markdown",
   "metadata": {},
   "source": [
    "Вы аналитик российской авиакомпании F9, выполняющей внутренние пассажирские перевозки. Важно понять предпочтения пользователей, покупающих билеты на разные направления.\n",
    "\n",
    "Вам предстоит изучить базу данных и проанализировать спрос пассажиров на рейсы в города, где проходят крупнейшие культурные фестивали."
   ]
  },
  {
   "cell_type": "markdown",
   "metadata": {},
   "source": [
    "У вас есть файлы с результатами запросов из предыдущих заданий.\n",
    "\n",
    "**query_1.csv** — результат первого запроса. В нём содержится такая информация:\n",
    "\n",
    "- *model* — **модель самолета;\n",
    "- *flights_amount* — количество рейсов для каждой модели самолетов *model* в сентябре 2018 года.\n",
    "\n",
    "**query_3.csv** — результат третьего запроса. В нём содержится такая информация:\n",
    "\n",
    "- *city* — город;\n",
    "- *average_flights* — среднее количество рейсов, прибывающих в город (*city*) за день в сентябре 2018 года.\n",
    "\n",
    " Для этих двух наборов данных нужно:\n",
    "\n",
    "- импортировать файлы;\n",
    "- изучить данные в них;\n",
    "- проверить типы данных на корректность;\n",
    "- выбрать топ-10 городов по количеству рейсов;\n",
    "- построить графики: модели самолётов и количество рейсов, города и количество рейсов, топ-10 городов и количество рейсов;\n",
    "- сделать выводы по каждому из графиков, пояснить результат.\n"
   ]
  },
  {
   "cell_type": "markdown",
   "metadata": {},
   "source": [
    "## Аналитика"
   ]
  },
  {
   "cell_type": "code",
   "execution_count": 1,
   "metadata": {},
   "outputs": [],
   "source": [
    "import pandas as pd\n",
    "import numpy as np\n",
    "import seaborn as sns\n",
    "import matplotlib.pyplot as plt\n",
    "from scipy import stats as st\n"
   ]
  },
  {
   "cell_type": "code",
   "execution_count": 2,
   "metadata": {},
   "outputs": [],
   "source": [
    "query_1 = pd.read_csv('/datasets/query_1.csv')\n",
    "query_3 = pd.read_csv('/datasets/query_3.csv')\n",
    "query_fest = pd.read_csv('/datasets/query_last.csv')"
   ]
  },
  {
   "cell_type": "code",
   "execution_count": 3,
   "metadata": {},
   "outputs": [
    {
     "name": "stdout",
     "output_type": "stream",
     "text": [
      "             model  flights_amount\n",
      "0  Airbus A319-100             607\n",
      "1  Airbus A321-200             960\n",
      "2   Boeing 737-300             630\n",
      " \n",
      "      city  average_flights\n",
      "0   Абакан         3.870968\n",
      "1  Анадырь         1.000000\n",
      "2    Анапа         2.161290\n",
      " \n",
      "   week_number  ticket_amount  festival_week festival_name\n",
      "0           30          43568           30.0     Park Live\n",
      "1           31          51034           31.0  Пикник Афиши\n",
      "2           32          51675            NaN           NaN\n"
     ]
    }
   ],
   "source": [
    "print(query_1.head(3))\n",
    "print(' ')\n",
    "print(query_3.head(3))\n",
    "print(' ')\n",
    "print(query_fest.head(3))"
   ]
  },
  {
   "cell_type": "code",
   "execution_count": 4,
   "metadata": {},
   "outputs": [
    {
     "name": "stdout",
     "output_type": "stream",
     "text": [
      "<class 'pandas.core.frame.DataFrame'>\n",
      "RangeIndex: 8 entries, 0 to 7\n",
      "Data columns (total 2 columns):\n",
      "model             8 non-null object\n",
      "flights_amount    8 non-null int64\n",
      "dtypes: int64(1), object(1)\n",
      "memory usage: 256.0+ bytes\n",
      " \n",
      "<class 'pandas.core.frame.DataFrame'>\n",
      "RangeIndex: 101 entries, 0 to 100\n",
      "Data columns (total 2 columns):\n",
      "city               101 non-null object\n",
      "average_flights    101 non-null float64\n",
      "dtypes: float64(1), object(1)\n",
      "memory usage: 1.7+ KB\n",
      " \n",
      "<class 'pandas.core.frame.DataFrame'>\n",
      "RangeIndex: 10 entries, 0 to 9\n",
      "Data columns (total 4 columns):\n",
      "week_number      10 non-null int64\n",
      "ticket_amount    10 non-null int64\n",
      "festival_week    3 non-null float64\n",
      "festival_name    3 non-null object\n",
      "dtypes: float64(1), int64(2), object(1)\n",
      "memory usage: 448.0+ bytes\n"
     ]
    }
   ],
   "source": [
    "query_1.info()\n",
    "print(' ')\n",
    "query_3.info()\n",
    "print(' ')\n",
    "query_fest.info()"
   ]
  },
  {
   "cell_type": "code",
   "execution_count": 5,
   "metadata": {},
   "outputs": [
    {
     "name": "stdout",
     "output_type": "stream",
     "text": [
      "model             0.0\n",
      "flights_amount    0.0\n",
      "dtype: float64\n",
      "city               0.0\n",
      "average_flights    0.0\n",
      "dtype: float64\n",
      "week_number      0.0\n",
      "ticket_amount    0.0\n",
      "festival_week    0.7\n",
      "festival_name    0.7\n",
      "dtype: float64\n"
     ]
    }
   ],
   "source": [
    "print(query_1.isna().mean())\n",
    "print(query_3.isna().mean())\n",
    "print(query_fest.isna().mean())"
   ]
  },
  {
   "cell_type": "markdown",
   "metadata": {},
   "source": [
    "Данные корректны, пропусков и нулевых значений нет, типы данных адекватны. Пропуски есть только в датасете по фестивалям, что нормально, так как были недели, когда не было фестивалей, но авиабилеты все-равно продавались."
   ]
  },
  {
   "cell_type": "markdown",
   "metadata": {},
   "source": [
    "<div class=\"alert alert-block alert-success\">\n",
    "<b>Комментарий ревьюера:</b> \n",
    "Ок, данные в порядке.\n",
    "</div>"
   ]
  },
  {
   "cell_type": "markdown",
   "metadata": {},
   "source": [
    "### Топ 10 городов"
   ]
  },
  {
   "cell_type": "code",
   "execution_count": 6,
   "metadata": {},
   "outputs": [
    {
     "data": {
      "text/html": [
       "<div>\n",
       "<style scoped>\n",
       "    .dataframe tbody tr th:only-of-type {\n",
       "        vertical-align: middle;\n",
       "    }\n",
       "\n",
       "    .dataframe tbody tr th {\n",
       "        vertical-align: top;\n",
       "    }\n",
       "\n",
       "    .dataframe thead th {\n",
       "        text-align: right;\n",
       "    }\n",
       "</style>\n",
       "<table border=\"1\" class=\"dataframe\">\n",
       "  <thead>\n",
       "    <tr style=\"text-align: right;\">\n",
       "      <th></th>\n",
       "      <th>city</th>\n",
       "      <th>average_flights</th>\n",
       "    </tr>\n",
       "  </thead>\n",
       "  <tbody>\n",
       "    <tr>\n",
       "      <td>43</td>\n",
       "      <td>Москва</td>\n",
       "      <td>129.774194</td>\n",
       "    </tr>\n",
       "    <tr>\n",
       "      <td>70</td>\n",
       "      <td>Санкт-Петербург</td>\n",
       "      <td>31.161290</td>\n",
       "    </tr>\n",
       "    <tr>\n",
       "      <td>54</td>\n",
       "      <td>Новосибирск</td>\n",
       "      <td>17.322581</td>\n",
       "    </tr>\n",
       "    <tr>\n",
       "      <td>33</td>\n",
       "      <td>Красноярск</td>\n",
       "      <td>11.580645</td>\n",
       "    </tr>\n",
       "    <tr>\n",
       "      <td>20</td>\n",
       "      <td>Екатеринбург</td>\n",
       "      <td>11.322581</td>\n",
       "    </tr>\n",
       "    <tr>\n",
       "      <td>67</td>\n",
       "      <td>Ростов-на-Дону</td>\n",
       "      <td>10.193548</td>\n",
       "    </tr>\n",
       "    <tr>\n",
       "      <td>63</td>\n",
       "      <td>Пермь</td>\n",
       "      <td>10.129032</td>\n",
       "    </tr>\n",
       "    <tr>\n",
       "      <td>10</td>\n",
       "      <td>Брянск</td>\n",
       "      <td>10.000000</td>\n",
       "    </tr>\n",
       "    <tr>\n",
       "      <td>74</td>\n",
       "      <td>Сочи</td>\n",
       "      <td>9.612903</td>\n",
       "    </tr>\n",
       "    <tr>\n",
       "      <td>84</td>\n",
       "      <td>Ульяновск</td>\n",
       "      <td>9.580645</td>\n",
       "    </tr>\n",
       "  </tbody>\n",
       "</table>\n",
       "</div>"
      ],
      "text/plain": [
       "               city  average_flights\n",
       "43           Москва       129.774194\n",
       "70  Санкт-Петербург        31.161290\n",
       "54      Новосибирск        17.322581\n",
       "33       Красноярск        11.580645\n",
       "20     Екатеринбург        11.322581\n",
       "67   Ростов-на-Дону        10.193548\n",
       "63            Пермь        10.129032\n",
       "10           Брянск        10.000000\n",
       "74             Сочи         9.612903\n",
       "84        Ульяновск         9.580645"
      ]
     },
     "execution_count": 6,
     "metadata": {},
     "output_type": "execute_result"
    }
   ],
   "source": [
    "query_3.sort_values(by = 'average_flights', ascending=False).head(10)"
   ]
  },
  {
   "cell_type": "markdown",
   "metadata": {},
   "source": [
    "### Графики"
   ]
  },
  {
   "cell_type": "markdown",
   "metadata": {},
   "source": [
    "#### Модели самолётов и количество рейсов"
   ]
  },
  {
   "cell_type": "code",
   "execution_count": 7,
   "metadata": {},
   "outputs": [
    {
     "data": {
      "image/png": "[encoded data removed]",
      "text/plain": [
       "<Figure size 720x360 with 1 Axes>"
      ]
     },
     "metadata": {
      "needs_background": "light"
     },
     "output_type": "display_data"
    }
   ],
   "source": [
    "plt.figure(figsize=[10,5])\n",
    "ax = sns.barplot(x=\"model\", y=\"flights_amount\", data=query_1)\n",
    "plt.xticks(rotation=90)\n",
    "plt.show()"
   ]
  },
  {
   "cell_type": "markdown",
   "metadata": {},
   "source": [
    "Число перелотов на самолетах Borbardier, Cessna и Sukhoi на порядок выше, чем на других моделях самолетов. Эти модели самолетов\n",
    "рассчитаны на небольшое число пассажиров и не очень далекие перелеты. Исходя из этих данных, можно выдвинуть гипотезу, что у компания F9\n",
    "обеспечивает много перелетов между городами близко рассположенными друг к другу, поэтому у больших самолетов типо аирбасов и боингов рейсов в среднем меньше."
   ]
  },
  {
   "cell_type": "markdown",
   "metadata": {},
   "source": [
    "<div class=\"alert alert-block alert-success\">\n",
    "<b>Комментарий ревьюера:</b> \n",
    "Графики отличные. Только стоило добавить графикам названия (здесь и ниже).\n",
    "    \n",
    "Да, лидируют самолеты небольшой вместимости, летающие на короткие расстояния.  \n",
    "</div>"
   ]
  },
  {
   "cell_type": "markdown",
   "metadata": {},
   "source": [
    "#### Города и количество рейсов"
   ]
  },
  {
   "cell_type": "code",
   "execution_count": 8,
   "metadata": {},
   "outputs": [
    {
     "data": {
      "image/png": "[encoded data removed]",
      "text/plain": [
       "<Figure size 1440x720 with 1 Axes>"
      ]
     },
     "metadata": {
      "needs_background": "light"
     },
     "output_type": "display_data"
    }
   ],
   "source": [
    "plt.figure(figsize=[20,10])\n",
    "ax = sns.barplot(x=\"city\", y=\"average_flights\", data=query_3.sort_values(by = 'average_flights', ascending=False))\n",
    "plt.xticks(rotation=90)\n",
    "plt.show()"
   ]
  },
  {
   "cell_type": "markdown",
   "metadata": {},
   "source": [
    "<div class=\"alert alert-block alert-success\">\n",
    "<b>Комментарий ревьюера:</b> \n",
    "Здесь можно было дополнительно построить график по всем городам, кроме Москвы и Санкт-Петербурга, чтобы детальнее их рассмотреть. \n",
    "</div>"
   ]
  },
  {
   "cell_type": "code",
   "execution_count": 9,
   "metadata": {},
   "outputs": [
    {
     "data": {
      "image/png": "[encoded data removed]",
      "text/plain": [
       "<Figure size 720x360 with 1 Axes>"
      ]
     },
     "metadata": {
      "needs_background": "light"
     },
     "output_type": "display_data"
    }
   ],
   "source": [
    "plt.figure(figsize=[10,5])\n",
    "ax = sns.barplot(x=\"city\", y=\"average_flights\", data=query_3.sort_values(by = 'average_flights', ascending=False).head(10))\n",
    "plt.xticks(rotation=90)\n",
    "plt.show()"
   ]
  },
  {
   "cell_type": "markdown",
   "metadata": {},
   "source": [
    "Наиболее популярным городом по среднему числу рейсов является Москва. Это объясняется тем, что Москва - столица и имеет наибольшую численность. В целом, данные по Санкт-Петербургу и Новосибирску тоже можно объяснить численностью их населения, числом аэропортов в городах и тем, что они могут быть пересадочными центрами для более дальных перелетов. Интересны наблюдения\n",
    "по Перми, Брянску и Сочи, так как они не входят в топ 10 городов России по численности, но рейсов в них прибывающих все-равно много.\n",
    "Если ситуацию с Сочи можно объяснить тем, что это курортный город. То Первмь и Брянск представляют интерес."
   ]
  },
  {
   "cell_type": "markdown",
   "metadata": {},
   "source": [
    "<div class=\"alert alert-block alert-success\">\n",
    "<b>Комментарий ревьюера:</b> \n",
    "\n",
    "Большую часть топ-10 городов составляют города миллионники (Пермь в том числе). А вот как Брянск и Ульяновск попали в топ-10, действительно, загадка :) \n",
    "</div>"
   ]
  },
  {
   "cell_type": "markdown",
   "metadata": {},
   "source": [
    "### Продажи билетов в недели фестивалей и нет"
   ]
  },
  {
   "cell_type": "markdown",
   "metadata": {},
   "source": [
    "<div class=\"alert alert-block alert-warning\">\n",
    "<b>Комментарий ревьюера:</b> \n",
    "    \n",
    "Прочитай внимательно условие: этого раздела там нет :)\n",
    "\n",
    "Если бы он там был, то тебе следовало бы сформулировать нулевую и альтернативную гипотезы.\n",
    "</div>"
   ]
  },
  {
   "cell_type": "code",
   "execution_count": 10,
   "metadata": {},
   "outputs": [
    {
     "data": {
      "text/html": [
       "<div>\n",
       "<style scoped>\n",
       "    .dataframe tbody tr th:only-of-type {\n",
       "        vertical-align: middle;\n",
       "    }\n",
       "\n",
       "    .dataframe tbody tr th {\n",
       "        vertical-align: top;\n",
       "    }\n",
       "\n",
       "    .dataframe thead th {\n",
       "        text-align: right;\n",
       "    }\n",
       "</style>\n",
       "<table border=\"1\" class=\"dataframe\">\n",
       "  <thead>\n",
       "    <tr style=\"text-align: right;\">\n",
       "      <th></th>\n",
       "      <th>week_number</th>\n",
       "      <th>ticket_amount</th>\n",
       "      <th>festival_week</th>\n",
       "      <th>festival_name</th>\n",
       "    </tr>\n",
       "  </thead>\n",
       "  <tbody>\n",
       "    <tr>\n",
       "      <td>0</td>\n",
       "      <td>30</td>\n",
       "      <td>43568</td>\n",
       "      <td>30.0</td>\n",
       "      <td>Park Live</td>\n",
       "    </tr>\n",
       "    <tr>\n",
       "      <td>1</td>\n",
       "      <td>31</td>\n",
       "      <td>51034</td>\n",
       "      <td>31.0</td>\n",
       "      <td>Пикник Афиши</td>\n",
       "    </tr>\n",
       "    <tr>\n",
       "      <td>2</td>\n",
       "      <td>32</td>\n",
       "      <td>51675</td>\n",
       "      <td>NaN</td>\n",
       "      <td>NaN</td>\n",
       "    </tr>\n",
       "  </tbody>\n",
       "</table>\n",
       "</div>"
      ],
      "text/plain": [
       "   week_number  ticket_amount  festival_week festival_name\n",
       "0           30          43568           30.0     Park Live\n",
       "1           31          51034           31.0  Пикник Афиши\n",
       "2           32          51675            NaN           NaN"
      ]
     },
     "execution_count": 10,
     "metadata": {},
     "output_type": "execute_result"
    }
   ],
   "source": [
    "query_fest.head(3)"
   ]
  },
  {
   "cell_type": "code",
   "execution_count": 11,
   "metadata": {},
   "outputs": [],
   "source": [
    "#Что-то не могу сообразить как можно сделать отдельный столбец, где бы была информация о наличии или отсутсвии фестиваля :(\n",
    "#query_fest['be_fest'] = np.where(np.nan(query_fest['festival_name']), 'no_fest', 'fest')"
   ]
  },
  {
   "cell_type": "markdown",
   "metadata": {},
   "source": [
    "<div class=\"alert alert-block alert-success\">\n",
    "<b>Комментарий ревьюера:</b> \n",
    "Используй вместо np.nan(..) функцию pd.isnull(...).\n",
    "</div>"
   ]
  },
  {
   "cell_type": "code",
   "execution_count": 12,
   "metadata": {},
   "outputs": [],
   "source": [
    "fest= query_fest.dropna()\n",
    "no_fest = query_fest.iloc[list(set(query_fest.index) - set(fest.index))]"
   ]
  },
  {
   "cell_type": "code",
   "execution_count": 13,
   "metadata": {},
   "outputs": [
    {
     "name": "stdout",
     "output_type": "stream",
     "text": [
      "p-значение: 0.09688869045922928\n"
     ]
    }
   ],
   "source": [
    "results = st.ttest_ind(no_fest['ticket_amount'], fest['ticket_amount'])\n",
    "print('p-значение:', results.pvalue)"
   ]
  },
  {
   "cell_type": "markdown",
   "metadata": {},
   "source": [
    "P-value больше 0,05, следовательно нельзя отвергнуть нулевую гипотезу о равенстве числа билетов в недели фестивалей и неделей, когда фестивалей не было. Значит наше предположение о том, что в недели фестивалей в Москве покупают больше авибилетов, неверно."
   ]
  },
  {
   "cell_type": "markdown",
   "metadata": {},
   "source": [
    "## Вывод"
   ]
  },
  {
   "cell_type": "markdown",
   "metadata": {},
   "source": [
    "- После сформулированных SQL запросов был проведен анализ авиаперелетов компании F8. \n",
    "- Были выделены самые популярные модели самолетов и города, в которые чаще всего прилетают самолеты.\n",
    "- Так же была проверена гипотеза о связи наличия фестивалей на неделе с количеством купленых билетов. "
   ]
  },
  {
   "cell_type": "markdown",
   "metadata": {},
   "source": [
    "<div style=\"border:solid green 2px; padding: 20px\">\n",
    "Настя, ты провела отличное исследование, молодец! 👍"
   ]
  },
  {
   "cell_type": "markdown",
   "metadata": {},
   "source": [
    "## Чек-лист проверки"
   ]
  },
  {
   "cell_type": "markdown",
   "metadata": {},
   "source": [
    "- [x]  Jupyter Notebook открыт\n",
    "- [x]  Весь код выполняется без ошибок\n",
    "- [x]  Ячейки с кодом расположены в порядке исполнения\n",
    "- [x]  Файлы изучены\n",
    "- [x]  Типы данных проверены на корректность\n",
    "- [x]  Выбран топ-10 городов по количеству рейсов\n",
    "- [x]  Построен график «Модели самолётов и количество рейсов»\n",
    "- [x]  Построен график «Города и количество рейсов»\n",
    "- [x]  Построен график «Топ-10 городов и количество рейсов»\n",
    "- [x]  На каждом этапе написаны выводы\n",
    "- [x]  Написан общий вывод"
   ]
  }
 ],
 "metadata": {
  "ExecuteTimeLog": [
   {
    "duration": 520,
    "start_time": "2021-08-31T15:01:17.532Z"
   },
   {
    "duration": 1367,
    "start_time": "2021-08-31T15:01:55.789Z"
   },
   {
    "duration": 1353,
    "start_time": "2021-08-31T15:02:39.927Z"
   },
   {
    "duration": 30,
    "start_time": "2021-08-31T15:04:08.306Z"
   },
   {
    "duration": 70,
    "start_time": "2021-08-31T15:04:44.835Z"
   },
   {
    "duration": 9,
    "start_time": "2021-08-31T15:04:55.944Z"
   },
   {
    "duration": 8,
    "start_time": "2021-08-31T15:05:00.155Z"
   },
   {
    "duration": 9,
    "start_time": "2021-08-31T15:05:12.058Z"
   },
   {
    "duration": 7,
    "start_time": "2021-08-31T15:06:02.046Z"
   },
   {
    "duration": 7,
    "start_time": "2021-08-31T15:06:10.090Z"
   },
   {
    "duration": 6,
    "start_time": "2021-08-31T15:08:09.259Z"
   },
   {
    "duration": 14,
    "start_time": "2021-08-31T15:10:57.932Z"
   },
   {
    "duration": 8,
    "start_time": "2021-08-31T15:11:20.717Z"
   },
   {
    "duration": 414,
    "start_time": "2021-08-31T15:20:54.413Z"
   },
   {
    "duration": 363,
    "start_time": "2021-08-31T15:21:39.292Z"
   },
   {
    "duration": 258,
    "start_time": "2021-08-31T15:22:56.254Z"
   },
   {
    "duration": 523,
    "start_time": "2021-08-31T15:23:03.675Z"
   },
   {
    "duration": 177,
    "start_time": "2021-08-31T15:23:38.455Z"
   },
   {
    "duration": 10,
    "start_time": "2021-08-31T15:23:48.488Z"
   },
   {
    "duration": 181,
    "start_time": "2021-08-31T15:23:58.707Z"
   },
   {
    "duration": 282,
    "start_time": "2021-08-31T15:24:54.768Z"
   },
   {
    "duration": 473,
    "start_time": "2021-08-31T15:26:15.576Z"
   },
   {
    "duration": 311,
    "start_time": "2021-08-31T15:26:26.074Z"
   },
   {
    "duration": 188,
    "start_time": "2021-08-31T15:26:49.523Z"
   },
   {
    "duration": 3,
    "start_time": "2021-08-31T15:26:59.110Z"
   },
   {
    "duration": 277,
    "start_time": "2021-08-31T15:27:13.733Z"
   },
   {
    "duration": 3573,
    "start_time": "2021-08-31T15:33:51.840Z"
   },
   {
    "duration": 3596,
    "start_time": "2021-08-31T15:34:14.428Z"
   },
   {
    "duration": 3673,
    "start_time": "2021-08-31T15:34:30.813Z"
   },
   {
    "duration": 3761,
    "start_time": "2021-08-31T15:35:03.293Z"
   },
   {
    "duration": 330,
    "start_time": "2021-08-31T15:35:12.600Z"
   },
   {
    "duration": 351,
    "start_time": "2021-08-31T15:36:46.036Z"
   },
   {
    "duration": 347,
    "start_time": "2021-08-31T15:37:12.812Z"
   },
   {
    "duration": 3571,
    "start_time": "2021-08-31T15:37:30.185Z"
   },
   {
    "duration": 3814,
    "start_time": "2021-08-31T15:37:42.612Z"
   },
   {
    "duration": 239,
    "start_time": "2021-08-31T15:38:04.714Z"
   },
   {
    "duration": 253,
    "start_time": "2021-08-31T15:38:16.008Z"
   },
   {
    "duration": 42,
    "start_time": "2021-08-31T15:41:20.363Z"
   },
   {
    "duration": 22,
    "start_time": "2021-08-31T15:41:23.902Z"
   },
   {
    "duration": 42,
    "start_time": "2021-08-31T15:42:28.345Z"
   },
   {
    "duration": 9,
    "start_time": "2021-08-31T15:42:30.807Z"
   },
   {
    "duration": 8,
    "start_time": "2021-08-31T15:43:08.267Z"
   },
   {
    "duration": 8,
    "start_time": "2021-08-31T15:43:43.675Z"
   },
   {
    "duration": 3,
    "start_time": "2021-08-31T15:47:32.032Z"
   },
   {
    "duration": 8,
    "start_time": "2021-08-31T15:48:12.291Z"
   },
   {
    "duration": 8,
    "start_time": "2021-08-31T15:48:53.090Z"
   },
   {
    "duration": 177,
    "start_time": "2021-08-31T15:50:43.569Z"
   },
   {
    "duration": 3,
    "start_time": "2021-08-31T15:50:54.479Z"
   },
   {
    "duration": 8,
    "start_time": "2021-08-31T15:51:00.118Z"
   },
   {
    "duration": 43,
    "start_time": "2021-08-31T15:51:13.478Z"
   },
   {
    "duration": 4583,
    "start_time": "2021-08-31T15:51:38.068Z"
   },
   {
    "duration": -58,
    "start_time": "2021-08-31T15:51:42.711Z"
   },
   {
    "duration": 4,
    "start_time": "2021-08-31T15:51:58.106Z"
   },
   {
    "duration": 8,
    "start_time": "2021-08-31T15:51:59.191Z"
   },
   {
    "duration": 4,
    "start_time": "2021-08-31T15:52:16.798Z"
   },
   {
    "duration": 9,
    "start_time": "2021-08-31T15:52:17.283Z"
   },
   {
    "duration": 191,
    "start_time": "2021-08-31T15:54:23.862Z"
   },
   {
    "duration": 4,
    "start_time": "2021-08-31T15:55:40.889Z"
   },
   {
    "duration": 10,
    "start_time": "2021-08-31T15:55:48.073Z"
   },
   {
    "duration": 198,
    "start_time": "2021-08-31T15:56:06.077Z"
   },
   {
    "duration": 200,
    "start_time": "2021-08-31T15:56:53.151Z"
   },
   {
    "duration": 181,
    "start_time": "2021-08-31T15:58:14.095Z"
   },
   {
    "duration": 4,
    "start_time": "2021-08-31T15:58:30.041Z"
   },
   {
    "duration": 8,
    "start_time": "2021-08-31T15:58:32.270Z"
   },
   {
    "duration": 199,
    "start_time": "2021-08-31T15:59:15.002Z"
   },
   {
    "duration": 172,
    "start_time": "2021-08-31T16:02:39.312Z"
   },
   {
    "duration": 178,
    "start_time": "2021-08-31T16:02:50.127Z"
   },
   {
    "duration": 180,
    "start_time": "2021-08-31T16:03:27.812Z"
   },
   {
    "duration": 5,
    "start_time": "2021-08-31T16:04:18.962Z"
   },
   {
    "duration": 7,
    "start_time": "2021-08-31T16:05:01.271Z"
   },
   {
    "duration": 2,
    "start_time": "2021-08-31T16:05:23.441Z"
   },
   {
    "duration": 5,
    "start_time": "2021-08-31T16:06:23.444Z"
   },
   {
    "duration": 6,
    "start_time": "2021-08-31T16:06:47.633Z"
   },
   {
    "duration": 2,
    "start_time": "2021-08-31T16:23:04.421Z"
   },
   {
    "duration": 3,
    "start_time": "2021-08-31T16:23:10.189Z"
   },
   {
    "duration": 43,
    "start_time": "2021-08-31T16:23:10.352Z"
   },
   {
    "duration": 10,
    "start_time": "2021-08-31T16:23:10.493Z"
   },
   {
    "duration": 12,
    "start_time": "2021-08-31T16:23:10.674Z"
   },
   {
    "duration": 8,
    "start_time": "2021-08-31T16:23:10.832Z"
   },
   {
    "duration": 9,
    "start_time": "2021-08-31T16:23:11.311Z"
   },
   {
    "duration": 256,
    "start_time": "2021-08-31T16:23:11.766Z"
   },
   {
    "duration": 3992,
    "start_time": "2021-08-31T16:23:12.227Z"
   },
   {
    "duration": 405,
    "start_time": "2021-08-31T16:23:16.222Z"
   },
   {
    "duration": 7,
    "start_time": "2021-08-31T16:23:16.629Z"
   },
   {
    "duration": 6,
    "start_time": "2021-08-31T16:23:16.638Z"
   },
   {
    "duration": 13,
    "start_time": "2021-08-31T16:23:16.646Z"
   },
   {
    "duration": 15,
    "start_time": "2021-08-31T16:23:16.661Z"
   },
   {
    "duration": 1547,
    "start_time": "2021-08-31T22:35:35.774Z"
   },
   {
    "duration": 82,
    "start_time": "2021-08-31T22:35:37.324Z"
   },
   {
    "duration": 19,
    "start_time": "2021-08-31T22:35:37.410Z"
   },
   {
    "duration": 23,
    "start_time": "2021-08-31T22:35:37.432Z"
   },
   {
    "duration": 19,
    "start_time": "2021-08-31T22:35:37.457Z"
   },
   {
    "duration": 26,
    "start_time": "2021-08-31T22:35:37.478Z"
   },
   {
    "duration": 378,
    "start_time": "2021-08-31T22:35:37.506Z"
   },
   {
    "duration": 2768,
    "start_time": "2021-08-31T22:35:37.888Z"
   },
   {
    "duration": 388,
    "start_time": "2021-08-31T22:35:40.660Z"
   },
   {
    "duration": 13,
    "start_time": "2021-08-31T22:35:41.057Z"
   },
   {
    "duration": 11,
    "start_time": "2021-08-31T22:35:41.072Z"
   },
   {
    "duration": 13,
    "start_time": "2021-08-31T22:35:41.086Z"
   },
   {
    "duration": 17,
    "start_time": "2021-08-31T22:35:41.101Z"
   },
   {
    "duration": 1120,
    "start_time": "2021-09-01T11:37:02.957Z"
   },
   {
    "duration": 43,
    "start_time": "2021-09-01T11:37:04.079Z"
   },
   {
    "duration": 10,
    "start_time": "2021-09-01T11:37:04.123Z"
   },
   {
    "duration": 11,
    "start_time": "2021-09-01T11:37:04.135Z"
   },
   {
    "duration": 7,
    "start_time": "2021-09-01T11:37:04.148Z"
   },
   {
    "duration": 10,
    "start_time": "2021-09-01T11:37:04.157Z"
   },
   {
    "duration": 221,
    "start_time": "2021-09-01T11:37:04.169Z"
   },
   {
    "duration": 1858,
    "start_time": "2021-09-01T11:37:04.393Z"
   },
   {
    "duration": 240,
    "start_time": "2021-09-01T11:37:06.253Z"
   },
   {
    "duration": 7,
    "start_time": "2021-09-01T11:37:06.495Z"
   },
   {
    "duration": 279,
    "start_time": "2021-09-01T11:38:35.068Z"
   },
   {
    "duration": 186,
    "start_time": "2021-09-01T11:38:46.158Z"
   },
   {
    "duration": 5,
    "start_time": "2021-09-01T11:38:55.395Z"
   },
   {
    "duration": 181,
    "start_time": "2021-09-01T11:39:02.579Z"
   },
   {
    "duration": 4,
    "start_time": "2021-09-01T11:39:13.659Z"
   },
   {
    "duration": 6,
    "start_time": "2021-09-01T11:39:37.168Z"
   },
   {
    "duration": 5,
    "start_time": "2021-09-01T11:39:58.000Z"
   },
   {
    "duration": 182,
    "start_time": "2021-09-01T11:40:28.916Z"
   },
   {
    "duration": 9,
    "start_time": "2021-09-01T11:44:56.333Z"
   }
  ],
  "kernelspec": {
   "display_name": "Python 3",
   "language": "python",
   "name": "python3"
  },
  "language_info": {
   "codemirror_mode": {
    "name": "ipython",
    "version": 3
   },
   "file_extension": ".py",
   "mimetype": "text/x-python",
   "name": "python",
   "nbconvert_exporter": "python",
   "pygments_lexer": "ipython3",
   "version": "3.7.8"
  },
  "toc": {
   "base_numbering": 1,
   "nav_menu": {},
   "number_sections": true,
   "sideBar": true,
   "skip_h1_title": true,
   "title_cell": "Содержание",
   "title_sidebar": "Contents",
   "toc_cell": true,
   "toc_position": {
    "height": "calc(100% - 180px)",
    "left": "10px",
    "top": "150px",
    "width": "174.594px"
   },
   "toc_section_display": true,
   "toc_window_display": false
  }
 },
 "nbformat": 4,
 "nbformat_minor": 2
}
