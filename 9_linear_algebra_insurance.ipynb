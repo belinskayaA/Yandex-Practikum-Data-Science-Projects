{
 "cells": [
  {
   "cell_type": "markdown",
   "metadata": {},
   "source": [
    "<div style=\"border: 1px solid #CCCCFF; border-radius: 1px;\">\n",
    "<div style=\"margin: 5px\">\n",
    "<b class=\"alert-heading\">Комментарий ревьюера</b>\n",
    "<p>Настя, привет!</p>\n",
    "<p>Меня зовут Алексей Секоцкий. Поздравляю с подготовкой очередного проекта. Предлагаю обращаться друг к другу на «ты» если нет возражений. Ниже стандартный блок с условными обозначениями:</p>\n",
    "<div class=\"alert alert-success\" role=\"alert\">\n",
    "всё отлично\n",
    "</div>\n",
    "<div class=\"alert alert-warning\" role=\"alert\">\n",
    "рекомендации на будущее (не требующие доработки проекта)\n",
    "</div>\n",
    "<div class=\"alert alert-danger\" role=\"alert\">\n",
    "критичные моменты требующие внимания (доработки)\n",
    "</div>\n",
    "<div class=\"alert alert-info\">\n",
    "информационные комментарии и итоговый\n",
    "</div>\n",
    "\n",
    "<hr>\n",
    "<p>Пожалуйста, не изменяй и не удаляй мои комментарии – они потребуются для повторной проверки (при необходимости). Задавай вопросы и описывай сделанные изменения, помечая их любым удобным наглядным способом.</p>"
   ]
  },
  {
   "cell_type": "markdown",
   "metadata": {
    "toc": true
   },
   "source": [
    "<h1>Содержание<span class=\"tocSkip\"></span></h1>\n",
    "<div class=\"toc\"><ul class=\"toc-item\"><li><span><a href=\"#Загрузка-данных\" data-toc-modified-id=\"Загрузка-данных-1\"><span class=\"toc-item-num\">1&nbsp;&nbsp;</span>Загрузка данных</a></span></li><li><span><a href=\"#Умножение-матриц\" data-toc-modified-id=\"Умножение-матриц-2\"><span class=\"toc-item-num\">2&nbsp;&nbsp;</span>Умножение матриц</a></span></li><li><span><a href=\"#Алгоритм-преобразования\" data-toc-modified-id=\"Алгоритм-преобразования-3\"><span class=\"toc-item-num\">3&nbsp;&nbsp;</span>Алгоритм преобразования</a></span></li><li><span><a href=\"#Проверка-алгоритма\" data-toc-modified-id=\"Проверка-алгоритма-4\"><span class=\"toc-item-num\">4&nbsp;&nbsp;</span>Проверка алгоритма</a></span></li><li><span><a href=\"#Чек-лист-проверки\" data-toc-modified-id=\"Чек-лист-проверки-5\"><span class=\"toc-item-num\">5&nbsp;&nbsp;</span>Чек-лист проверки</a></span></li></ul></div>"
   ]
  },
  {
   "cell_type": "markdown",
   "metadata": {},
   "source": [
    "# Защита персональных данных клиентов"
   ]
  },
  {
   "cell_type": "markdown",
   "metadata": {},
   "source": [
    "Вам нужно защитить данные клиентов страховой компании «Хоть потоп». Разработайте такой метод преобразования данных, чтобы по ним было сложно восстановить персональную информацию. Обоснуйте корректность его работы.\n",
    "\n",
    "Нужно защитить данные, чтобы при преобразовании качество моделей машинного обучения не ухудшилось. Подбирать наилучшую модель не требуется."
   ]
  },
  {
   "cell_type": "markdown",
   "metadata": {},
   "source": [
    "## Загрузка данных"
   ]
  },
  {
   "cell_type": "markdown",
   "metadata": {},
   "source": [
    "<div class=\"alert alert-warning\">\n",
    "<b>Комментарий ревьюера</b>\n",
    "\n",
    "Перед отправкой ноутбука на проверку (или сдачей заказчику) рекомендую перезапускать код. Это позволит удостовериться в правильности выполнения всех ячеек.\n",
    "</div>"
   ]
  },
  {
   "cell_type": "code",
   "execution_count": 3,
   "metadata": {},
   "outputs": [],
   "source": [
    "import pandas as pd\n",
    "import numpy as np\n",
    "import seaborn as sns\n",
    "import scipy.stats as st\n",
    "import matplotlib.pyplot as plt\n",
    "from sklearn.linear_model import LinearRegression\n",
    "from sklearn.metrics import r2_score"
   ]
  },
  {
   "cell_type": "code",
   "execution_count": 4,
   "metadata": {},
   "outputs": [
    {
     "data": {
      "text/html": [
       "<div>\n",
       "<style scoped>\n",
       "    .dataframe tbody tr th:only-of-type {\n",
       "        vertical-align: middle;\n",
       "    }\n",
       "\n",
       "    .dataframe tbody tr th {\n",
       "        vertical-align: top;\n",
       "    }\n",
       "\n",
       "    .dataframe thead th {\n",
       "        text-align: right;\n",
       "    }\n",
       "</style>\n",
       "<table border=\"1\" class=\"dataframe\">\n",
       "  <thead>\n",
       "    <tr style=\"text-align: right;\">\n",
       "      <th></th>\n",
       "      <th>Пол</th>\n",
       "      <th>Возраст</th>\n",
       "      <th>Зарплата</th>\n",
       "      <th>Члены семьи</th>\n",
       "      <th>Страховые выплаты</th>\n",
       "    </tr>\n",
       "  </thead>\n",
       "  <tbody>\n",
       "    <tr>\n",
       "      <td>0</td>\n",
       "      <td>1</td>\n",
       "      <td>41.0</td>\n",
       "      <td>49600.0</td>\n",
       "      <td>1</td>\n",
       "      <td>0</td>\n",
       "    </tr>\n",
       "    <tr>\n",
       "      <td>1</td>\n",
       "      <td>0</td>\n",
       "      <td>46.0</td>\n",
       "      <td>38000.0</td>\n",
       "      <td>1</td>\n",
       "      <td>1</td>\n",
       "    </tr>\n",
       "    <tr>\n",
       "      <td>2</td>\n",
       "      <td>0</td>\n",
       "      <td>29.0</td>\n",
       "      <td>21000.0</td>\n",
       "      <td>0</td>\n",
       "      <td>0</td>\n",
       "    </tr>\n",
       "  </tbody>\n",
       "</table>\n",
       "</div>"
      ],
      "text/plain": [
       "   Пол  Возраст  Зарплата  Члены семьи  Страховые выплаты\n",
       "0    1     41.0   49600.0            1                  0\n",
       "1    0     46.0   38000.0            1                  1\n",
       "2    0     29.0   21000.0            0                  0"
      ]
     },
     "execution_count": 4,
     "metadata": {},
     "output_type": "execute_result"
    }
   ],
   "source": [
    "df =  pd.read_csv('/datasets/insurance.csv') \n",
    "df.head(3)"
   ]
  },
  {
   "cell_type": "code",
   "execution_count": 5,
   "metadata": {},
   "outputs": [
    {
     "name": "stdout",
     "output_type": "stream",
     "text": [
      "<class 'pandas.core.frame.DataFrame'>\n",
      "RangeIndex: 5000 entries, 0 to 4999\n",
      "Data columns (total 5 columns):\n",
      "Пол                  5000 non-null int64\n",
      "Возраст              5000 non-null float64\n",
      "Зарплата             5000 non-null float64\n",
      "Члены семьи          5000 non-null int64\n",
      "Страховые выплаты    5000 non-null int64\n",
      "dtypes: float64(2), int64(3)\n",
      "memory usage: 195.4 KB\n"
     ]
    }
   ],
   "source": [
    "df.info()"
   ]
  },
  {
   "cell_type": "markdown",
   "metadata": {},
   "source": [
    "Пропусков в данных нет, все переменные нужных типов."
   ]
  },
  {
   "cell_type": "code",
   "execution_count": 6,
   "metadata": {},
   "outputs": [
    {
     "data": {
      "text/plain": [
       "((5000, 4), (5000,))"
      ]
     },
     "execution_count": 6,
     "metadata": {},
     "output_type": "execute_result"
    }
   ],
   "source": [
    "features = df.drop('Страховые выплаты', axis=1)\n",
    "target = df['Страховые выплаты']\n",
    "\n",
    "features.shape, target.shape"
   ]
  },
  {
   "cell_type": "markdown",
   "metadata": {},
   "source": [
    "<div class=\"alert alert-success\">\n",
    "<b>Комментарий ревьюера</b>\n",
    "\n",
    "Отлично. Данные загружены и изучены.\n",
    "</div>"
   ]
  },
  {
   "cell_type": "markdown",
   "metadata": {},
   "source": [
    "<div class=\"alert alert-warning\">\n",
    "<b>Комментарий ревьюера</b>\n",
    "\n",
    "Код ниже предполагается в 4 разделе. В данном разделе только смотрим данные с которыми нам предстоит работать.\n",
    "</div>"
   ]
  },
  {
   "cell_type": "markdown",
   "metadata": {},
   "source": [
    "<div class=\"alert alert-success\">\n",
    "<b>Комментарий ревьюера</b>\n",
    "\n",
    "Отлично, что есть проверка на обратимость. Также при генерации матрицы желательно использовать seed (random_state) для ее воспроизводимости.\n",
    "</div>"
   ]
  },
  {
   "cell_type": "markdown",
   "metadata": {},
   "source": [
    "Качество модели не изменилось после умножения матрицы признаков на случайную обратимую матрицу."
   ]
  },
  {
   "cell_type": "markdown",
   "metadata": {},
   "source": [
    "<div class=\"alert alert-danger\">\n",
    "<b>Комментарий ревьюера</b>\n",
    "\n",
    "Отличное доказательство, но оно у нас в 4 разделе :)\n",
    "<br/>\n",
    "</div>"
   ]
  },
  {
   "cell_type": "markdown",
   "metadata": {},
   "source": [
    "## Умножение матриц"
   ]
  },
  {
   "cell_type": "markdown",
   "metadata": {},
   "source": [
    "В этом задании вы можете записывать формулы в *Jupyter Notebook.*\n",
    "\n",
    "Чтобы записать формулу внутри текста, окружите её символами доллара \\\\$; если снаружи —  двойными символами \\\\$\\\\$. Эти формулы записываются на языке вёрстки *LaTeX.* \n",
    "\n",
    "Для примера мы записали формулы линейной регрессии. Можете их скопировать и отредактировать, чтобы решить задачу.\n",
    "\n",
    "Работать в *LaTeX* необязательно."
   ]
  },
  {
   "cell_type": "markdown",
   "metadata": {},
   "source": [
    "Обозначения:\n",
    "\n",
    "- $X$ — матрица признаков (нулевой столбец состоит из единиц)\n",
    "\n",
    "- $y$ — вектор целевого признака\n",
    "\n",
    "- $P$ — матрица, на которую умножаются признаки\n",
    "\n",
    "- $w$ — вектор весов линейной регрессии (нулевой элемент равен сдвигу)"
   ]
  },
  {
   "cell_type": "markdown",
   "metadata": {},
   "source": [
    "<div class=\"alert alert-warning\">\n",
    "<b>Комментарий ревьюера</b>\n",
    "\n",
    "Здесь матрица на которую умножаются признаки $P$, а ниже будет $A$. Разнообразие может запутать случайных людей, которые будут смотреть проект.\n",
    "</div>"
   ]
  },
  {
   "cell_type": "markdown",
   "metadata": {},
   "source": [
    "Предсказания:\n",
    "\n",
    "$$\n",
    "a = Xw\n",
    "$$\n",
    "\n",
    "Задача обучения:\n",
    "\n",
    "$$\n",
    "w = \\arg\\min_w MSE(Xw, y)\n",
    "$$\n",
    "\n",
    "Формула обучения:\n",
    "\n",
    "$$\n",
    "w = (X^T X)^{-1} X^T y\n",
    "$$"
   ]
  },
  {
   "cell_type": "markdown",
   "metadata": {},
   "source": [
    "**Ответ:** $R^2$ не изменится\n",
    "\n",
    "**Обоснование:** $$\n",
    "a = X_1*w = X_1*(X^T X)^{-1} X^T y = X_1X^{-1}(X^T)^{-1}X^T y= X_1X^{-1} y\n",
    "$$\n",
    "$$\n",
    "a1 = (X_1P)((XP)^T (XP))^{-1} (XP)^T y = (X_1P)(XP)^{-1} ((XP)^T)^{-1} (XP)^T y = X_1PP^{-1} X^{-1}(X^T)^{-1} (P^T)^{-1}X^TP^Ty= X_1X^{-1} y\n",
    "$$\n"
   ]
  },
  {
   "cell_type": "markdown",
   "metadata": {},
   "source": [
    "<div class=\"alert alert-warning\">\n",
    "<b>Комментарий ревьюера</b>\n",
    "\n",
    "Перед нами стоит задача `b. Не изменится. Укажите, как связаны параметры линейной регрессии в исходной задаче и в преобразованной.` Мы должны вывести как связаны $w'$ и $w$, как связаны $a'$ и $a$. Для этого используя свойства матриц мы можем вывести $w' = ((XP)^T (XP))^{-1} (XP)^T y = ... = P^{-1}w$. Далее подставив $w' = P^{-1}w$ в $a' = XPw'$ выведем, что $a' = a$. Можно оставить свое доказательство и вывести новое. Делаем его путем последовательного расрытия скобок и преобразования. Следует обращать внимание на порядок элементов: в нашем случае за счет сокращений мы все равно приходим к одинаковым результатам, однако, мы должны стого соблюдать свойства $(AB)^T = B^TA^T$ и $(AB)^{-1} = B^{-1}A^{-1}$ и помнить, что ${AB} \\neq {BA}$.\n",
    "<br/>\n",
    "</div>"
   ]
  },
  {
   "cell_type": "markdown",
   "metadata": {},
   "source": [
    "<div class=\"alert alert-info\">\n",
    "Не понимаю, я же и пытаюсь доказать, что а = а' за счет последовательного расскрытия скобок, в чем тут ошибка? \n",
    "</div>"
   ]
  },
  {
   "cell_type": "markdown",
   "metadata": {},
   "source": [
    "<div class=\"alert alert-success\">\n",
    "<b>Комментарий ревьюера 2</b>\n",
    "\n",
    "Можно вывести формулы по-другому, приведу пример ниже:\n",
    "    \n",
    "$w' = ((XP)^T XP)^{-1} (XP)^T y = (P^TX^TXP)^{-1}P^TX^Ty$\n",
    "\n",
    "Далее раскроем скобки:\n",
    "\n",
    "$w' =  P^{-1}X^{-1}(X^T)^{-1}(P^T)^{-1}P^TX^Ty$\n",
    "\n",
    "Затем в соответствии со свойством $AA^{-1}=A^{-1}A=E$ в нашем случае $(P^T)^{-1}P^T=P^T(P^T)^{-1}=E$\n",
    "\n",
    "Получим: $w' =  P^{-1}X^{-1}(X^T)^{-1}EX^Ty$\n",
    "\n",
    "По свойству $(AB)^{-1} = B^{-1}A^{-1}$ снова в обратную сторону преобразуем формулу и получим: $w' = P^{-1}(X^TX)^{-1}EX^Ty = P^{-1}(X^TX)^{-1}X^Ty$\n",
    "    \n",
    "Далее заменим $(X^TX)^{-1}X^Ty$ на $w$ и получим: $w' = P^{-1}w$\n",
    "    \n",
    "Подставив\n",
    "$a' = XPw' = XPP^{-1}w= Xw = a$\n",
    "\n",
    "\n",
    "</div>"
   ]
  },
  {
   "cell_type": "markdown",
   "metadata": {},
   "source": [
    "## Алгоритм преобразования"
   ]
  },
  {
   "cell_type": "markdown",
   "metadata": {},
   "source": [
    "**Алгоритм**\n",
    "\n",
    "1) Создать случайную обратимую матрицу\n",
    "\n",
    "2) Домножить нашу матрицу фичей на нее"
   ]
  },
  {
   "cell_type": "markdown",
   "metadata": {},
   "source": [
    "<div class=\"alert alert-danger\">\n",
    "<b>Комментарий ревьюера</b>\n",
    "\n",
    "Это слишком просто и наши признаки быстро «расшифруют». В 1 разделе приведен код работающего алгоритма. Необходимо в данном разделе его описать текстом пошагово.\n",
    "<br/>\n",
    "</div>"
   ]
  },
  {
   "cell_type": "markdown",
   "metadata": {},
   "source": [
    "<div class=\"alert alert-info\">\n",
    "Я не очень понимаю, что значит в данном случае описать пошагово. В моем прошлом алгоритме так же был шаг умножения на случайную обратимую матрицу, почему если мы домножаем на нее и еще случайные числа, то становится \"слишком просто\")))\n",
    "</div>"
   ]
  },
  {
   "cell_type": "markdown",
   "metadata": {},
   "source": [
    "<div class=\"alert alert-success\">\n",
    "<b>Комментарий ревьюера 2</b>\n",
    "   \n",
    "Согласен, поспешил увидев числа. Действительно было не так просто, как показалось :) Приношу извинения.\n",
    "    \n",
    "Пошагово – имел в виду, что шагов можно побольше (как в коде) добавить чтобы алгоритм выглядел более основательно :)\n",
    "1. Генерим ранодомную матрицу размером ...\n",
    "2. Провери на обратимость\n",
    "3. Умножаем матрицу признаков на рандомную\n",
    "4. Определяем метрику R2 с помощью линейной регрессии для предобразованных данных и исходных, а затем сравниваем\n",
    "\n",
    "</div>"
   ]
  },
  {
   "cell_type": "code",
   "execution_count": 15,
   "metadata": {},
   "outputs": [
    {
     "data": {
      "text/plain": [
       "array([[ 2.87678251,  0.14768629, -2.24879792, -0.06459009],\n",
       "       [-0.58011171,  0.19553257,  3.20632074, -2.91553246],\n",
       "       [-1.12144729,  1.44251433, -0.77907444,  0.2688062 ],\n",
       "       [-1.057827  , -0.88161067,  1.49732637,  1.48418743]])"
      ]
     },
     "execution_count": 15,
     "metadata": {},
     "output_type": "execute_result"
    }
   ],
   "source": [
    "#Создадим случайную матрицу нужного размера и проверем ее обратимость\n",
    "np.random.seed(123)\n",
    "A = np.random.rand(4,4)\n",
    "np.linalg.inv(A)"
   ]
  },
  {
   "cell_type": "markdown",
   "metadata": {},
   "source": [
    "**Обоснование**\n",
    "Изменение признаков на константное число не повлияет на эффективность обчения, умножение на обратимую матрицу тоже, обоснование изложено выше."
   ]
  },
  {
   "cell_type": "code",
   "execution_count": 17,
   "metadata": {
    "scrolled": true
   },
   "outputs": [
    {
     "name": "stdout",
     "output_type": "stream",
     "text": [
      "      Пол  Возраст  Зарплата  Члены семьи\n",
      "0       1     41.0   49600.0            1\n",
      "1       0     46.0   38000.0            1\n",
      "2       0     29.0   21000.0            0\n",
      "3       0     21.0   41700.0            2\n",
      "4       1     28.0   26100.0            0\n",
      "...   ...      ...       ...          ...\n",
      "4995    0     28.0   35700.0            2\n",
      "4996    0     34.0   52400.0            1\n",
      "4997    0     20.0   33900.0            2\n",
      "4998    1     22.0   32700.0            3\n",
      "4999    1     28.0   40600.0            1\n",
      "\n",
      "[5000 rows x 4 columns]\n",
      "                 0             1             2             3\n",
      "0     23884.855583  19466.722085  17062.465829  36190.232816\n",
      "1     18308.946401  14919.988266  13086.277811  27736.129044\n",
      "2     10120.434531   8246.737969   7235.180501  15329.903917\n",
      "3     20070.846285  16360.305100  14331.915410  30417.230213\n",
      "4     12573.164229  10246.400345   8984.634471  19047.923910\n",
      "...            ...           ...           ...           ...\n",
      "4995  17190.291159  14010.561736  12279.712663  26047.725777\n",
      "4996  25225.732155  20561.403251  18016.272073  38226.226873\n",
      "4997  16318.857984  13301.365352  11654.146120  24729.957666\n",
      "4998  15744.313682  12832.016360  11244.918925  23857.756987\n",
      "4999  19547.115373  15932.164037  13961.113749  29619.882663\n",
      "\n",
      "[5000 rows x 4 columns]\n"
     ]
    }
   ],
   "source": [
    "# Умножим матрицу фичей на нашу случайную обратимую матрицу A\n",
    "F_inv = features @ A\n",
    "print(features)\n",
    "print(F_inv)"
   ]
  },
  {
   "cell_type": "markdown",
   "metadata": {},
   "source": [
    "## Проверка алгоритма"
   ]
  },
  {
   "cell_type": "code",
   "execution_count": 18,
   "metadata": {},
   "outputs": [
    {
     "data": {
      "text/plain": [
       "0.42494550286668"
      ]
     },
     "execution_count": 18,
     "metadata": {},
     "output_type": "execute_result"
    }
   ],
   "source": [
    "model = LinearRegression()\n",
    "model.fit(features, target)\n",
    "target_pred = model.predict(features)\n",
    "r2_score(target, target_pred)"
   ]
  },
  {
   "cell_type": "code",
   "execution_count": 19,
   "metadata": {},
   "outputs": [
    {
     "data": {
      "text/plain": [
       "0.42494550286668764"
      ]
     },
     "execution_count": 19,
     "metadata": {},
     "output_type": "execute_result"
    }
   ],
   "source": [
    "model = LinearRegression()\n",
    "model.fit(F_inv, target)\n",
    "target_pred = model.predict(F_inv)\n",
    "r2_score(target, target_pred)"
   ]
  },
  {
   "cell_type": "markdown",
   "metadata": {},
   "source": [
    "Качество модели так же не поменялось."
   ]
  },
  {
   "cell_type": "markdown",
   "metadata": {},
   "source": [
    "<s><div class=\"alert alert-danger\">\n",
    "<b>Комментарий ревьюера</b>\n",
    "\n",
    "Вместо этого алгоритма сюда следует перенести код из 1 раздела.\n",
    "<br/>\n",
    "</div></s>"
   ]
  },
  {
   "cell_type": "markdown",
   "metadata": {},
   "source": [
    "<div class=\"alert alert-info\">\n",
    "<b>Итоговый комментарий ревьюера</b>\n",
    "\n",
    "Отличный проект. Осталось уделить немного внимания структуре проекта и выводу новых формул. Постараюсь быстро проверить следующую версию.\n",
    "<hr>\n",
    "</div>"
   ]
  },
  {
   "cell_type": "markdown",
   "metadata": {},
   "source": [
    "<div class=\"alert alert-info\">\n",
    "<b>Итоговый комментарий ревьюера 2</b>\n",
    "\n",
    "Настя, спасибо за живые комментарии. Поздравляю с успешной подготовкой проекта. Вспомнили свойства матриц, вывели формулу и освоили алгоритм шифрования. Можно прочитать про <a href=\"https://ru.wikipedia.org/wiki/Шифр_Хилла\">шифр Хилла</a>, основанный на линейной алгебре. Про другие простые алгоритмы шифрования <a href=\"https://habr.com/ru/post/116716/\">здесь</a>. Желаю успехов в дальнейшем обучении! Впереди еще будут интересные задачи!\n",
    "<hr>\n",
    "</div>"
   ]
  },
  {
   "cell_type": "markdown",
   "metadata": {},
   "source": [
    "## Чек-лист проверки"
   ]
  },
  {
   "cell_type": "markdown",
   "metadata": {},
   "source": [
    "Поставьте 'x' в выполненных пунктах. Далее нажмите Shift+Enter."
   ]
  },
  {
   "cell_type": "markdown",
   "metadata": {},
   "source": [
    "- [x]  Jupyter Notebook открыт\n",
    "- [x]  Весь код выполняется без ошибок\n",
    "- [x]  Ячейки с кодом расположены в порядке исполнения\n",
    "- [x]  Выполнен шаг 1: данные загружены\n",
    "- [x]  Выполнен шаг 2: получен ответ на вопрос об умножении матриц\n",
    "    - [x]  Указан правильный вариант ответа\n",
    "    - [x]  Вариант обоснован\n",
    "- [x]  Выполнен шаг 3: предложен алгоритм преобразования\n",
    "    - [x]  Алгоритм описан\n",
    "    - [x]  Алгоритм обоснован\n",
    "- [x]  Выполнен шаг 4: алгоритм проверен\n",
    "    - [x]  Алгоритм реализован\n",
    "    - [x]  Проведено сравнение качества моделей до и после преобразования"
   ]
  },
  {
   "cell_type": "code",
   "execution_count": null,
   "metadata": {},
   "outputs": [],
   "source": []
  }
 ],
 "metadata": {
  "ExecuteTimeLog": [
   {
    "duration": 349,
    "start_time": "2021-06-21T13:21:57.168Z"
   },
   {
    "duration": 1953,
    "start_time": "2021-06-21T13:22:18.614Z"
   },
   {
    "duration": 21,
    "start_time": "2021-06-21T13:22:20.569Z"
   },
   {
    "duration": 32,
    "start_time": "2021-06-21T14:10:15.440Z"
   },
   {
    "duration": 7,
    "start_time": "2021-06-21T14:35:01.089Z"
   },
   {
    "duration": 13,
    "start_time": "2021-06-21T14:35:36.891Z"
   },
   {
    "duration": 1644,
    "start_time": "2021-06-24T12:19:54.112Z"
   },
   {
    "duration": 51,
    "start_time": "2021-06-24T12:19:55.759Z"
   },
   {
    "duration": 10,
    "start_time": "2021-06-24T12:19:55.813Z"
   },
   {
    "duration": 9,
    "start_time": "2021-06-24T12:19:56.910Z"
   },
   {
    "duration": 7,
    "start_time": "2021-06-24T12:21:24.025Z"
   },
   {
    "duration": 21,
    "start_time": "2021-06-24T12:22:53.818Z"
   },
   {
    "duration": 38,
    "start_time": "2021-06-24T12:24:41.905Z"
   },
   {
    "duration": 33,
    "start_time": "2021-06-24T12:25:35.044Z"
   },
   {
    "duration": 419,
    "start_time": "2021-06-24T12:27:14.667Z"
   },
   {
    "duration": 10,
    "start_time": "2021-06-24T12:27:28.466Z"
   },
   {
    "duration": 351,
    "start_time": "2021-06-24T12:27:33.175Z"
   },
   {
    "duration": 13,
    "start_time": "2021-06-24T12:27:38.931Z"
   },
   {
    "duration": 13,
    "start_time": "2021-06-24T12:28:20.665Z"
   },
   {
    "duration": 17,
    "start_time": "2021-06-24T12:51:57.851Z"
   },
   {
    "duration": 13,
    "start_time": "2021-06-24T12:52:12.624Z"
   },
   {
    "duration": 96,
    "start_time": "2021-06-24T12:52:34.946Z"
   },
   {
    "duration": 4,
    "start_time": "2021-06-24T12:53:07.038Z"
   },
   {
    "duration": 35,
    "start_time": "2021-06-24T12:53:07.163Z"
   },
   {
    "duration": 9,
    "start_time": "2021-06-24T12:53:07.318Z"
   },
   {
    "duration": 8,
    "start_time": "2021-06-24T12:53:07.613Z"
   },
   {
    "duration": 8,
    "start_time": "2021-06-24T12:53:07.770Z"
   },
   {
    "duration": 17,
    "start_time": "2021-06-24T12:53:07.964Z"
   },
   {
    "duration": 16,
    "start_time": "2021-06-24T12:53:08.179Z"
   },
   {
    "duration": 19,
    "start_time": "2021-06-24T12:53:08.357Z"
   },
   {
    "duration": 10,
    "start_time": "2021-06-24T12:53:10.731Z"
   },
   {
    "duration": 15,
    "start_time": "2021-06-24T12:53:11.194Z"
   },
   {
    "duration": 1586,
    "start_time": "2021-06-24T13:12:02.876Z"
   },
   {
    "duration": 29,
    "start_time": "2021-06-24T13:12:04.465Z"
   },
   {
    "duration": 17,
    "start_time": "2021-06-24T13:12:04.497Z"
   },
   {
    "duration": 13,
    "start_time": "2021-06-24T13:12:04.517Z"
   },
   {
    "duration": 16,
    "start_time": "2021-06-24T13:12:04.532Z"
   },
   {
    "duration": 78,
    "start_time": "2021-06-24T13:12:04.552Z"
   },
   {
    "duration": 201,
    "start_time": "2021-06-24T13:12:04.708Z"
   },
   {
    "duration": 14,
    "start_time": "2021-06-24T13:12:04.911Z"
   },
   {
    "duration": 180,
    "start_time": "2021-06-24T13:12:04.929Z"
   },
   {
    "duration": 17,
    "start_time": "2021-06-24T13:12:05.112Z"
   },
   {
    "duration": 357,
    "start_time": "2021-06-24T16:14:09.085Z"
   },
   {
    "duration": 1537,
    "start_time": "2021-06-24T16:14:14.821Z"
   },
   {
    "duration": 32,
    "start_time": "2021-06-24T16:14:16.361Z"
   },
   {
    "duration": 18,
    "start_time": "2021-06-24T16:14:16.396Z"
   },
   {
    "duration": 11,
    "start_time": "2021-06-24T16:14:19.707Z"
   },
   {
    "duration": 387,
    "start_time": "2021-06-24T16:14:21.892Z"
   },
   {
    "duration": 567,
    "start_time": "2021-06-24T16:15:22.879Z"
   },
   {
    "duration": 567,
    "start_time": "2021-06-24T16:15:33.988Z"
   },
   {
    "duration": 389,
    "start_time": "2021-06-24T18:47:10.291Z"
   },
   {
    "duration": 266,
    "start_time": "2021-06-24T18:50:36.108Z"
   },
   {
    "duration": 1631,
    "start_time": "2021-06-24T18:50:40.853Z"
   },
   {
    "duration": 34,
    "start_time": "2021-06-24T18:50:42.486Z"
   },
   {
    "duration": 10,
    "start_time": "2021-06-24T18:50:42.523Z"
   },
   {
    "duration": 19,
    "start_time": "2021-06-24T18:50:42.555Z"
   },
   {
    "duration": 1145,
    "start_time": "2021-06-24T18:51:00.788Z"
   },
   {
    "duration": 263,
    "start_time": "2021-06-24T18:53:03.285Z"
   },
   {
    "duration": 8,
    "start_time": "2021-06-24T18:53:14.974Z"
   },
   {
    "duration": 7,
    "start_time": "2021-06-24T18:53:19.688Z"
   },
   {
    "duration": 8,
    "start_time": "2021-06-24T18:53:21.909Z"
   },
   {
    "duration": 6,
    "start_time": "2021-06-24T18:53:34.042Z"
   },
   {
    "duration": 8,
    "start_time": "2021-06-24T18:53:37.991Z"
   },
   {
    "duration": 9,
    "start_time": "2021-06-24T18:53:46.649Z"
   },
   {
    "duration": 9,
    "start_time": "2021-06-24T18:53:50.577Z"
   },
   {
    "duration": 19,
    "start_time": "2021-06-24T18:55:32.965Z"
   },
   {
    "duration": 15,
    "start_time": "2021-06-24T18:55:41.030Z"
   },
   {
    "duration": 14,
    "start_time": "2021-06-24T18:55:48.362Z"
   },
   {
    "duration": 18,
    "start_time": "2021-06-24T18:55:50.662Z"
   }
  ],
  "kernelspec": {
   "display_name": "Python 3",
   "language": "python",
   "name": "python3"
  },
  "language_info": {
   "codemirror_mode": {
    "name": "ipython",
    "version": 3
   },
   "file_extension": ".py",
   "mimetype": "text/x-python",
   "name": "python",
   "nbconvert_exporter": "python",
   "pygments_lexer": "ipython3",
   "version": "3.7.8"
  },
  "toc": {
   "base_numbering": 1,
   "nav_menu": {},
   "number_sections": true,
   "sideBar": true,
   "skip_h1_title": true,
   "title_cell": "Содержание",
   "title_sidebar": "Contents",
   "toc_cell": true,
   "toc_position": {},
   "toc_section_display": true,
   "toc_window_display": false
  }
 },
 "nbformat": 4,
 "nbformat_minor": 2
}
