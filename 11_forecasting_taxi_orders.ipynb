{
 "cells": [
  {
   "cell_type": "markdown",
   "metadata": {},
   "source": [
    "Привет, меня зовут Артем Хуршудов. Сегодня я проверю твой проект.\n",
    "<br> Дальнейшее общение будет происходить на \"ты\" если это не вызывает никаких проблем.\n",
    "<br> Желательно реагировать на каждый мой комментарий ('исправил', 'не понятно как исправить ошибку', ...)\n",
    "<br> Пожалуйста, не удаляй комментарии ревьюера, так как они повышают качество повторного ревью.\n",
    "\n",
    "Комментарии будут в <font color='green'>зеленой</font>, <font color='blue'>синей</font> или <font color='red'>красной</font> рамках:\n",
    "\n",
    "<div class=\"alert alert-block alert-success\">\n",
    "<b>Успех:</b> Если все сделано отлично\n",
    "</div>\n",
    "\n",
    "<div class=\"alert alert-block alert-info\">\n",
    "<b>Совет: </b> Если можно немного улучшить\n",
    "</div>\n",
    "\n",
    "<div class=\"alert alert-block alert-danger\">\n",
    "<b>Ошибка:</b> Если требуются исправления. Работа не может быть принята с красными комментариями.\n",
    "</div>\n",
    "\n",
    "-------------------\n",
    "\n",
    "Будет очень хорошо, если ты будешь помечать свои действия следующим образом:\n",
    "<div class=\"alert alert-block alert-warning\">\n",
    "<b>Комментарий студента:</b> ...\n",
    "</div>\n",
    "\n",
    "<div class=\"alert alert-block alert-warning\">\n",
    "<b>Изменения:</b> Были внесены следующие изменения ...\n",
    "</div>\n",
    "\n",
    "#### <font color='orange'>Полезные ссылки:</font>\n",
    "* Полезная лекция про временные ряды: https://www.youtube.com/watch?v=u433nrxdf5k .\n",
    "\n",
    "### <font color='orange'>Общее впечатление</font>\n",
    "* Большое спасибо за проделанную работу. Видно, что приложено много усилий.\n",
    "* Отлично, что ноутбук хорошо структурирован. Приятно проверять такие работы.\n",
    "* Над этим проектом нужно будет еще немного поработать. Однако, изменения не должны занять много времени.\n",
    "* В работе я оставил несколько советов. Буду рад, если ты учтешь их.\n",
    "* С радостью отвечу на твои вопросы, если они есть. Лучше всего их собрать в следующей ячейке. Жду новую версию проекта."
   ]
  },
  {
   "cell_type": "markdown",
   "metadata": {},
   "source": [
    "### <font color='orange'>Общее впечатление (ревью 2)</font>\n",
    "* После исправлений проект улучшился и теперь он может быть зачтен.\n",
    "* Для удобства все новые комментарии обозначены фразой \"ревью 2\".\n",
    "* Удачи в дальнейшем обучении и следующих работах!"
   ]
  },
  {
   "cell_type": "markdown",
   "metadata": {
    "toc": true
   },
   "source": [
    "<h1>Содержание<span class=\"tocSkip\"></span></h1>\n",
    "<div class=\"toc\"><ul class=\"toc-item\"><li><ul class=\"toc-item\"><li><ul class=\"toc-item\"><li><span><a href=\"#Полезные-ссылки:\" data-toc-modified-id=\"Полезные-ссылки:-0.0.1\"><span class=\"toc-item-num\">0.0.1&nbsp;&nbsp;</span><font color=\"orange\">Полезные ссылки:</font></a></span></li></ul></li><li><span><a href=\"#Общее-впечатление\" data-toc-modified-id=\"Общее-впечатление-0.1\"><span class=\"toc-item-num\">0.1&nbsp;&nbsp;</span><font color=\"orange\">Общее впечатление</font></a></span></li><li><span><a href=\"#Общее-впечатление-(ревью-2)\" data-toc-modified-id=\"Общее-впечатление-(ревью-2)-0.2\"><span class=\"toc-item-num\">0.2&nbsp;&nbsp;</span><font color=\"orange\">Общее впечатление (ревью 2)</font></a></span></li></ul></li><li><span><a href=\"#Подготовка\" data-toc-modified-id=\"Подготовка-1\"><span class=\"toc-item-num\">1&nbsp;&nbsp;</span>Подготовка</a></span></li><li><span><a href=\"#Анализ\" data-toc-modified-id=\"Анализ-2\"><span class=\"toc-item-num\">2&nbsp;&nbsp;</span>Анализ</a></span></li><li><span><a href=\"#Обучение\" data-toc-modified-id=\"Обучение-3\"><span class=\"toc-item-num\">3&nbsp;&nbsp;</span>Обучение</a></span><ul class=\"toc-item\"><li><span><a href=\"#Разделение-на-тренировочную-и-тестовую-выборки\" data-toc-modified-id=\"Разделение-на-тренировочную-и-тестовую-выборки-3.1\"><span class=\"toc-item-num\">3.1&nbsp;&nbsp;</span>Разделение на тренировочную и тестовую выборки</a></span></li><li><span><a href=\"#Прогноз-с-помощью-среднего-временого-ряда\" data-toc-modified-id=\"Прогноз-с-помощью-среднего-временого-ряда-3.2\"><span class=\"toc-item-num\">3.2&nbsp;&nbsp;</span>Прогноз с помощью среднего временого ряда</a></span></li><li><span><a href=\"#Линейная-регрессия\" data-toc-modified-id=\"Линейная-регрессия-3.3\"><span class=\"toc-item-num\">3.3&nbsp;&nbsp;</span>Линейная регрессия</a></span></li><li><span><a href=\"#Random-forest\" data-toc-modified-id=\"Random-forest-3.4\"><span class=\"toc-item-num\">3.4&nbsp;&nbsp;</span>Random forest</a></span></li><li><span><a href=\"#Lightgbm\" data-toc-modified-id=\"Lightgbm-3.5\"><span class=\"toc-item-num\">3.5&nbsp;&nbsp;</span>Lightgbm</a></span></li></ul></li><li><span><a href=\"#Тестирование\" data-toc-modified-id=\"Тестирование-4\"><span class=\"toc-item-num\">4&nbsp;&nbsp;</span>Тестирование</a></span></li><li><span><a href=\"#Вывод\" data-toc-modified-id=\"Вывод-5\"><span class=\"toc-item-num\">5&nbsp;&nbsp;</span>Вывод</a></span></li><li><span><a href=\"#Чек-лист-проверки\" data-toc-modified-id=\"Чек-лист-проверки-6\"><span class=\"toc-item-num\">6&nbsp;&nbsp;</span>Чек-лист проверки</a></span></li></ul></div>"
   ]
  },
  {
   "cell_type": "markdown",
   "metadata": {},
   "source": [
    "#  Прогнозирование заказов такси"
   ]
  },
  {
   "cell_type": "markdown",
   "metadata": {},
   "source": [
    "Компания «Чётенькое такси» собрала исторические данные о заказах такси в аэропортах. Чтобы привлекать больше водителей в период пиковой нагрузки, нужно спрогнозировать количество заказов такси на следующий час. Постройте модель для такого предсказания.\n",
    "\n",
    "Значение метрики *RMSE* на тестовой выборке должно быть не больше 48.\n",
    "\n",
    "Вам нужно:\n",
    "\n",
    "1. Загрузить данные и выполнить их ресемплирование по одному часу.\n",
    "2. Проанализировать данные.\n",
    "3. Обучить разные модели с различными гиперпараметрами. Сделать тестовую выборку размером 10% от исходных данных.\n",
    "4. Проверить данные на тестовой выборке и сделать выводы.\n",
    "\n",
    "\n",
    "Данные лежат в файле `taxi.csv`. Количество заказов находится в столбце `num_orders` (от англ. *number of orders*, «число заказов»)."
   ]
  },
  {
   "cell_type": "markdown",
   "metadata": {},
   "source": [
    "## Подготовка"
   ]
  },
  {
   "cell_type": "code",
   "execution_count": 90,
   "metadata": {},
   "outputs": [],
   "source": [
    "import pandas as pd\n",
    "import numpy as np\n",
    "import seaborn as sns\n",
    "import scipy.stats as st\n",
    "import matplotlib.pyplot as plt\n",
    "\n",
    "from sklearn.model_selection import train_test_split\n",
    "from sklearn.linear_model import LinearRegression\n",
    "from sklearn.ensemble import RandomForestRegressor\n",
    "from sklearn.metrics import mean_squared_error\n",
    "from sklearn.ensemble import RandomForestRegressor\n",
    "from sklearn.model_selection import TimeSeriesSplit\n",
    "from sklearn.model_selection import GridSearchCV\n",
    "from sklearn.metrics import mean_absolute_error\n",
    "from sklearn.metrics import mean_squared_error\n",
    "\n",
    "import lightgbm as lgb"
   ]
  },
  {
   "cell_type": "markdown",
   "metadata": {},
   "source": [
    "<div class=\"alert alert-block alert-success\">\n",
    "<b>Успех:</b> Отлично, что все импорты собраны в первой ячейке ноутбука! Если у того, кто будет запускать твой ноутбук будут отсутствовать некоторые библиотеки, то он это увидит сразу, а не в процессе!\n",
    "</div>"
   ]
  },
  {
   "cell_type": "code",
   "execution_count": 91,
   "metadata": {},
   "outputs": [
    {
     "name": "stdout",
     "output_type": "stream",
     "text": [
      "<class 'pandas.core.frame.DataFrame'>\n",
      "RangeIndex: 26496 entries, 0 to 26495\n",
      "Data columns (total 2 columns):\n",
      "datetime      26496 non-null object\n",
      "num_orders    26496 non-null int64\n",
      "dtypes: int64(1), object(1)\n",
      "memory usage: 414.1+ KB\n"
     ]
    }
   ],
   "source": [
    "df = pd.read_csv('/datasets/taxi.csv')\n",
    "df.info()"
   ]
  },
  {
   "cell_type": "code",
   "execution_count": 92,
   "metadata": {},
   "outputs": [
    {
     "data": {
      "text/html": [
       "<div>\n",
       "<style scoped>\n",
       "    .dataframe tbody tr th:only-of-type {\n",
       "        vertical-align: middle;\n",
       "    }\n",
       "\n",
       "    .dataframe tbody tr th {\n",
       "        vertical-align: top;\n",
       "    }\n",
       "\n",
       "    .dataframe thead th {\n",
       "        text-align: right;\n",
       "    }\n",
       "</style>\n",
       "<table border=\"1\" class=\"dataframe\">\n",
       "  <thead>\n",
       "    <tr style=\"text-align: right;\">\n",
       "      <th></th>\n",
       "      <th>num_orders</th>\n",
       "    </tr>\n",
       "    <tr>\n",
       "      <th>datetime</th>\n",
       "      <th></th>\n",
       "    </tr>\n",
       "  </thead>\n",
       "  <tbody>\n",
       "    <tr>\n",
       "      <td>2018-03-01 00:00:00</td>\n",
       "      <td>9</td>\n",
       "    </tr>\n",
       "    <tr>\n",
       "      <td>2018-03-01 00:10:00</td>\n",
       "      <td>14</td>\n",
       "    </tr>\n",
       "    <tr>\n",
       "      <td>2018-03-01 00:20:00</td>\n",
       "      <td>28</td>\n",
       "    </tr>\n",
       "  </tbody>\n",
       "</table>\n",
       "</div>"
      ],
      "text/plain": [
       "                     num_orders\n",
       "datetime                       \n",
       "2018-03-01 00:00:00           9\n",
       "2018-03-01 00:10:00          14\n",
       "2018-03-01 00:20:00          28"
      ]
     },
     "execution_count": 92,
     "metadata": {},
     "output_type": "execute_result"
    }
   ],
   "source": [
    "df['datetime'] = pd.to_datetime(df['datetime'])\n",
    "df = df.set_index('datetime')\n",
    "df.head(3)"
   ]
  },
  {
   "cell_type": "code",
   "execution_count": 93,
   "metadata": {},
   "outputs": [
    {
     "data": {
      "text/html": [
       "<div>\n",
       "<style scoped>\n",
       "    .dataframe tbody tr th:only-of-type {\n",
       "        vertical-align: middle;\n",
       "    }\n",
       "\n",
       "    .dataframe tbody tr th {\n",
       "        vertical-align: top;\n",
       "    }\n",
       "\n",
       "    .dataframe thead th {\n",
       "        text-align: right;\n",
       "    }\n",
       "</style>\n",
       "<table border=\"1\" class=\"dataframe\">\n",
       "  <thead>\n",
       "    <tr style=\"text-align: right;\">\n",
       "      <th></th>\n",
       "      <th>num_orders</th>\n",
       "    </tr>\n",
       "    <tr>\n",
       "      <th>datetime</th>\n",
       "      <th></th>\n",
       "    </tr>\n",
       "  </thead>\n",
       "  <tbody>\n",
       "    <tr>\n",
       "      <td>2018-03-01 00:00:00</td>\n",
       "      <td>124</td>\n",
       "    </tr>\n",
       "    <tr>\n",
       "      <td>2018-03-01 01:00:00</td>\n",
       "      <td>85</td>\n",
       "    </tr>\n",
       "    <tr>\n",
       "      <td>2018-03-01 02:00:00</td>\n",
       "      <td>71</td>\n",
       "    </tr>\n",
       "  </tbody>\n",
       "</table>\n",
       "</div>"
      ],
      "text/plain": [
       "                     num_orders\n",
       "datetime                       \n",
       "2018-03-01 00:00:00         124\n",
       "2018-03-01 01:00:00          85\n",
       "2018-03-01 02:00:00          71"
      ]
     },
     "execution_count": 93,
     "metadata": {},
     "output_type": "execute_result"
    }
   ],
   "source": [
    "df_resample = df.resample('1H').sum()\n",
    "df_resample.head(3)"
   ]
  },
  {
   "cell_type": "code",
   "execution_count": 94,
   "metadata": {},
   "outputs": [
    {
     "data": {
      "image/png": "[encoded data removed]",
      "text/plain": [
       "<Figure size 1440x720 with 1 Axes>"
      ]
     },
     "metadata": {
      "needs_background": "light"
     },
     "output_type": "display_data"
    }
   ],
   "source": [
    "plt.figure(figsize=(20,10))\n",
    "plt.plot(df_resample.index, df_resample.num_orders)\n",
    "plt.show()"
   ]
  },
  {
   "cell_type": "markdown",
   "metadata": {},
   "source": [
    "<div class=\"alert alert-block alert-success\">\n",
    "<b>Успех:</b> Данные загружены корректно, ресемплинг сделан правильно. Радует, что ряд был визуализирован.\n",
    "</div>\n",
    "\n",
    "<div class=\"alert alert-block alert-info\">\n",
    "\n",
    "<b>Совет: </b> Я бы сделал сам график шире с помощью `plt.figure`.\n",
    "</div>"
   ]
  },
  {
   "cell_type": "markdown",
   "metadata": {},
   "source": [
    "<div class=\"alert alert-block alert-warning\">\n",
    "Изменила масштаб на побольше.\n",
    "</div>"
   ]
  },
  {
   "cell_type": "markdown",
   "metadata": {},
   "source": [
    "<div class=\"alert alert-block alert-success\">\n",
    "<b>Успех (ревью 2):</b> Спасибо!\n",
    "</div>"
   ]
  },
  {
   "cell_type": "markdown",
   "metadata": {},
   "source": [
    "## Анализ"
   ]
  },
  {
   "cell_type": "code",
   "execution_count": 95,
   "metadata": {},
   "outputs": [],
   "source": [
    "#df_resample['mean'] = df_resample['num_orders'].rolling(15).mean()\n",
    "#df_resample['std'] = df_resample['num_orders'].rolling(15).std()\n",
    "#df_resample.plot()"
   ]
  },
  {
   "cell_type": "markdown",
   "metadata": {},
   "source": [
    "Мы видим, линейное возрастание заказов в летние месяцы и максимум в августе. Однако стандартное отклонение у нашего временного ряда не меняется, но так как среднее возрастает, следовательно ряд не стационарный, его будет тяжело предсказывать в таком виде, поэтому сделаем его стационарным, найдя разности его значений."
   ]
  },
  {
   "cell_type": "markdown",
   "metadata": {},
   "source": [
    "<div class=\"alert alert-block alert-danger\">\n",
    "<b>Ошибка:</b> mean и std посчитаны без сдвига, а это значит, что их нельзя использовать при обучении модели, так как для своего расчета они используют текущее значение num_orders. Пожалуйста, удали их.\n",
    "</div>"
   ]
  },
  {
   "cell_type": "markdown",
   "metadata": {},
   "source": [
    "<div class=\"alert alert-block alert-warning\">\n",
    "Поняла, спасибо, тогда просто не буду делать такую визуализацию, так как все равно без них виден тренд роста среднего и неизменность стандарного отклонения.\n",
    "</div>"
   ]
  },
  {
   "cell_type": "code",
   "execution_count": 96,
   "metadata": {},
   "outputs": [],
   "source": [
    "#def make_features(data, max_lag, rolling_mean_size):\n",
    "#    \n",
    "#    data['year'] = data.index.year\n",
    "#    data['month'] = data.index.month\n",
    "#    data['day'] = data.index.day\n",
    "#    data['dayofweek'] = data.index.dayofweek\n",
    "#    \n",
    "#    for lag in range(1, max_lag + 1):\n",
    "#        data['lag_{}'.format(lag)] = data['num_orders'].shift(lag)\n",
    "#\n",
    "#    data['rolling_mean'] = data['num_orders'].shift().rolling(rolling_mean_size).mean()"
   ]
  },
  {
   "cell_type": "code",
   "execution_count": 97,
   "metadata": {},
   "outputs": [],
   "source": [
    "def make_features(data, max_lag, rolling_mean_size):\n",
    "    data_new = data\n",
    "    data_new['year'] = data.index.year\n",
    "    data_new['month'] = data.index.month\n",
    "    data_new['day'] = data.index.day\n",
    "    data_new['dayofweek'] = data.index.dayofweek\n",
    "    for lag in range(1, max_lag + 1):\n",
    "        data_new['lag_{}'.format(lag)] = data_new['num_orders'].shift(lag)\n",
    "\n",
    "    data_new['rolling_mean'] = data_new['num_orders'].shift().rolling(rolling_mean_size).mean()\n",
    "    return data_new"
   ]
  },
  {
   "cell_type": "code",
   "execution_count": 98,
   "metadata": {},
   "outputs": [
    {
     "data": {
      "text/html": [
       "<div>\n",
       "<style scoped>\n",
       "    .dataframe tbody tr th:only-of-type {\n",
       "        vertical-align: middle;\n",
       "    }\n",
       "\n",
       "    .dataframe tbody tr th {\n",
       "        vertical-align: top;\n",
       "    }\n",
       "\n",
       "    .dataframe thead th {\n",
       "        text-align: right;\n",
       "    }\n",
       "</style>\n",
       "<table border=\"1\" class=\"dataframe\">\n",
       "  <thead>\n",
       "    <tr style=\"text-align: right;\">\n",
       "      <th></th>\n",
       "      <th>num_orders</th>\n",
       "      <th>year</th>\n",
       "      <th>month</th>\n",
       "      <th>day</th>\n",
       "      <th>dayofweek</th>\n",
       "      <th>lag_1</th>\n",
       "      <th>lag_2</th>\n",
       "      <th>lag_3</th>\n",
       "      <th>lag_4</th>\n",
       "      <th>lag_5</th>\n",
       "      <th>...</th>\n",
       "      <th>lag_16</th>\n",
       "      <th>lag_17</th>\n",
       "      <th>lag_18</th>\n",
       "      <th>lag_19</th>\n",
       "      <th>lag_20</th>\n",
       "      <th>lag_21</th>\n",
       "      <th>lag_22</th>\n",
       "      <th>lag_23</th>\n",
       "      <th>lag_24</th>\n",
       "      <th>rolling_mean</th>\n",
       "    </tr>\n",
       "    <tr>\n",
       "      <th>datetime</th>\n",
       "      <th></th>\n",
       "      <th></th>\n",
       "      <th></th>\n",
       "      <th></th>\n",
       "      <th></th>\n",
       "      <th></th>\n",
       "      <th></th>\n",
       "      <th></th>\n",
       "      <th></th>\n",
       "      <th></th>\n",
       "      <th></th>\n",
       "      <th></th>\n",
       "      <th></th>\n",
       "      <th></th>\n",
       "      <th></th>\n",
       "      <th></th>\n",
       "      <th></th>\n",
       "      <th></th>\n",
       "      <th></th>\n",
       "      <th></th>\n",
       "      <th></th>\n",
       "    </tr>\n",
       "  </thead>\n",
       "  <tbody>\n",
       "    <tr>\n",
       "      <td>2018-03-01 00:00:00</td>\n",
       "      <td>124</td>\n",
       "      <td>2018</td>\n",
       "      <td>3</td>\n",
       "      <td>1</td>\n",
       "      <td>3</td>\n",
       "      <td>NaN</td>\n",
       "      <td>NaN</td>\n",
       "      <td>NaN</td>\n",
       "      <td>NaN</td>\n",
       "      <td>NaN</td>\n",
       "      <td>...</td>\n",
       "      <td>NaN</td>\n",
       "      <td>NaN</td>\n",
       "      <td>NaN</td>\n",
       "      <td>NaN</td>\n",
       "      <td>NaN</td>\n",
       "      <td>NaN</td>\n",
       "      <td>NaN</td>\n",
       "      <td>NaN</td>\n",
       "      <td>NaN</td>\n",
       "      <td>NaN</td>\n",
       "    </tr>\n",
       "    <tr>\n",
       "      <td>2018-03-01 01:00:00</td>\n",
       "      <td>85</td>\n",
       "      <td>2018</td>\n",
       "      <td>3</td>\n",
       "      <td>1</td>\n",
       "      <td>3</td>\n",
       "      <td>124.0</td>\n",
       "      <td>NaN</td>\n",
       "      <td>NaN</td>\n",
       "      <td>NaN</td>\n",
       "      <td>NaN</td>\n",
       "      <td>...</td>\n",
       "      <td>NaN</td>\n",
       "      <td>NaN</td>\n",
       "      <td>NaN</td>\n",
       "      <td>NaN</td>\n",
       "      <td>NaN</td>\n",
       "      <td>NaN</td>\n",
       "      <td>NaN</td>\n",
       "      <td>NaN</td>\n",
       "      <td>NaN</td>\n",
       "      <td>NaN</td>\n",
       "    </tr>\n",
       "    <tr>\n",
       "      <td>2018-03-01 02:00:00</td>\n",
       "      <td>71</td>\n",
       "      <td>2018</td>\n",
       "      <td>3</td>\n",
       "      <td>1</td>\n",
       "      <td>3</td>\n",
       "      <td>85.0</td>\n",
       "      <td>124.0</td>\n",
       "      <td>NaN</td>\n",
       "      <td>NaN</td>\n",
       "      <td>NaN</td>\n",
       "      <td>...</td>\n",
       "      <td>NaN</td>\n",
       "      <td>NaN</td>\n",
       "      <td>NaN</td>\n",
       "      <td>NaN</td>\n",
       "      <td>NaN</td>\n",
       "      <td>NaN</td>\n",
       "      <td>NaN</td>\n",
       "      <td>NaN</td>\n",
       "      <td>NaN</td>\n",
       "      <td>NaN</td>\n",
       "    </tr>\n",
       "    <tr>\n",
       "      <td>2018-03-01 03:00:00</td>\n",
       "      <td>66</td>\n",
       "      <td>2018</td>\n",
       "      <td>3</td>\n",
       "      <td>1</td>\n",
       "      <td>3</td>\n",
       "      <td>71.0</td>\n",
       "      <td>85.0</td>\n",
       "      <td>124.0</td>\n",
       "      <td>NaN</td>\n",
       "      <td>NaN</td>\n",
       "      <td>...</td>\n",
       "      <td>NaN</td>\n",
       "      <td>NaN</td>\n",
       "      <td>NaN</td>\n",
       "      <td>NaN</td>\n",
       "      <td>NaN</td>\n",
       "      <td>NaN</td>\n",
       "      <td>NaN</td>\n",
       "      <td>NaN</td>\n",
       "      <td>NaN</td>\n",
       "      <td>NaN</td>\n",
       "    </tr>\n",
       "    <tr>\n",
       "      <td>2018-03-01 04:00:00</td>\n",
       "      <td>43</td>\n",
       "      <td>2018</td>\n",
       "      <td>3</td>\n",
       "      <td>1</td>\n",
       "      <td>3</td>\n",
       "      <td>66.0</td>\n",
       "      <td>71.0</td>\n",
       "      <td>85.0</td>\n",
       "      <td>124.0</td>\n",
       "      <td>NaN</td>\n",
       "      <td>...</td>\n",
       "      <td>NaN</td>\n",
       "      <td>NaN</td>\n",
       "      <td>NaN</td>\n",
       "      <td>NaN</td>\n",
       "      <td>NaN</td>\n",
       "      <td>NaN</td>\n",
       "      <td>NaN</td>\n",
       "      <td>NaN</td>\n",
       "      <td>NaN</td>\n",
       "      <td>NaN</td>\n",
       "    </tr>\n",
       "  </tbody>\n",
       "</table>\n",
       "<p>5 rows × 30 columns</p>\n",
       "</div>"
      ],
      "text/plain": [
       "                     num_orders  year  month  day  dayofweek  lag_1  lag_2  \\\n",
       "datetime                                                                     \n",
       "2018-03-01 00:00:00         124  2018      3    1          3    NaN    NaN   \n",
       "2018-03-01 01:00:00          85  2018      3    1          3  124.0    NaN   \n",
       "2018-03-01 02:00:00          71  2018      3    1          3   85.0  124.0   \n",
       "2018-03-01 03:00:00          66  2018      3    1          3   71.0   85.0   \n",
       "2018-03-01 04:00:00          43  2018      3    1          3   66.0   71.0   \n",
       "\n",
       "                     lag_3  lag_4  lag_5  ...  lag_16  lag_17  lag_18  lag_19  \\\n",
       "datetime                                  ...                                   \n",
       "2018-03-01 00:00:00    NaN    NaN    NaN  ...     NaN     NaN     NaN     NaN   \n",
       "2018-03-01 01:00:00    NaN    NaN    NaN  ...     NaN     NaN     NaN     NaN   \n",
       "2018-03-01 02:00:00    NaN    NaN    NaN  ...     NaN     NaN     NaN     NaN   \n",
       "2018-03-01 03:00:00  124.0    NaN    NaN  ...     NaN     NaN     NaN     NaN   \n",
       "2018-03-01 04:00:00   85.0  124.0    NaN  ...     NaN     NaN     NaN     NaN   \n",
       "\n",
       "                     lag_20  lag_21  lag_22  lag_23  lag_24  rolling_mean  \n",
       "datetime                                                                   \n",
       "2018-03-01 00:00:00     NaN     NaN     NaN     NaN     NaN           NaN  \n",
       "2018-03-01 01:00:00     NaN     NaN     NaN     NaN     NaN           NaN  \n",
       "2018-03-01 02:00:00     NaN     NaN     NaN     NaN     NaN           NaN  \n",
       "2018-03-01 03:00:00     NaN     NaN     NaN     NaN     NaN           NaN  \n",
       "2018-03-01 04:00:00     NaN     NaN     NaN     NaN     NaN           NaN  \n",
       "\n",
       "[5 rows x 30 columns]"
      ]
     },
     "execution_count": 98,
     "metadata": {},
     "output_type": "execute_result"
    }
   ],
   "source": [
    "data_fin=make_features(df_resample, 24, 70)\n",
    "data_fin.head(5)"
   ]
  },
  {
   "cell_type": "markdown",
   "metadata": {},
   "source": [
    "<div class=\"alert alert-block alert-info\">\n",
    "<b>Совет: </b> Желательно было написать функцию таким образом, чтобы она возвращала новый датафрейм, а не изменяла глобальную переменную.\n",
    "</div>"
   ]
  },
  {
   "cell_type": "markdown",
   "metadata": {},
   "source": [
    "<div class=\"alert alert-block alert-warning\">\n",
    "Я правильно тебя поняла?\n",
    "</div>"
   ]
  },
  {
   "cell_type": "markdown",
   "metadata": {},
   "source": [
    "<div class=\"alert alert-block alert-info\">\n",
    "\n",
    "<b>Совет (ревью 2): </b> Да, но только надо было сделать так: `data_new = data.copy()`. Иначе, ты изменяешь глобальную переменную и возвращаешь новую.\n",
    "</div>"
   ]
  },
  {
   "cell_type": "markdown",
   "metadata": {},
   "source": [
    "## Обучение"
   ]
  },
  {
   "cell_type": "markdown",
   "metadata": {},
   "source": [
    "### Разделение на тренировочную и тестовую выборки"
   ]
  },
  {
   "cell_type": "code",
   "execution_count": 99,
   "metadata": {},
   "outputs": [
    {
     "name": "stderr",
     "output_type": "stream",
     "text": [
      "/opt/conda/lib/python3.7/site-packages/ipykernel_launcher.py:2: SettingWithCopyWarning: \n",
      "A value is trying to be set on a copy of a slice from a DataFrame\n",
      "\n",
      "See the caveats in the documentation: http://pandas.pydata.org/pandas-docs/stable/user_guide/indexing.html#returning-a-view-versus-a-copy\n",
      "  \n"
     ]
    }
   ],
   "source": [
    "train, test = train_test_split(data_fin, shuffle=False, test_size=0.1)\n",
    "train.dropna(inplace=True)\n",
    "\n",
    "features_train = train.drop('num_orders', axis=1)\n",
    "target_train = train['num_orders']\n",
    "\n",
    "features_test = test.drop('num_orders', axis=1)\n",
    "target_test = test['num_orders']"
   ]
  },
  {
   "cell_type": "markdown",
   "metadata": {},
   "source": [
    "<div class=\"alert alert-block alert-success\">\n",
    "<b>Успех:</b> Разбиение было сделано правильно.\n",
    "</div>"
   ]
  },
  {
   "cell_type": "markdown",
   "metadata": {},
   "source": [
    "### Прогноз с помощью среднего временого ряда "
   ]
  },
  {
   "cell_type": "code",
   "execution_count": 100,
   "metadata": {},
   "outputs": [
    {
     "name": "stdout",
     "output_type": "stream",
     "text": [
      "RMSE спомощью среднего значения на тестовой выборке 84.48038733906483\n"
     ]
    }
   ],
   "source": [
    "pred_mean = test.shape[0] * [train['num_orders'].mean()]\n",
    "\n",
    "print('RMSE спомощью среднего значения на тестовой выборке', mean_squared_error(target_test, pred_mean)**0.5)"
   ]
  },
  {
   "cell_type": "markdown",
   "metadata": {},
   "source": [
    "### Линейная регрессия"
   ]
  },
  {
   "cell_type": "code",
   "execution_count": 101,
   "metadata": {
    "scrolled": true
   },
   "outputs": [
    {
     "name": "stdout",
     "output_type": "stream",
     "text": [
      "RMSE линейной регрессии на тренировочной выборке 25.827343409861637\n"
     ]
    }
   ],
   "source": [
    "model_lr = LinearRegression()\n",
    "model_lr.fit(features_train, target_train)\n",
    "print('RMSE линейной регрессии на тренировочной выборке', mean_squared_error(target_train, model_lr.predict(features_train))**0.5)"
   ]
  },
  {
   "cell_type": "markdown",
   "metadata": {},
   "source": [
    "<div class=\"alert alert-block alert-danger\">\n",
    "<b>Ошибка:</b> Метрика получилось равной нулю из-за утечки данных.\n",
    "</div>"
   ]
  },
  {
   "cell_type": "markdown",
   "metadata": {},
   "source": [
    "<div class=\"alert alert-block alert-warning\">\n",
    "Исправила.\n",
    "</div>"
   ]
  },
  {
   "cell_type": "markdown",
   "metadata": {},
   "source": [
    "### Random forest"
   ]
  },
  {
   "cell_type": "code",
   "execution_count": 102,
   "metadata": {},
   "outputs": [
    {
     "name": "stdout",
     "output_type": "stream",
     "text": [
      "Fitting 3 folds for each of 6 candidates, totalling 18 fits\n"
     ]
    },
    {
     "name": "stderr",
     "output_type": "stream",
     "text": [
      "[Parallel(n_jobs=-1)]: Using backend SequentialBackend with 1 concurrent workers.\n",
      "[Parallel(n_jobs=-1)]: Done  18 out of  18 | elapsed:   44.5s finished\n"
     ]
    },
    {
     "name": "stdout",
     "output_type": "stream",
     "text": [
      "RMSE случайного леса на тренировочной выборке 9.794300695953686\n"
     ]
    }
   ],
   "source": [
    "# TimeSeriesSplit\n",
    "splits = TimeSeriesSplit(n_splits=3)\n",
    "# RandomForest\n",
    "model_rf = RandomForestRegressor(random_state=12345)\n",
    "parametrs = {'max_depth': [1, 10, 15],'n_estimators':[100, 150]}\n",
    "\n",
    "model_rf_grid = GridSearchCV(model_rf, parametrs, cv = splits,verbose=True,n_jobs=-1)\n",
    "model_rf_grid.fit(features_train,target_train)\n",
    "print('RMSE случайного леса на тренировочной выборке', mean_squared_error(target_train, model_rf_grid.best_estimator_.predict(features_train))**0.5)"
   ]
  },
  {
   "cell_type": "markdown",
   "metadata": {},
   "source": [
    "<div class=\"alert alert-block alert-success\">\n",
    "<b>Успех:</b> Отлично, что для подбора параметров использовался метод основанный на кросс-валидации с корректным сплиттером.\n",
    "</div>\n",
    "\n",
    "<div class=\"alert alert-block alert-info\">\n",
    "<b>Совет: </b> Желательно было еще указать нашу целевую метрику в параметр scoring.\n",
    "</div>"
   ]
  },
  {
   "cell_type": "markdown",
   "metadata": {},
   "source": [
    "<div class=\"alert alert-block alert-warning\">\n",
    "Я пробовала писать в scoring = 'neg_root_mean_squared_error', но почему-то он выдавал ошибку, что нет такого параметра, хотя вроде в документации он есть https://scikit-learn.org/stable/modules/model_evaluation.html \n",
    "Можешь, пожалуйста, объясниь, что я делаю не так?)\n",
    "</div>\n"
   ]
  },
  {
   "cell_type": "markdown",
   "metadata": {},
   "source": [
    "<div class=\"alert alert-block alert-info\">\n",
    "\n",
    "<b>Совет (ревью 2): </b> Можно было смотреть скор на кросс-валидации вот так: `model_rf_grid.best_score_`.\n",
    "</div>"
   ]
  },
  {
   "cell_type": "markdown",
   "metadata": {},
   "source": [
    "### Lightgbm"
   ]
  },
  {
   "cell_type": "code",
   "execution_count": 103,
   "metadata": {},
   "outputs": [
    {
     "name": "stdout",
     "output_type": "stream",
     "text": [
      "[100]\ttraining's l2: 159.032\tvalid_1's l2: 1784.74\n",
      "[200]\ttraining's l2: 70.6049\tvalid_1's l2: 1702.84\n",
      "[300]\ttraining's l2: 33.4718\tvalid_1's l2: 1672.53\n",
      "[400]\ttraining's l2: 18.1078\tvalid_1's l2: 1657.62\n",
      "[500]\ttraining's l2: 9.21315\tvalid_1's l2: 1654.82\n",
      "[600]\ttraining's l2: 4.88176\tvalid_1's l2: 1661.51\n",
      "[700]\ttraining's l2: 2.49215\tvalid_1's l2: 1659.81\n",
      "[800]\ttraining's l2: 1.34912\tvalid_1's l2: 1662.3\n",
      "[900]\ttraining's l2: 0.724534\tvalid_1's l2: 1663.42\n",
      "[1000]\ttraining's l2: 0.377397\tvalid_1's l2: 1663.13\n"
     ]
    }
   ],
   "source": [
    "lgb_train = lgb.Dataset(features_train, target_train)\n",
    "lgb_test = lgb.Dataset(features_test,target_test, reference=lgb_train)\n",
    "parameters_light = {'metric': 'l2', 'max_depth':10,\"random_state\": 12345,\"learning_rate\":0.1}\n",
    "light = lgb.train(parameters_light,\n",
    "                lgb_train,\n",
    "                num_boost_round=1000,\n",
    "                valid_sets=[lgb_train,lgb_test],\n",
    "                verbose_eval=100)"
   ]
  },
  {
   "cell_type": "code",
   "execution_count": 104,
   "metadata": {},
   "outputs": [
    {
     "name": "stdout",
     "output_type": "stream",
     "text": [
      "RMSE lgb на тренировочной выборке 0.6143262498875147\n"
     ]
    }
   ],
   "source": [
    "preds_lgb_train = light.predict(features_train)\n",
    "print('RMSE lgb на тренировочной выборке', mean_squared_error(target_train,preds_lgb_train)**0.5)"
   ]
  },
  {
   "cell_type": "markdown",
   "metadata": {},
   "source": [
    "## Тестирование"
   ]
  },
  {
   "cell_type": "code",
   "execution_count": 105,
   "metadata": {},
   "outputs": [
    {
     "name": "stdout",
     "output_type": "stream",
     "text": [
      "RMSE линейной регрессии на тестовой выборке 46.336442363703135\n",
      "RMSE случайного леса на тестовой выборке 42.38038524376972\n",
      "RMSE lgb на тестовой выборке 40.781508116693246\n"
     ]
    }
   ],
   "source": [
    "RMSE_test_LR = mean_squared_error(target_test, model_lr.predict(features_test))**0.5\n",
    "RMSE_test_RF = mean_squared_error(target_test, model_rf_grid.best_estimator_.predict(features_test))**0.5\n",
    "preds_lgb_test = light.predict(features_test)\n",
    "RMSE_test_lgb = mean_squared_error(target_test, preds_lgb_test)**0.5\n",
    "\n",
    "print('RMSE линейной регрессии на тестовой выборке', RMSE_test_LR)\n",
    "print('RMSE случайного леса на тестовой выборке', RMSE_test_RF)\n",
    "print('RMSE lgb на тестовой выборке', RMSE_test_lgb)"
   ]
  },
  {
   "cell_type": "markdown",
   "metadata": {},
   "source": [
    "<div class=\"alert alert-block alert-success\">\n",
    "<b>Успех:</b> Тестирование проведено верно.\n",
    "</div>"
   ]
  },
  {
   "cell_type": "code",
   "execution_count": 106,
   "metadata": {},
   "outputs": [
    {
     "data": {
      "image/png": "[encoded data removed]",
      "text/plain": [
       "<Figure size 1440x720 with 1 Axes>"
      ]
     },
     "metadata": {
      "needs_background": "light"
     },
     "output_type": "display_data"
    }
   ],
   "source": [
    "plt.figure(figsize=(20,10))\n",
    "plt.plot(features_test.index, target_test, label='values', color='green')\n",
    "plt.plot(features_test.index, preds_lgb_test, label='predictions_lgb', color='blue')\n",
    "plt.legend()\n",
    "plt.show()"
   ]
  },
  {
   "cell_type": "markdown",
   "metadata": {},
   "source": [
    "<div class=\"alert alert-block alert-success\">\n",
    "<b>Успех:</b> Радует, что предсказания были визуализированы.\n",
    "</div>"
   ]
  },
  {
   "cell_type": "markdown",
   "metadata": {},
   "source": [
    "## Вывод"
   ]
  },
  {
   "cell_type": "markdown",
   "metadata": {},
   "source": [
    "Все модели проходят по критерию метрика RMSE меньше 48, но лучше всего себя показывает Lightgbm модель - 40.7. На графике можно видеть, что модель хорошо справляется с предсказанием спроса и ошибается в основнов в ситуации аномально высокого спроса. Так же можно сделать вывод, что для предсказывания временных рядов важную роль играют парметры max_lag, rolling_mean_size. Если их подобрать верно, то и качество моделей будет значительно выше."
   ]
  },
  {
   "cell_type": "markdown",
   "metadata": {},
   "source": [
    "<div class=\"alert alert-block alert-info\">\n",
    "<b>Совет: </b> не забудь изменить вывод.\n",
    "</div>"
   ]
  },
  {
   "cell_type": "markdown",
   "metadata": {},
   "source": [
    "<div class=\"alert alert-block alert-warning\">\n",
    "Изменила.\n",
    "</div>"
   ]
  },
  {
   "cell_type": "markdown",
   "metadata": {},
   "source": [
    "## Чек-лист проверки"
   ]
  },
  {
   "cell_type": "markdown",
   "metadata": {},
   "source": [
    "- [x]  Jupyter Notebook открыт\n",
    "- [x]  Весь код выполняется без ошибок\n",
    "- [x]  Ячейки с кодом расположены в порядке исполнения\n",
    "- [x]  Данные загружены и подготовлены\n",
    "- [x]  Данные проанализированы\n",
    "- [x]  Модель обучена, гиперпараметры подобраны\n",
    "- [x]  Качество моделей проверено, выводы сделаны\n",
    "- [x]  Значение *RMSE* на тестовой выборке не больше 48"
   ]
  }
 ],
 "metadata": {
  "ExecuteTimeLog": [
   {
    "duration": 1456,
    "start_time": "2021-07-26T09:46:14.559Z"
   },
   {
    "duration": 83,
    "start_time": "2021-07-26T09:46:36.751Z"
   },
   {
    "duration": 11,
    "start_time": "2021-07-26T09:46:46.336Z"
   },
   {
    "duration": 456,
    "start_time": "2021-07-26T09:49:26.344Z"
   },
   {
    "duration": 16,
    "start_time": "2021-07-26T09:50:47.423Z"
   },
   {
    "duration": 273,
    "start_time": "2021-07-26T09:50:53.275Z"
   },
   {
    "duration": 19,
    "start_time": "2021-07-26T09:51:03.610Z"
   },
   {
    "duration": 46,
    "start_time": "2021-07-26T09:51:35.670Z"
   },
   {
    "duration": 9,
    "start_time": "2021-07-26T09:51:36.931Z"
   },
   {
    "duration": 6011,
    "start_time": "2021-07-26T09:51:40.978Z"
   },
   {
    "duration": 37,
    "start_time": "2021-07-26T09:51:58.563Z"
   },
   {
    "duration": 25,
    "start_time": "2021-07-26T09:52:01.826Z"
   },
   {
    "duration": 243,
    "start_time": "2021-07-26T09:54:08.259Z"
   },
   {
    "duration": 14,
    "start_time": "2021-07-26T09:56:20.092Z"
   },
   {
    "duration": 6618,
    "start_time": "2021-07-26T09:56:56.758Z"
   },
   {
    "duration": 6984,
    "start_time": "2021-07-26T09:57:45.060Z"
   },
   {
    "duration": 6985,
    "start_time": "2021-07-26T09:57:59.343Z"
   },
   {
    "duration": 6142,
    "start_time": "2021-07-26T09:58:16.719Z"
   },
   {
    "duration": 4,
    "start_time": "2021-07-26T09:58:26.051Z"
   },
   {
    "duration": 39,
    "start_time": "2021-07-26T09:58:26.549Z"
   },
   {
    "duration": 10,
    "start_time": "2021-07-26T09:58:27.226Z"
   },
   {
    "duration": 25,
    "start_time": "2021-07-26T09:58:28.775Z"
   },
   {
    "duration": 7,
    "start_time": "2021-07-26T09:58:42.541Z"
   },
   {
    "duration": 18,
    "start_time": "2021-07-26T09:58:49.854Z"
   },
   {
    "duration": 8,
    "start_time": "2021-07-26T09:59:08.236Z"
   },
   {
    "duration": 15,
    "start_time": "2021-07-26T09:59:18.863Z"
   },
   {
    "duration": 8311,
    "start_time": "2021-07-26T09:59:26.691Z"
   },
   {
    "duration": 44,
    "start_time": "2021-07-26T09:59:46.619Z"
   },
   {
    "duration": 34,
    "start_time": "2021-07-26T09:59:48.315Z"
   },
   {
    "duration": 478,
    "start_time": "2021-07-26T10:00:34.017Z"
   },
   {
    "duration": 54,
    "start_time": "2021-07-26T10:02:45.182Z"
   },
   {
    "duration": 52,
    "start_time": "2021-07-26T10:03:09.486Z"
   },
   {
    "duration": 17,
    "start_time": "2021-07-26T10:03:46.792Z"
   },
   {
    "duration": 451,
    "start_time": "2021-07-26T10:03:52.850Z"
   },
   {
    "duration": 459,
    "start_time": "2021-07-26T10:04:12.842Z"
   },
   {
    "duration": 523,
    "start_time": "2021-07-26T10:04:44.568Z"
   },
   {
    "duration": 541,
    "start_time": "2021-07-26T10:09:05.765Z"
   },
   {
    "duration": 10,
    "start_time": "2021-07-26T10:12:38.451Z"
   },
   {
    "duration": 592,
    "start_time": "2021-07-26T10:13:41.114Z"
   },
   {
    "duration": 4,
    "start_time": "2021-07-26T10:18:48.013Z"
   },
   {
    "duration": 44,
    "start_time": "2021-07-26T10:18:48.161Z"
   },
   {
    "duration": 23,
    "start_time": "2021-07-26T10:18:48.330Z"
   },
   {
    "duration": 17,
    "start_time": "2021-07-26T10:18:48.483Z"
   },
   {
    "duration": 553,
    "start_time": "2021-07-26T10:18:48.693Z"
   },
   {
    "duration": 619,
    "start_time": "2021-07-26T10:18:49.250Z"
   },
   {
    "duration": 256,
    "start_time": "2021-07-26T10:18:49.872Z"
   },
   {
    "duration": 613,
    "start_time": "2021-07-26T10:19:24.024Z"
   },
   {
    "duration": 5,
    "start_time": "2021-07-26T10:22:59.954Z"
   },
   {
    "duration": 18,
    "start_time": "2021-07-26T10:23:23.005Z"
   },
   {
    "duration": 38,
    "start_time": "2021-07-26T10:23:30.566Z"
   },
   {
    "duration": 287,
    "start_time": "2021-07-26T10:24:27.443Z"
   },
   {
    "duration": 193,
    "start_time": "2021-07-26T10:25:00.909Z"
   },
   {
    "duration": 255,
    "start_time": "2021-07-26T10:25:17.810Z"
   },
   {
    "duration": 255,
    "start_time": "2021-07-26T10:25:40.936Z"
   },
   {
    "duration": 308,
    "start_time": "2021-07-26T10:27:23.245Z"
   },
   {
    "duration": 570,
    "start_time": "2021-07-26T10:27:35.243Z"
   },
   {
    "duration": 9,
    "start_time": "2021-07-26T10:29:16.584Z"
   },
   {
    "duration": 276,
    "start_time": "2021-07-26T10:29:23.442Z"
   },
   {
    "duration": 5,
    "start_time": "2021-07-26T10:30:00.717Z"
   },
   {
    "duration": 44,
    "start_time": "2021-07-26T10:30:01.142Z"
   },
   {
    "duration": 22,
    "start_time": "2021-07-26T10:30:01.935Z"
   },
   {
    "duration": 19,
    "start_time": "2021-07-26T10:30:04.309Z"
   },
   {
    "duration": 480,
    "start_time": "2021-07-26T10:30:05.688Z"
   },
   {
    "duration": 734,
    "start_time": "2021-07-26T10:30:11.469Z"
   },
   {
    "duration": 299,
    "start_time": "2021-07-26T10:30:29.344Z"
   },
   {
    "duration": 16,
    "start_time": "2021-07-26T10:31:04.111Z"
   },
   {
    "duration": 929,
    "start_time": "2021-07-26T10:31:14.792Z"
   },
   {
    "duration": 452,
    "start_time": "2021-07-26T10:32:24.203Z"
   },
   {
    "duration": 239,
    "start_time": "2021-07-26T10:32:51.139Z"
   },
   {
    "duration": 16,
    "start_time": "2021-07-26T10:33:22.894Z"
   },
   {
    "duration": 4,
    "start_time": "2021-07-26T10:33:35.265Z"
   },
   {
    "duration": 45,
    "start_time": "2021-07-26T10:33:35.717Z"
   },
   {
    "duration": 22,
    "start_time": "2021-07-26T10:33:36.145Z"
   },
   {
    "duration": 17,
    "start_time": "2021-07-26T10:33:37.016Z"
   },
   {
    "duration": 477,
    "start_time": "2021-07-26T10:33:39.077Z"
   },
   {
    "duration": 523,
    "start_time": "2021-07-26T10:33:41.221Z"
   },
   {
    "duration": 257,
    "start_time": "2021-07-26T10:34:15.031Z"
   },
   {
    "duration": 16,
    "start_time": "2021-07-26T10:34:25.894Z"
   },
   {
    "duration": 4,
    "start_time": "2021-07-26T10:34:50.615Z"
   },
   {
    "duration": 45,
    "start_time": "2021-07-26T10:34:50.975Z"
   },
   {
    "duration": 23,
    "start_time": "2021-07-26T10:34:51.375Z"
   },
   {
    "duration": 16,
    "start_time": "2021-07-26T10:34:51.798Z"
   },
   {
    "duration": 453,
    "start_time": "2021-07-26T10:34:52.087Z"
   },
   {
    "duration": 12,
    "start_time": "2021-07-26T10:35:03.627Z"
   },
   {
    "duration": 620,
    "start_time": "2021-07-26T10:35:10.788Z"
   },
   {
    "duration": 3,
    "start_time": "2021-07-26T10:35:19.477Z"
   },
   {
    "duration": 16,
    "start_time": "2021-07-26T10:35:26.039Z"
   },
   {
    "duration": 17,
    "start_time": "2021-07-26T10:35:30.907Z"
   },
   {
    "duration": 236,
    "start_time": "2021-07-26T10:35:42.562Z"
   },
   {
    "duration": 16,
    "start_time": "2021-07-26T10:35:49.124Z"
   },
   {
    "duration": 17,
    "start_time": "2021-07-26T10:36:18.402Z"
   },
   {
    "duration": 4,
    "start_time": "2021-07-26T10:37:59.609Z"
   },
   {
    "duration": 46,
    "start_time": "2021-07-26T10:37:59.969Z"
   },
   {
    "duration": 22,
    "start_time": "2021-07-26T10:38:00.219Z"
   },
   {
    "duration": 18,
    "start_time": "2021-07-26T10:38:00.435Z"
   },
   {
    "duration": 462,
    "start_time": "2021-07-26T10:38:01.016Z"
   },
   {
    "duration": 532,
    "start_time": "2021-07-26T10:38:02.407Z"
   },
   {
    "duration": 6,
    "start_time": "2021-07-26T10:38:04.028Z"
   },
   {
    "duration": 36,
    "start_time": "2021-07-26T10:38:17.896Z"
   },
   {
    "duration": 45,
    "start_time": "2021-07-26T10:39:45.392Z"
   },
   {
    "duration": 16,
    "start_time": "2021-07-26T10:41:11.996Z"
   },
   {
    "duration": 282,
    "start_time": "2021-07-26T10:43:08.831Z"
   },
   {
    "duration": 72,
    "start_time": "2021-07-26T10:43:17.537Z"
   },
   {
    "duration": 15,
    "start_time": "2021-07-26T10:43:25.851Z"
   },
   {
    "duration": 324,
    "start_time": "2021-07-26T10:44:34.710Z"
   },
   {
    "duration": 334,
    "start_time": "2021-07-26T10:46:31.586Z"
   },
   {
    "duration": 5,
    "start_time": "2021-07-26T10:46:44.498Z"
   },
   {
    "duration": 18,
    "start_time": "2021-07-26T10:46:50.246Z"
   },
   {
    "duration": 5,
    "start_time": "2021-07-26T10:47:34.047Z"
   },
   {
    "duration": 14,
    "start_time": "2021-07-26T10:47:41.691Z"
   },
   {
    "duration": 14,
    "start_time": "2021-07-26T10:48:17.367Z"
   },
   {
    "duration": 11,
    "start_time": "2021-07-26T10:49:23.407Z"
   },
   {
    "duration": 12,
    "start_time": "2021-07-26T10:49:40.699Z"
   },
   {
    "duration": 6,
    "start_time": "2021-07-26T10:51:12.370Z"
   },
   {
    "duration": 6,
    "start_time": "2021-07-26T10:58:08.458Z"
   },
   {
    "duration": 7,
    "start_time": "2021-07-26T10:58:20.725Z"
   },
   {
    "duration": 260,
    "start_time": "2021-07-26T10:58:25.162Z"
   },
   {
    "duration": 5,
    "start_time": "2021-07-26T10:58:51.740Z"
   },
   {
    "duration": 321,
    "start_time": "2021-07-26T10:58:56.146Z"
   },
   {
    "duration": 13828,
    "start_time": "2021-07-26T10:59:13.720Z"
   },
   {
    "duration": 30,
    "start_time": "2021-07-26T10:59:47.750Z"
   },
   {
    "duration": 251,
    "start_time": "2021-07-26T11:01:27.748Z"
   },
   {
    "duration": 13935,
    "start_time": "2021-07-26T11:01:37.432Z"
   },
   {
    "duration": 81,
    "start_time": "2021-07-26T11:02:26.640Z"
   },
   {
    "duration": 33,
    "start_time": "2021-07-26T11:03:05.300Z"
   },
   {
    "duration": 13903,
    "start_time": "2021-07-26T11:07:00.786Z"
   },
   {
    "duration": 6,
    "start_time": "2021-07-26T11:16:20.702Z"
   },
   {
    "duration": 47,
    "start_time": "2021-07-26T11:16:20.802Z"
   },
   {
    "duration": 22,
    "start_time": "2021-07-26T11:16:20.993Z"
   },
   {
    "duration": 16,
    "start_time": "2021-07-26T11:16:21.633Z"
   },
   {
    "duration": 466,
    "start_time": "2021-07-26T11:16:22.245Z"
   },
   {
    "duration": 520,
    "start_time": "2021-07-26T11:16:23.477Z"
   },
   {
    "duration": 6,
    "start_time": "2021-07-26T11:16:25.078Z"
   },
   {
    "duration": 36,
    "start_time": "2021-07-26T11:16:26.005Z"
   },
   {
    "duration": 17,
    "start_time": "2021-07-26T11:16:30.641Z"
   },
   {
    "duration": 248,
    "start_time": "2021-07-26T11:17:10.928Z"
   },
   {
    "duration": 9,
    "start_time": "2021-07-26T11:17:16.559Z"
   },
   {
    "duration": 6,
    "start_time": "2021-07-26T11:18:18.216Z"
   },
   {
    "duration": 6,
    "start_time": "2021-07-26T11:19:03.210Z"
   },
   {
    "duration": 265,
    "start_time": "2021-07-26T11:20:18.382Z"
   },
   {
    "duration": 6,
    "start_time": "2021-07-26T11:21:00.682Z"
   },
   {
    "duration": 88,
    "start_time": "2021-07-26T11:21:06.756Z"
   },
   {
    "duration": 260,
    "start_time": "2021-07-26T11:21:11.208Z"
   },
   {
    "duration": 257,
    "start_time": "2021-07-26T11:21:35.703Z"
   },
   {
    "duration": 14286,
    "start_time": "2021-07-26T11:24:31.543Z"
   },
   {
    "duration": 14080,
    "start_time": "2021-07-26T11:25:26.432Z"
   },
   {
    "duration": 13806,
    "start_time": "2021-07-26T11:26:29.436Z"
   },
   {
    "duration": 13593,
    "start_time": "2021-07-26T11:27:11.424Z"
   },
   {
    "duration": 14083,
    "start_time": "2021-07-26T11:27:43.566Z"
   },
   {
    "duration": 34,
    "start_time": "2021-07-26T11:28:03.424Z"
   },
   {
    "duration": 266,
    "start_time": "2021-07-26T11:31:03.961Z"
   },
   {
    "duration": 129301,
    "start_time": "2021-07-26T11:35:22.558Z"
   },
   {
    "duration": 24,
    "start_time": "2021-07-26T11:37:37.569Z"
   },
   {
    "duration": 156971,
    "start_time": "2021-07-26T11:38:07.188Z"
   },
   {
    "duration": 41,
    "start_time": "2021-07-26T11:40:44.161Z"
   },
   {
    "duration": 167878,
    "start_time": "2021-07-26T11:41:13.623Z"
   },
   {
    "duration": 52,
    "start_time": "2021-07-26T11:44:01.504Z"
   },
   {
    "duration": 5,
    "start_time": "2021-07-26T11:44:35.280Z"
   },
   {
    "duration": 45,
    "start_time": "2021-07-26T11:44:35.595Z"
   },
   {
    "duration": 22,
    "start_time": "2021-07-26T11:44:35.968Z"
   },
   {
    "duration": 17,
    "start_time": "2021-07-26T11:44:36.158Z"
   },
   {
    "duration": 461,
    "start_time": "2021-07-26T11:44:36.388Z"
   },
   {
    "duration": 537,
    "start_time": "2021-07-26T11:44:37.011Z"
   },
   {
    "duration": 6,
    "start_time": "2021-07-26T11:44:37.550Z"
   },
   {
    "duration": 64,
    "start_time": "2021-07-26T11:44:38.165Z"
   },
   {
    "duration": 16,
    "start_time": "2021-07-26T11:44:39.570Z"
   },
   {
    "duration": 6,
    "start_time": "2021-07-26T11:44:41.004Z"
   },
   {
    "duration": 164,
    "start_time": "2021-07-26T11:44:43.794Z"
   },
   {
    "duration": 6,
    "start_time": "2021-07-26T12:16:27.086Z"
   },
   {
    "duration": 40,
    "start_time": "2021-07-26T12:16:27.628Z"
   },
   {
    "duration": 21,
    "start_time": "2021-07-26T12:16:28.354Z"
   },
   {
    "duration": 17,
    "start_time": "2021-07-26T12:16:29.112Z"
   },
   {
    "duration": 442,
    "start_time": "2021-07-26T12:16:33.961Z"
   },
   {
    "duration": 683,
    "start_time": "2021-07-26T12:16:43.533Z"
   },
   {
    "duration": 530,
    "start_time": "2021-07-26T12:16:46.471Z"
   },
   {
    "duration": 6,
    "start_time": "2021-07-26T12:16:47.441Z"
   },
   {
    "duration": 64,
    "start_time": "2021-07-26T12:16:48.102Z"
   },
   {
    "duration": 17,
    "start_time": "2021-07-26T12:16:50.238Z"
   },
   {
    "duration": 6,
    "start_time": "2021-07-26T12:16:51.564Z"
   },
   {
    "duration": 169,
    "start_time": "2021-07-26T12:16:52.985Z"
   },
   {
    "duration": 57477,
    "start_time": "2021-07-26T12:16:54.138Z"
   },
   {
    "duration": 245,
    "start_time": "2021-07-26T12:17:51.618Z"
   },
   {
    "duration": 21113,
    "start_time": "2021-07-26T12:18:04.358Z"
   },
   {
    "duration": 559,
    "start_time": "2021-07-26T12:19:32.022Z"
   },
   {
    "duration": 246,
    "start_time": "2021-07-26T12:20:14.218Z"
   },
   {
    "duration": 271,
    "start_time": "2021-07-26T12:21:01.386Z"
   },
   {
    "duration": 532,
    "start_time": "2021-07-26T12:21:26.236Z"
   },
   {
    "duration": 827,
    "start_time": "2021-07-26T12:23:05.302Z"
   },
   {
    "duration": 834,
    "start_time": "2021-07-26T12:23:14.662Z"
   },
   {
    "duration": 772,
    "start_time": "2021-07-26T12:23:31.476Z"
   },
   {
    "duration": 799,
    "start_time": "2021-07-26T12:24:01.883Z"
   },
   {
    "duration": 6,
    "start_time": "2021-07-26T12:26:56.651Z"
   },
   {
    "duration": 44,
    "start_time": "2021-07-26T12:26:56.831Z"
   },
   {
    "duration": 22,
    "start_time": "2021-07-26T12:26:56.995Z"
   },
   {
    "duration": 17,
    "start_time": "2021-07-26T12:26:57.149Z"
   },
   {
    "duration": 459,
    "start_time": "2021-07-26T12:26:57.295Z"
   },
   {
    "duration": 556,
    "start_time": "2021-07-26T12:26:57.758Z"
   },
   {
    "duration": 6,
    "start_time": "2021-07-26T12:26:58.317Z"
   },
   {
    "duration": 82,
    "start_time": "2021-07-26T12:26:58.326Z"
   },
   {
    "duration": 19,
    "start_time": "2021-07-26T12:26:58.525Z"
   },
   {
    "duration": 7,
    "start_time": "2021-07-26T12:26:58.860Z"
   },
   {
    "duration": 253,
    "start_time": "2021-07-26T12:26:59.211Z"
   },
   {
    "duration": 58476,
    "start_time": "2021-07-26T12:26:59.555Z"
   },
   {
    "duration": 1643,
    "start_time": "2021-07-26T14:05:45.350Z"
   },
   {
    "duration": 44,
    "start_time": "2021-07-26T14:05:46.996Z"
   },
   {
    "duration": 23,
    "start_time": "2021-07-26T14:05:47.043Z"
   },
   {
    "duration": 29,
    "start_time": "2021-07-26T14:05:47.068Z"
   },
   {
    "duration": 480,
    "start_time": "2021-07-26T14:05:47.099Z"
   },
   {
    "duration": 600,
    "start_time": "2021-07-26T14:05:47.582Z"
   },
   {
    "duration": 5,
    "start_time": "2021-07-26T14:05:48.185Z"
   },
   {
    "duration": 62,
    "start_time": "2021-07-26T14:05:48.194Z"
   },
   {
    "duration": 37,
    "start_time": "2021-07-26T14:05:48.259Z"
   },
   {
    "duration": 5,
    "start_time": "2021-07-26T14:05:48.299Z"
   },
   {
    "duration": 176,
    "start_time": "2021-07-26T14:05:48.307Z"
   },
   {
    "duration": 55810,
    "start_time": "2021-07-26T14:05:48.486Z"
   },
   {
    "duration": 18593,
    "start_time": "2021-07-26T14:06:44.299Z"
   },
   {
    "duration": 701,
    "start_time": "2021-07-26T14:07:02.895Z"
   },
   {
    "duration": 284,
    "start_time": "2021-07-26T14:07:03.599Z"
   },
   {
    "duration": 815,
    "start_time": "2021-07-26T14:07:03.886Z"
   },
   {
    "duration": 1186,
    "start_time": "2021-07-26T14:08:23.459Z"
   },
   {
    "duration": 787,
    "start_time": "2021-07-26T14:08:37.146Z"
   },
   {
    "duration": 815,
    "start_time": "2021-07-26T14:10:10.294Z"
   },
   {
    "duration": 776,
    "start_time": "2021-07-26T14:10:27.188Z"
   },
   {
    "duration": 797,
    "start_time": "2021-07-26T14:10:40.350Z"
   },
   {
    "duration": 886,
    "start_time": "2021-07-26T14:11:49.924Z"
   },
   {
    "duration": 857,
    "start_time": "2021-07-26T14:12:17.206Z"
   },
   {
    "duration": 5,
    "start_time": "2021-07-26T14:12:33.607Z"
   },
   {
    "duration": 41,
    "start_time": "2021-07-26T14:12:33.769Z"
   },
   {
    "duration": 19,
    "start_time": "2021-07-26T14:12:33.951Z"
   },
   {
    "duration": 17,
    "start_time": "2021-07-26T14:12:34.830Z"
   },
   {
    "duration": 460,
    "start_time": "2021-07-26T14:12:34.862Z"
   },
   {
    "duration": 626,
    "start_time": "2021-07-26T14:12:35.324Z"
   },
   {
    "duration": 6,
    "start_time": "2021-07-26T14:12:35.953Z"
   },
   {
    "duration": 76,
    "start_time": "2021-07-26T14:12:35.962Z"
   },
   {
    "duration": 17,
    "start_time": "2021-07-26T14:12:36.144Z"
   },
   {
    "duration": 6,
    "start_time": "2021-07-26T14:12:36.601Z"
   },
   {
    "duration": 193,
    "start_time": "2021-07-26T14:12:37.091Z"
   },
   {
    "duration": 56191,
    "start_time": "2021-07-26T14:12:37.921Z"
   },
   {
    "duration": 17279,
    "start_time": "2021-07-26T14:13:34.115Z"
   },
   {
    "duration": 696,
    "start_time": "2021-07-26T14:13:51.397Z"
   },
   {
    "duration": 293,
    "start_time": "2021-07-26T14:13:52.096Z"
   },
   {
    "duration": 945,
    "start_time": "2021-07-26T14:13:52.392Z"
   },
   {
    "duration": 1724,
    "start_time": "2021-07-27T08:18:38.176Z"
   },
   {
    "duration": 45,
    "start_time": "2021-07-27T08:18:39.902Z"
   },
   {
    "duration": 23,
    "start_time": "2021-07-27T08:18:41.629Z"
   },
   {
    "duration": 20,
    "start_time": "2021-07-27T08:18:43.026Z"
   },
   {
    "duration": 485,
    "start_time": "2021-07-27T08:18:44.360Z"
   },
   {
    "duration": 500,
    "start_time": "2021-07-27T08:19:28.460Z"
   },
   {
    "duration": 543,
    "start_time": "2021-07-27T08:19:59.532Z"
   },
   {
    "duration": 700,
    "start_time": "2021-07-27T08:20:57.495Z"
   },
   {
    "duration": 715,
    "start_time": "2021-07-27T08:21:09.002Z"
   },
   {
    "duration": 6,
    "start_time": "2021-07-27T08:22:56.664Z"
   },
   {
    "duration": 45,
    "start_time": "2021-07-27T08:22:57.099Z"
   },
   {
    "duration": 27,
    "start_time": "2021-07-27T08:22:57.286Z"
   },
   {
    "duration": 26,
    "start_time": "2021-07-27T08:22:57.473Z"
   },
   {
    "duration": 682,
    "start_time": "2021-07-27T08:22:57.649Z"
   },
   {
    "duration": 3,
    "start_time": "2021-07-27T08:24:42.489Z"
   },
   {
    "duration": 6,
    "start_time": "2021-07-27T08:24:45.338Z"
   },
   {
    "duration": 6,
    "start_time": "2021-07-27T08:26:39.714Z"
   },
   {
    "duration": 7,
    "start_time": "2021-07-27T08:27:02.867Z"
   },
   {
    "duration": 10335,
    "start_time": "2021-07-27T08:27:12.504Z"
   },
   {
    "duration": 12,
    "start_time": "2021-07-27T08:27:45.588Z"
   },
   {
    "duration": 779,
    "start_time": "2021-07-27T08:27:46.550Z"
   },
   {
    "duration": 1088,
    "start_time": "2021-07-27T08:28:02.271Z"
   },
   {
    "duration": 862,
    "start_time": "2021-07-27T08:28:08.616Z"
   },
   {
    "duration": 420,
    "start_time": "2021-07-27T08:28:16.839Z"
   },
   {
    "duration": 629,
    "start_time": "2021-07-27T08:29:19.011Z"
   },
   {
    "duration": 424,
    "start_time": "2021-07-27T08:31:04.891Z"
   },
   {
    "duration": 8,
    "start_time": "2021-07-27T08:31:48.596Z"
   },
   {
    "duration": 706,
    "start_time": "2021-07-27T08:31:49.254Z"
   },
   {
    "duration": 16,
    "start_time": "2021-07-27T08:31:53.418Z"
   },
   {
    "duration": 438,
    "start_time": "2021-07-27T08:31:58.814Z"
   },
   {
    "duration": 15,
    "start_time": "2021-07-27T08:32:28.959Z"
   },
   {
    "duration": 421,
    "start_time": "2021-07-27T08:32:31.994Z"
   },
   {
    "duration": 415,
    "start_time": "2021-07-27T08:32:38.278Z"
   },
   {
    "duration": 7,
    "start_time": "2021-07-27T08:32:59.639Z"
   },
   {
    "duration": 42,
    "start_time": "2021-07-27T08:33:08.305Z"
   },
   {
    "duration": 51,
    "start_time": "2021-07-27T08:33:19.445Z"
   },
   {
    "duration": 6,
    "start_time": "2021-07-27T08:33:26.204Z"
   },
   {
    "duration": 41,
    "start_time": "2021-07-27T08:33:27.102Z"
   },
   {
    "duration": 20,
    "start_time": "2021-07-27T08:33:27.326Z"
   },
   {
    "duration": 16,
    "start_time": "2021-07-27T08:33:27.709Z"
   },
   {
    "duration": 677,
    "start_time": "2021-07-27T08:33:27.920Z"
   },
   {
    "duration": 3,
    "start_time": "2021-07-27T08:33:28.948Z"
   },
   {
    "duration": 3,
    "start_time": "2021-07-27T08:33:29.861Z"
   },
   {
    "duration": 6,
    "start_time": "2021-07-27T08:33:30.070Z"
   },
   {
    "duration": 758,
    "start_time": "2021-07-27T08:33:30.383Z"
   },
   {
    "duration": 8,
    "start_time": "2021-07-27T08:33:52.392Z"
   },
   {
    "duration": 79,
    "start_time": "2021-07-27T08:33:53.029Z"
   },
   {
    "duration": 20,
    "start_time": "2021-07-27T08:34:06.777Z"
   },
   {
    "duration": 5,
    "start_time": "2021-07-27T08:34:38.426Z"
   },
   {
    "duration": 48,
    "start_time": "2021-07-27T08:34:38.980Z"
   },
   {
    "duration": 5,
    "start_time": "2021-07-27T08:34:59.058Z"
   },
   {
    "duration": 49,
    "start_time": "2021-07-27T08:34:59.461Z"
   },
   {
    "duration": 6,
    "start_time": "2021-07-27T08:35:06.692Z"
   },
   {
    "duration": 41,
    "start_time": "2021-07-27T08:35:07.127Z"
   },
   {
    "duration": 5,
    "start_time": "2021-07-27T08:35:50.412Z"
   },
   {
    "duration": 24982,
    "start_time": "2021-07-27T08:35:50.872Z"
   },
   {
    "duration": 5,
    "start_time": "2021-07-27T08:37:27.922Z"
   },
   {
    "duration": 19671,
    "start_time": "2021-07-27T08:37:28.642Z"
   },
   {
    "duration": 5,
    "start_time": "2021-07-27T08:39:35.020Z"
   },
   {
    "duration": 888,
    "start_time": "2021-07-27T08:39:37.879Z"
   },
   {
    "duration": 5,
    "start_time": "2021-07-27T08:40:17.439Z"
   },
   {
    "duration": 19,
    "start_time": "2021-07-27T08:40:18.353Z"
   },
   {
    "duration": 6,
    "start_time": "2021-07-27T08:40:32.439Z"
   },
   {
    "duration": 67,
    "start_time": "2021-07-27T08:40:33.035Z"
   },
   {
    "duration": 69,
    "start_time": "2021-07-27T08:40:40.131Z"
   },
   {
    "duration": 17,
    "start_time": "2021-07-27T08:40:58.647Z"
   },
   {
    "duration": 39,
    "start_time": "2021-07-27T08:41:01.037Z"
   },
   {
    "duration": 6,
    "start_time": "2021-07-27T08:41:05.436Z"
   },
   {
    "duration": 17,
    "start_time": "2021-07-27T08:41:10.702Z"
   },
   {
    "duration": 55293,
    "start_time": "2021-07-27T08:41:38.791Z"
   },
   {
    "duration": 420,
    "start_time": "2021-07-27T08:43:32.908Z"
   },
   {
    "duration": 394,
    "start_time": "2021-07-27T08:43:49.524Z"
   },
   {
    "duration": 448,
    "start_time": "2021-07-27T08:45:30.648Z"
   },
   {
    "duration": 724,
    "start_time": "2021-07-27T08:48:45.078Z"
   },
   {
    "duration": 412,
    "start_time": "2021-07-27T08:48:59.296Z"
   },
   {
    "duration": 419,
    "start_time": "2021-07-27T08:50:54.144Z"
   },
   {
    "duration": 410,
    "start_time": "2021-07-27T08:51:38.547Z"
   },
   {
    "duration": 421,
    "start_time": "2021-07-27T08:52:03.247Z"
   },
   {
    "duration": 26279,
    "start_time": "2021-07-27T08:52:37.883Z"
   },
   {
    "duration": 5,
    "start_time": "2021-07-27T08:53:38.167Z"
   },
   {
    "duration": 416,
    "start_time": "2021-07-27T08:54:06.446Z"
   },
   {
    "duration": 57875,
    "start_time": "2021-07-27T08:54:19.859Z"
   },
   {
    "duration": 16840,
    "start_time": "2021-07-27T08:56:23.759Z"
   },
   {
    "duration": 695,
    "start_time": "2021-07-27T08:56:40.602Z"
   },
   {
    "duration": 288,
    "start_time": "2021-07-27T08:56:41.300Z"
   },
   {
    "duration": 1337,
    "start_time": "2021-07-27T08:56:41.590Z"
   },
   {
    "duration": 876,
    "start_time": "2021-07-27T08:57:40.487Z"
   },
   {
    "duration": 652,
    "start_time": "2021-07-27T08:58:10.747Z"
   },
   {
    "duration": 636,
    "start_time": "2021-07-27T08:58:21.815Z"
   },
   {
    "duration": 6,
    "start_time": "2021-07-27T09:01:45.871Z"
   },
   {
    "duration": 43,
    "start_time": "2021-07-27T09:01:46.165Z"
   },
   {
    "duration": 20,
    "start_time": "2021-07-27T09:01:46.313Z"
   },
   {
    "duration": 17,
    "start_time": "2021-07-27T09:01:46.464Z"
   },
   {
    "duration": 631,
    "start_time": "2021-07-27T09:01:46.616Z"
   },
   {
    "duration": 3,
    "start_time": "2021-07-27T09:01:47.250Z"
   },
   {
    "duration": 4,
    "start_time": "2021-07-27T09:01:47.823Z"
   },
   {
    "duration": 6,
    "start_time": "2021-07-27T09:01:47.964Z"
   },
   {
    "duration": 93,
    "start_time": "2021-07-27T09:01:48.140Z"
   },
   {
    "duration": 16,
    "start_time": "2021-07-27T09:01:48.978Z"
   },
   {
    "duration": 6,
    "start_time": "2021-07-27T09:01:49.465Z"
   },
   {
    "duration": 181,
    "start_time": "2021-07-27T09:01:49.803Z"
   },
   {
    "duration": 54056,
    "start_time": "2021-07-27T09:01:50.556Z"
   },
   {
    "duration": 17186,
    "start_time": "2021-07-27T09:02:44.615Z"
   },
   {
    "duration": 596,
    "start_time": "2021-07-27T09:03:01.804Z"
   },
   {
    "duration": 314,
    "start_time": "2021-07-27T09:03:02.403Z"
   },
   {
    "duration": 674,
    "start_time": "2021-07-27T09:03:02.786Z"
   }
  ],
  "kernelspec": {
   "display_name": "Python 3",
   "language": "python",
   "name": "python3"
  },
  "language_info": {
   "codemirror_mode": {
    "name": "ipython",
    "version": 3
   },
   "file_extension": ".py",
   "mimetype": "text/x-python",
   "name": "python",
   "nbconvert_exporter": "python",
   "pygments_lexer": "ipython3",
   "version": "3.7.8"
  },
  "toc": {
   "base_numbering": 1,
   "nav_menu": {},
   "number_sections": true,
   "sideBar": true,
   "skip_h1_title": true,
   "title_cell": "Содержание",
   "title_sidebar": "Contents",
   "toc_cell": true,
   "toc_position": {},
   "toc_section_display": true,
   "toc_window_display": false
  }
 },
 "nbformat": 4,
 "nbformat_minor": 2
}
