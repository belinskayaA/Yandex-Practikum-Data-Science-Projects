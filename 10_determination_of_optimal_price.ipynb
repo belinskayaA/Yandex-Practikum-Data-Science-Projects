{
 "cells": [
  {
   "cell_type": "markdown",
   "metadata": {},
   "source": [
    "Привет, меня зовут Артем Хуршудов. Сегодня я проверю твой проект.\n",
    "<br> Дальнейшее общение будет происходить на \"ты\" если это не вызывает никаких проблем.\n",
    "<br> Желательно реагировать на каждый мой комментарий ('исправил', 'не понятно как исправить ошибку', ...)\n",
    "<br> Пожалуйста, не удаляй комментарии ревьюера, так как они повышают качество повторного ревью.\n",
    "\n",
    "Комментарии будут в <font color='green'>зеленой</font>, <font color='blue'>синей</font> или <font color='red'>красной</font> рамках:\n",
    "\n",
    "<div class=\"alert alert-block alert-success\">\n",
    "<b>Успех:</b> Если все сделано отлично\n",
    "</div>\n",
    "\n",
    "<div class=\"alert alert-block alert-info\">\n",
    "<b>Совет: </b> Если можно немного улучшить\n",
    "</div>\n",
    "\n",
    "<div class=\"alert alert-block alert-danger\">\n",
    "<b>Ошибка:</b> Если требуются исправления. Работа не может быть принята с красными комментариями.\n",
    "</div>\n",
    "\n",
    "-------------------\n",
    "\n",
    "Будет очень хорошо, если ты будешь помечать свои действия следующим образом:\n",
    "<div class=\"alert alert-block alert-warning\">\n",
    "<b>Комментарий студента:</b> ...\n",
    "</div>\n",
    "\n",
    "<div class=\"alert alert-block alert-warning\">\n",
    "<b>Изменения:</b> Были внесены следующие изменения ...\n",
    "</div>\n",
    "\n",
    "### <font color='orange'>Общее впечатление</font>\n",
    "* Большое спасибо за проделанную работу. Видно, что приложено много усилий.\n",
    "* Радует, что ноутбук хорошо структурирован. Приятно проверять такие работы.\n",
    "* Советую использовать маркеры, жирный шрифт итд в текстовых комментариях. Хорошо структурированную информацию намного легче воспринимать.\n",
    "* Над этим проектом нужно будет еще немного поработать. Однако, изменения не должны занять много времени.\n",
    "* В работе я оставил несколько советов. Буду рад, если ты учтешь их.\n",
    "* С радостью отвечу на твои вопросы, если они есть. Лучше всего их собрать в следующей ячейке. Жду новую версию проекта."
   ]
  },
  {
   "cell_type": "markdown",
   "metadata": {},
   "source": [
    "### <font color='orange'>Общее впечатление (ревью 2)</font>\n",
    "* Для удобства все новые комментарии обозначены фразой \"ревью 2\".\n",
    "* Удачи в доработке!"
   ]
  },
  {
   "cell_type": "markdown",
   "metadata": {},
   "source": [
    "### <font color='orange'>Общее впечатление (ревью 3)</font>\n",
    "* После исправлений проект улучшился и теперь он может быть зачтен.\n",
    "* Новые комментарии обозначены фразой \"ревью 3\".\n",
    "* Удачи в дальнейшем обучении и следующих работах!"
   ]
  },
  {
   "cell_type": "markdown",
   "metadata": {},
   "source": [
    "# Определение стоимости автомобилей"
   ]
  },
  {
   "cell_type": "markdown",
   "metadata": {},
   "source": [
    "Сервис по продаже автомобилей с пробегом «Не бит, не крашен» разрабатывает приложение для привлечения новых клиентов. В нём можно быстро узнать рыночную стоимость своего автомобиля. В вашем распоряжении исторические данные: технические характеристики, комплектации и цены автомобилей. Вам нужно построить модель для определения стоимости. \n",
    "\n",
    "Заказчику важны:\n",
    "\n",
    "- качество предсказания;\n",
    "- скорость предсказания;\n",
    "- время обучения."
   ]
  },
  {
   "cell_type": "markdown",
   "metadata": {},
   "source": [
    "## Подготовка данных"
   ]
  },
  {
   "cell_type": "code",
   "execution_count": 63,
   "metadata": {},
   "outputs": [],
   "source": [
    "import pandas as pd\n",
    "import numpy as np\n",
    "from sklearn.model_selection import train_test_split\n",
    "from sklearn.preprocessing import OrdinalEncoder\n",
    "from catboost import CatBoostRegressor, Pool\n",
    "from sklearn.tree import DecisionTreeRegressor\n",
    "from sklearn.linear_model import LinearRegression\n",
    "from sklearn.metrics import mean_squared_error\n",
    "from lightgbm import LGBMRegressor\n",
    "from sklearn.model_selection import GridSearchCV\n",
    "from sklearn.model_selection import cross_val_score\n",
    "import time\n"
   ]
  },
  {
   "cell_type": "markdown",
   "metadata": {},
   "source": [
    "<div class=\"alert alert-block alert-success\">\n",
    "<b>Успех:</b> Отлично, что все импорты собраны в первой ячейке ноутбука! Если у того, кто будет запускать твой ноутбук будут отсутствовать некоторые библиотеки, то он это увидит сразу, а не в процессе!\n",
    "</div>"
   ]
  },
  {
   "cell_type": "code",
   "execution_count": 64,
   "metadata": {},
   "outputs": [
    {
     "data": {
      "text/html": [
       "<div>\n",
       "<style scoped>\n",
       "    .dataframe tbody tr th:only-of-type {\n",
       "        vertical-align: middle;\n",
       "    }\n",
       "\n",
       "    .dataframe tbody tr th {\n",
       "        vertical-align: top;\n",
       "    }\n",
       "\n",
       "    .dataframe thead th {\n",
       "        text-align: right;\n",
       "    }\n",
       "</style>\n",
       "<table border=\"1\" class=\"dataframe\">\n",
       "  <thead>\n",
       "    <tr style=\"text-align: right;\">\n",
       "      <th></th>\n",
       "      <th>DateCrawled</th>\n",
       "      <th>Price</th>\n",
       "      <th>VehicleType</th>\n",
       "      <th>RegistrationYear</th>\n",
       "      <th>Gearbox</th>\n",
       "      <th>Power</th>\n",
       "      <th>Model</th>\n",
       "      <th>Kilometer</th>\n",
       "      <th>RegistrationMonth</th>\n",
       "      <th>FuelType</th>\n",
       "      <th>Brand</th>\n",
       "      <th>NotRepaired</th>\n",
       "      <th>DateCreated</th>\n",
       "      <th>NumberOfPictures</th>\n",
       "      <th>PostalCode</th>\n",
       "      <th>LastSeen</th>\n",
       "    </tr>\n",
       "  </thead>\n",
       "  <tbody>\n",
       "    <tr>\n",
       "      <td>0</td>\n",
       "      <td>2016-03-24 11:52:17</td>\n",
       "      <td>480</td>\n",
       "      <td>NaN</td>\n",
       "      <td>1993</td>\n",
       "      <td>manual</td>\n",
       "      <td>0</td>\n",
       "      <td>golf</td>\n",
       "      <td>150000</td>\n",
       "      <td>0</td>\n",
       "      <td>petrol</td>\n",
       "      <td>volkswagen</td>\n",
       "      <td>NaN</td>\n",
       "      <td>2016-03-24 00:00:00</td>\n",
       "      <td>0</td>\n",
       "      <td>70435</td>\n",
       "      <td>2016-04-07 03:16:57</td>\n",
       "    </tr>\n",
       "    <tr>\n",
       "      <td>1</td>\n",
       "      <td>2016-03-24 10:58:45</td>\n",
       "      <td>18300</td>\n",
       "      <td>coupe</td>\n",
       "      <td>2011</td>\n",
       "      <td>manual</td>\n",
       "      <td>190</td>\n",
       "      <td>NaN</td>\n",
       "      <td>125000</td>\n",
       "      <td>5</td>\n",
       "      <td>gasoline</td>\n",
       "      <td>audi</td>\n",
       "      <td>yes</td>\n",
       "      <td>2016-03-24 00:00:00</td>\n",
       "      <td>0</td>\n",
       "      <td>66954</td>\n",
       "      <td>2016-04-07 01:46:50</td>\n",
       "    </tr>\n",
       "    <tr>\n",
       "      <td>2</td>\n",
       "      <td>2016-03-14 12:52:21</td>\n",
       "      <td>9800</td>\n",
       "      <td>suv</td>\n",
       "      <td>2004</td>\n",
       "      <td>auto</td>\n",
       "      <td>163</td>\n",
       "      <td>grand</td>\n",
       "      <td>125000</td>\n",
       "      <td>8</td>\n",
       "      <td>gasoline</td>\n",
       "      <td>jeep</td>\n",
       "      <td>NaN</td>\n",
       "      <td>2016-03-14 00:00:00</td>\n",
       "      <td>0</td>\n",
       "      <td>90480</td>\n",
       "      <td>2016-04-05 12:47:46</td>\n",
       "    </tr>\n",
       "  </tbody>\n",
       "</table>\n",
       "</div>"
      ],
      "text/plain": [
       "           DateCrawled  Price VehicleType  RegistrationYear Gearbox  Power  \\\n",
       "0  2016-03-24 11:52:17    480         NaN              1993  manual      0   \n",
       "1  2016-03-24 10:58:45  18300       coupe              2011  manual    190   \n",
       "2  2016-03-14 12:52:21   9800         suv              2004    auto    163   \n",
       "\n",
       "   Model  Kilometer  RegistrationMonth  FuelType       Brand NotRepaired  \\\n",
       "0   golf     150000                  0    petrol  volkswagen         NaN   \n",
       "1    NaN     125000                  5  gasoline        audi         yes   \n",
       "2  grand     125000                  8  gasoline        jeep         NaN   \n",
       "\n",
       "           DateCreated  NumberOfPictures  PostalCode             LastSeen  \n",
       "0  2016-03-24 00:00:00                 0       70435  2016-04-07 03:16:57  \n",
       "1  2016-03-24 00:00:00                 0       66954  2016-04-07 01:46:50  \n",
       "2  2016-03-14 00:00:00                 0       90480  2016-04-05 12:47:46  "
      ]
     },
     "execution_count": 64,
     "metadata": {},
     "output_type": "execute_result"
    }
   ],
   "source": [
    "df = pd.read_csv('/datasets/autos.csv')\n",
    "df.head(3)"
   ]
  },
  {
   "cell_type": "code",
   "execution_count": 65,
   "metadata": {},
   "outputs": [
    {
     "name": "stdout",
     "output_type": "stream",
     "text": [
      "<class 'pandas.core.frame.DataFrame'>\n",
      "RangeIndex: 354369 entries, 0 to 354368\n",
      "Data columns (total 16 columns):\n",
      "DateCrawled          354369 non-null object\n",
      "Price                354369 non-null int64\n",
      "VehicleType          316879 non-null object\n",
      "RegistrationYear     354369 non-null int64\n",
      "Gearbox              334536 non-null object\n",
      "Power                354369 non-null int64\n",
      "Model                334664 non-null object\n",
      "Kilometer            354369 non-null int64\n",
      "RegistrationMonth    354369 non-null int64\n",
      "FuelType             321474 non-null object\n",
      "Brand                354369 non-null object\n",
      "NotRepaired          283215 non-null object\n",
      "DateCreated          354369 non-null object\n",
      "NumberOfPictures     354369 non-null int64\n",
      "PostalCode           354369 non-null int64\n",
      "LastSeen             354369 non-null object\n",
      "dtypes: int64(7), object(9)\n",
      "memory usage: 43.3+ MB\n"
     ]
    }
   ],
   "source": [
    "df.info()"
   ]
  },
  {
   "cell_type": "markdown",
   "metadata": {},
   "source": [
    "Мы видим, что в данных есть пропуски, но библиотека CatBoost, которую мы планируем использовать умеет с ними работать, но библиотека LightGBM, которую нам также нужно использовать - нет. Поэтому заменим пропуски на моды, те на самые часто встречающиеся значения признака."
   ]
  },
  {
   "cell_type": "markdown",
   "metadata": {},
   "source": [
    "<div class=\"alert alert-block alert-success\">\n",
    "<b>Успех:</b> Данные загружены корректно.\n",
    "</div>"
   ]
  },
  {
   "cell_type": "code",
   "execution_count": 66,
   "metadata": {},
   "outputs": [],
   "source": [
    "#df['VehicleType'] = df['VehicleType'].fillna(df['VehicleType'].mode().values[0])\n",
    "#df['Gearbox'] = df['Gearbox'].fillna(df['Gearbox'].mode().values[0])\n",
    "#df['Model'] = df['Model'].fillna(df['Model'].mode().values[0])\n",
    "#df['FuelType'] = df['FuelType'].fillna(df['FuelType'].mode().values[0])\n",
    "#df['NotRepaired'] = df[\"NotRepaired\"].fillna('no')"
   ]
  },
  {
   "cell_type": "code",
   "execution_count": 67,
   "metadata": {},
   "outputs": [],
   "source": [
    "df['VehicleType'] = df['VehicleType'].fillna('UNKNOWN')\n",
    "df['Gearbox'] = df['Gearbox'].fillna('UNKNOWN')\n",
    "df['Model'] = df['Model'].fillna('UNKNOWN')\n",
    "df['FuelType'] = df['FuelType'].fillna('UNKNOWN')\n",
    "df['NotRepaired'] = df[\"NotRepaired\"].fillna('UNKNOWN')"
   ]
  },
  {
   "cell_type": "markdown",
   "metadata": {},
   "source": [
    "<div class=\"alert alert-block alert-warning\">\n",
    "<b>Изменения:</b> Заменила на UNKNOWN\n",
    "</div>"
   ]
  },
  {
   "cell_type": "code",
   "execution_count": 68,
   "metadata": {},
   "outputs": [
    {
     "name": "stdout",
     "output_type": "stream",
     "text": [
      "<class 'pandas.core.frame.DataFrame'>\n",
      "RangeIndex: 354369 entries, 0 to 354368\n",
      "Data columns (total 16 columns):\n",
      "DateCrawled          354369 non-null object\n",
      "Price                354369 non-null int64\n",
      "VehicleType          354369 non-null object\n",
      "RegistrationYear     354369 non-null int64\n",
      "Gearbox              354369 non-null object\n",
      "Power                354369 non-null int64\n",
      "Model                354369 non-null object\n",
      "Kilometer            354369 non-null int64\n",
      "RegistrationMonth    354369 non-null int64\n",
      "FuelType             354369 non-null object\n",
      "Brand                354369 non-null object\n",
      "NotRepaired          354369 non-null object\n",
      "DateCreated          354369 non-null object\n",
      "NumberOfPictures     354369 non-null int64\n",
      "PostalCode           354369 non-null int64\n",
      "LastSeen             354369 non-null object\n",
      "dtypes: int64(7), object(9)\n",
      "memory usage: 43.3+ MB\n"
     ]
    }
   ],
   "source": [
    "df.info()"
   ]
  },
  {
   "cell_type": "markdown",
   "metadata": {},
   "source": [
    "<div class=\"alert alert-block alert-success\">\n",
    "<b>Успех:</b> В целом, это допустимое решение.\n",
    "</div>\n",
    "\n",
    "<div class=\"alert alert-block alert-info\">\n",
    "<b>Совет: </b> Однако, я бы заполнил уникальной строкой \"UNKNOWN\", так было бы безопаснее.\n",
    "</div>"
   ]
  },
  {
   "cell_type": "markdown",
   "metadata": {},
   "source": [
    "<div class=\"alert alert-block alert-success\">\n",
    "<b>Успех (ревью 2):</b> ОК.\n",
    "</div>"
   ]
  },
  {
   "cell_type": "markdown",
   "metadata": {},
   "source": [
    "Так же мы видим, что есть переменные, которые с малой вероятностью влияют на интересуюий признак цены машины и скорее важны для самого приложения. Например, число фотографий или дата последней активности пользователя. Я думаю, их лучше сразу удалить, чтобы не усложнять работу наших будущих моделей."
   ]
  },
  {
   "cell_type": "code",
   "execution_count": 69,
   "metadata": {},
   "outputs": [],
   "source": [
    "df = df.drop(['DateCrawled','DateCreated','LastSeen','NumberOfPictures','PostalCode'],axis = 1)"
   ]
  },
  {
   "cell_type": "markdown",
   "metadata": {},
   "source": [
    "<div class=\"alert alert-block alert-success\">\n",
    "<b>Успех:</b> Согласен, что даты, константный признак и индекс нам не нужны.\n",
    "</div>"
   ]
  },
  {
   "cell_type": "code",
   "execution_count": 70,
   "metadata": {},
   "outputs": [
    {
     "data": {
      "text/html": [
       "<div>\n",
       "<style scoped>\n",
       "    .dataframe tbody tr th:only-of-type {\n",
       "        vertical-align: middle;\n",
       "    }\n",
       "\n",
       "    .dataframe tbody tr th {\n",
       "        vertical-align: top;\n",
       "    }\n",
       "\n",
       "    .dataframe thead th {\n",
       "        text-align: right;\n",
       "    }\n",
       "</style>\n",
       "<table border=\"1\" class=\"dataframe\">\n",
       "  <thead>\n",
       "    <tr style=\"text-align: right;\">\n",
       "      <th></th>\n",
       "      <th>Price</th>\n",
       "      <th>RegistrationYear</th>\n",
       "      <th>Power</th>\n",
       "      <th>Kilometer</th>\n",
       "      <th>RegistrationMonth</th>\n",
       "    </tr>\n",
       "  </thead>\n",
       "  <tbody>\n",
       "    <tr>\n",
       "      <td>count</td>\n",
       "      <td>354369.000000</td>\n",
       "      <td>354369.000000</td>\n",
       "      <td>354369.000000</td>\n",
       "      <td>354369.000000</td>\n",
       "      <td>354369.000000</td>\n",
       "    </tr>\n",
       "    <tr>\n",
       "      <td>mean</td>\n",
       "      <td>4416.656776</td>\n",
       "      <td>2004.234448</td>\n",
       "      <td>110.094337</td>\n",
       "      <td>128211.172535</td>\n",
       "      <td>5.714645</td>\n",
       "    </tr>\n",
       "    <tr>\n",
       "      <td>std</td>\n",
       "      <td>4514.158514</td>\n",
       "      <td>90.227958</td>\n",
       "      <td>189.850405</td>\n",
       "      <td>37905.341530</td>\n",
       "      <td>3.726421</td>\n",
       "    </tr>\n",
       "    <tr>\n",
       "      <td>min</td>\n",
       "      <td>0.000000</td>\n",
       "      <td>1000.000000</td>\n",
       "      <td>0.000000</td>\n",
       "      <td>5000.000000</td>\n",
       "      <td>0.000000</td>\n",
       "    </tr>\n",
       "    <tr>\n",
       "      <td>25%</td>\n",
       "      <td>1050.000000</td>\n",
       "      <td>1999.000000</td>\n",
       "      <td>69.000000</td>\n",
       "      <td>125000.000000</td>\n",
       "      <td>3.000000</td>\n",
       "    </tr>\n",
       "    <tr>\n",
       "      <td>50%</td>\n",
       "      <td>2700.000000</td>\n",
       "      <td>2003.000000</td>\n",
       "      <td>105.000000</td>\n",
       "      <td>150000.000000</td>\n",
       "      <td>6.000000</td>\n",
       "    </tr>\n",
       "    <tr>\n",
       "      <td>75%</td>\n",
       "      <td>6400.000000</td>\n",
       "      <td>2008.000000</td>\n",
       "      <td>143.000000</td>\n",
       "      <td>150000.000000</td>\n",
       "      <td>9.000000</td>\n",
       "    </tr>\n",
       "    <tr>\n",
       "      <td>max</td>\n",
       "      <td>20000.000000</td>\n",
       "      <td>9999.000000</td>\n",
       "      <td>20000.000000</td>\n",
       "      <td>150000.000000</td>\n",
       "      <td>12.000000</td>\n",
       "    </tr>\n",
       "  </tbody>\n",
       "</table>\n",
       "</div>"
      ],
      "text/plain": [
       "               Price  RegistrationYear          Power      Kilometer  \\\n",
       "count  354369.000000     354369.000000  354369.000000  354369.000000   \n",
       "mean     4416.656776       2004.234448     110.094337  128211.172535   \n",
       "std      4514.158514         90.227958     189.850405   37905.341530   \n",
       "min         0.000000       1000.000000       0.000000    5000.000000   \n",
       "25%      1050.000000       1999.000000      69.000000  125000.000000   \n",
       "50%      2700.000000       2003.000000     105.000000  150000.000000   \n",
       "75%      6400.000000       2008.000000     143.000000  150000.000000   \n",
       "max     20000.000000       9999.000000   20000.000000  150000.000000   \n",
       "\n",
       "       RegistrationMonth  \n",
       "count      354369.000000  \n",
       "mean            5.714645  \n",
       "std             3.726421  \n",
       "min             0.000000  \n",
       "25%             3.000000  \n",
       "50%             6.000000  \n",
       "75%             9.000000  \n",
       "max            12.000000  "
      ]
     },
     "execution_count": 70,
     "metadata": {},
     "output_type": "execute_result"
    }
   ],
   "source": [
    "df.describe()"
   ]
  },
  {
   "cell_type": "markdown",
   "metadata": {},
   "source": [
    "Видно, что для переменной цены и мощности стандартные отклонения сопоставимы со средними значениями, это свидетельство сильного разброса данных. Возможно, в нашей выборке присуствуют выбросы, но может и правда для данных переменных характерен большой разброс. Стоило бы уточнить этот вопрос у коллег. Но помнить, что если модели будут показывать плохой результат, можно попробовать их обучить без выбросов."
   ]
  },
  {
   "cell_type": "markdown",
   "metadata": {},
   "source": [
    "### Преобразование признаков"
   ]
  },
  {
   "cell_type": "markdown",
   "metadata": {},
   "source": [
    "В нашей выборке много категориальных признаков, таких как марка автомобиля или тип топлива, поэтому перед обучением моделей стоит их преобразовать. "
   ]
  },
  {
   "cell_type": "code",
   "execution_count": 71,
   "metadata": {},
   "outputs": [],
   "source": [
    "o_features = df.drop('Price', axis=1)\n",
    "\n",
    "encoder = OrdinalEncoder()\n",
    "cat_columns = ['VehicleType','FuelType','Brand','Model','NotRepaired']\n",
    "cat_features = o_features[cat_columns]\n",
    "cat_features = pd.DataFrame(encoder.fit_transform(cat_features),\n",
    "                                columns=cat_features.columns, \n",
    "                                index=cat_features.index)\n",
    "o_features = o_features.copy()\n",
    "for column in cat_columns:\n",
    "    o_features[column] = cat_features[column]\n",
    "\n",
    "ohe_features = pd.get_dummies(o_features, drop_first=True)\n",
    "\n",
    "target = df['Price']"
   ]
  },
  {
   "cell_type": "code",
   "execution_count": 72,
   "metadata": {},
   "outputs": [
    {
     "data": {
      "text/html": [
       "<div>\n",
       "<style scoped>\n",
       "    .dataframe tbody tr th:only-of-type {\n",
       "        vertical-align: middle;\n",
       "    }\n",
       "\n",
       "    .dataframe tbody tr th {\n",
       "        vertical-align: top;\n",
       "    }\n",
       "\n",
       "    .dataframe thead th {\n",
       "        text-align: right;\n",
       "    }\n",
       "</style>\n",
       "<table border=\"1\" class=\"dataframe\">\n",
       "  <thead>\n",
       "    <tr style=\"text-align: right;\">\n",
       "      <th></th>\n",
       "      <th>VehicleType</th>\n",
       "      <th>RegistrationYear</th>\n",
       "      <th>Gearbox</th>\n",
       "      <th>Power</th>\n",
       "      <th>Model</th>\n",
       "      <th>Kilometer</th>\n",
       "      <th>RegistrationMonth</th>\n",
       "      <th>FuelType</th>\n",
       "      <th>Brand</th>\n",
       "      <th>NotRepaired</th>\n",
       "    </tr>\n",
       "  </thead>\n",
       "  <tbody>\n",
       "    <tr>\n",
       "      <td>0</td>\n",
       "      <td>0.0</td>\n",
       "      <td>1993</td>\n",
       "      <td>manual</td>\n",
       "      <td>0</td>\n",
       "      <td>117.0</td>\n",
       "      <td>150000</td>\n",
       "      <td>0</td>\n",
       "      <td>7.0</td>\n",
       "      <td>38.0</td>\n",
       "      <td>0.0</td>\n",
       "    </tr>\n",
       "    <tr>\n",
       "      <td>1</td>\n",
       "      <td>3.0</td>\n",
       "      <td>2011</td>\n",
       "      <td>manual</td>\n",
       "      <td>190</td>\n",
       "      <td>26.0</td>\n",
       "      <td>125000</td>\n",
       "      <td>5</td>\n",
       "      <td>3.0</td>\n",
       "      <td>1.0</td>\n",
       "      <td>2.0</td>\n",
       "    </tr>\n",
       "    <tr>\n",
       "      <td>2</td>\n",
       "      <td>7.0</td>\n",
       "      <td>2004</td>\n",
       "      <td>auto</td>\n",
       "      <td>163</td>\n",
       "      <td>118.0</td>\n",
       "      <td>125000</td>\n",
       "      <td>8</td>\n",
       "      <td>3.0</td>\n",
       "      <td>14.0</td>\n",
       "      <td>0.0</td>\n",
       "    </tr>\n",
       "  </tbody>\n",
       "</table>\n",
       "</div>"
      ],
      "text/plain": [
       "   VehicleType  RegistrationYear Gearbox  Power  Model  Kilometer  \\\n",
       "0          0.0              1993  manual      0  117.0     150000   \n",
       "1          3.0              2011  manual    190   26.0     125000   \n",
       "2          7.0              2004    auto    163  118.0     125000   \n",
       "\n",
       "   RegistrationMonth  FuelType  Brand  NotRepaired  \n",
       "0                  0       7.0   38.0          0.0  \n",
       "1                  5       3.0    1.0          2.0  \n",
       "2                  8       3.0   14.0          0.0  "
      ]
     },
     "execution_count": 72,
     "metadata": {},
     "output_type": "execute_result"
    }
   ],
   "source": [
    "o_features.head(3)"
   ]
  },
  {
   "cell_type": "code",
   "execution_count": 73,
   "metadata": {},
   "outputs": [
    {
     "data": {
      "text/html": [
       "<div>\n",
       "<style scoped>\n",
       "    .dataframe tbody tr th:only-of-type {\n",
       "        vertical-align: middle;\n",
       "    }\n",
       "\n",
       "    .dataframe tbody tr th {\n",
       "        vertical-align: top;\n",
       "    }\n",
       "\n",
       "    .dataframe thead th {\n",
       "        text-align: right;\n",
       "    }\n",
       "</style>\n",
       "<table border=\"1\" class=\"dataframe\">\n",
       "  <thead>\n",
       "    <tr style=\"text-align: right;\">\n",
       "      <th></th>\n",
       "      <th>VehicleType</th>\n",
       "      <th>FuelType</th>\n",
       "      <th>Brand</th>\n",
       "      <th>Model</th>\n",
       "      <th>NotRepaired</th>\n",
       "    </tr>\n",
       "  </thead>\n",
       "  <tbody>\n",
       "    <tr>\n",
       "      <td>0</td>\n",
       "      <td>0.0</td>\n",
       "      <td>7.0</td>\n",
       "      <td>38.0</td>\n",
       "      <td>117.0</td>\n",
       "      <td>0.0</td>\n",
       "    </tr>\n",
       "    <tr>\n",
       "      <td>1</td>\n",
       "      <td>3.0</td>\n",
       "      <td>3.0</td>\n",
       "      <td>1.0</td>\n",
       "      <td>26.0</td>\n",
       "      <td>2.0</td>\n",
       "    </tr>\n",
       "    <tr>\n",
       "      <td>2</td>\n",
       "      <td>7.0</td>\n",
       "      <td>3.0</td>\n",
       "      <td>14.0</td>\n",
       "      <td>118.0</td>\n",
       "      <td>0.0</td>\n",
       "    </tr>\n",
       "  </tbody>\n",
       "</table>\n",
       "</div>"
      ],
      "text/plain": [
       "   VehicleType  FuelType  Brand  Model  NotRepaired\n",
       "0          0.0       7.0   38.0  117.0          0.0\n",
       "1          3.0       3.0    1.0   26.0          2.0\n",
       "2          7.0       3.0   14.0  118.0          0.0"
      ]
     },
     "execution_count": 73,
     "metadata": {},
     "output_type": "execute_result"
    }
   ],
   "source": [
    "cat_features.head(3)"
   ]
  },
  {
   "cell_type": "code",
   "execution_count": 74,
   "metadata": {},
   "outputs": [
    {
     "data": {
      "text/html": [
       "<div>\n",
       "<style scoped>\n",
       "    .dataframe tbody tr th:only-of-type {\n",
       "        vertical-align: middle;\n",
       "    }\n",
       "\n",
       "    .dataframe tbody tr th {\n",
       "        vertical-align: top;\n",
       "    }\n",
       "\n",
       "    .dataframe thead th {\n",
       "        text-align: right;\n",
       "    }\n",
       "</style>\n",
       "<table border=\"1\" class=\"dataframe\">\n",
       "  <thead>\n",
       "    <tr style=\"text-align: right;\">\n",
       "      <th></th>\n",
       "      <th>VehicleType</th>\n",
       "      <th>RegistrationYear</th>\n",
       "      <th>Power</th>\n",
       "      <th>Model</th>\n",
       "      <th>Kilometer</th>\n",
       "      <th>RegistrationMonth</th>\n",
       "      <th>FuelType</th>\n",
       "      <th>Brand</th>\n",
       "      <th>NotRepaired</th>\n",
       "      <th>Gearbox_auto</th>\n",
       "      <th>Gearbox_manual</th>\n",
       "    </tr>\n",
       "  </thead>\n",
       "  <tbody>\n",
       "    <tr>\n",
       "      <td>0</td>\n",
       "      <td>0.0</td>\n",
       "      <td>1993</td>\n",
       "      <td>0</td>\n",
       "      <td>117.0</td>\n",
       "      <td>150000</td>\n",
       "      <td>0</td>\n",
       "      <td>7.0</td>\n",
       "      <td>38.0</td>\n",
       "      <td>0.0</td>\n",
       "      <td>0</td>\n",
       "      <td>1</td>\n",
       "    </tr>\n",
       "    <tr>\n",
       "      <td>1</td>\n",
       "      <td>3.0</td>\n",
       "      <td>2011</td>\n",
       "      <td>190</td>\n",
       "      <td>26.0</td>\n",
       "      <td>125000</td>\n",
       "      <td>5</td>\n",
       "      <td>3.0</td>\n",
       "      <td>1.0</td>\n",
       "      <td>2.0</td>\n",
       "      <td>0</td>\n",
       "      <td>1</td>\n",
       "    </tr>\n",
       "    <tr>\n",
       "      <td>2</td>\n",
       "      <td>7.0</td>\n",
       "      <td>2004</td>\n",
       "      <td>163</td>\n",
       "      <td>118.0</td>\n",
       "      <td>125000</td>\n",
       "      <td>8</td>\n",
       "      <td>3.0</td>\n",
       "      <td>14.0</td>\n",
       "      <td>0.0</td>\n",
       "      <td>1</td>\n",
       "      <td>0</td>\n",
       "    </tr>\n",
       "  </tbody>\n",
       "</table>\n",
       "</div>"
      ],
      "text/plain": [
       "   VehicleType  RegistrationYear  Power  Model  Kilometer  RegistrationMonth  \\\n",
       "0          0.0              1993      0  117.0     150000                  0   \n",
       "1          3.0              2011    190   26.0     125000                  5   \n",
       "2          7.0              2004    163  118.0     125000                  8   \n",
       "\n",
       "   FuelType  Brand  NotRepaired  Gearbox_auto  Gearbox_manual  \n",
       "0       7.0   38.0          0.0             0               1  \n",
       "1       3.0    1.0          2.0             0               1  \n",
       "2       3.0   14.0          0.0             1               0  "
      ]
     },
     "execution_count": 74,
     "metadata": {},
     "output_type": "execute_result"
    }
   ],
   "source": [
    "ohe_features.head(3)"
   ]
  },
  {
   "cell_type": "markdown",
   "metadata": {},
   "source": [
    "<div class=\"alert alert-block alert-success\">\n",
    "<b>Успех:</b> Данные закодированы хорошо.\n",
    "</div>"
   ]
  },
  {
   "cell_type": "markdown",
   "metadata": {},
   "source": [
    "Разделим наши данные на тренировочную и тестовую выборки."
   ]
  },
  {
   "cell_type": "code",
   "execution_count": 75,
   "metadata": {},
   "outputs": [],
   "source": [
    "o_features_train, o_features_test, target_train, target_test = train_test_split(\n",
    "    o_features, target, test_size=0.25, random_state=12345)\n",
    "\n",
    "o_features_train = o_features.loc[o_features_train.index, :]\n",
    "o_features_test = o_features.loc[o_features_test.index, :]\n",
    "\n",
    "ohe_features_train = ohe_features.loc[o_features_train.index, :]\n",
    "ohe_features_test = ohe_features.loc[o_features_test.index, :]\n"
   ]
  },
  {
   "cell_type": "markdown",
   "metadata": {},
   "source": [
    "<div class=\"alert alert-block alert-success\">\n",
    "<b>Успех:</b> Разбиение было сделано верно, молодец!\n",
    "</div>"
   ]
  },
  {
   "cell_type": "markdown",
   "metadata": {},
   "source": [
    "Так как мы видели, что у данных большой разброс по целевому признаку проверим не сильно ли отличаются между собй значения попавшие в тестовую и тренировочную выборки."
   ]
  },
  {
   "cell_type": "code",
   "execution_count": 76,
   "metadata": {},
   "outputs": [
    {
     "name": "stdout",
     "output_type": "stream",
     "text": [
      "4426.531035183367\n",
      "4413.365318915176\n"
     ]
    }
   ],
   "source": [
    "print(target_test.mean())\n",
    "print(target_train.mean())"
   ]
  },
  {
   "cell_type": "markdown",
   "metadata": {},
   "source": [
    "## Обучение моделей"
   ]
  },
  {
   "cell_type": "markdown",
   "metadata": {},
   "source": [
    "### Linear Regression"
   ]
  },
  {
   "cell_type": "code",
   "execution_count": 77,
   "metadata": {},
   "outputs": [
    {
     "name": "stdout",
     "output_type": "stream",
     "text": [
      "CPU times: user 735 ms, sys: 514 ms, total: 1.25 s\n",
      "Wall time: 1.23 s\n"
     ]
    },
    {
     "data": {
      "text/plain": [
       "3925.7895060567407"
      ]
     },
     "execution_count": 77,
     "metadata": {},
     "output_type": "execute_result"
    }
   ],
   "source": [
    "%%time\n",
    "\n",
    "regressor = LinearRegression()\n",
    "cv_RMSE_LR = (cross_val_score(regressor, \n",
    "                             ohe_features_train, \n",
    "                             target_train, \n",
    "                             cv=5, \n",
    "                             scoring='neg_mean_squared_error').mean() * -1) ** 0.5\n",
    "cv_RMSE_LR"
   ]
  },
  {
   "cell_type": "markdown",
   "metadata": {},
   "source": [
    "### Decision Tree"
   ]
  },
  {
   "cell_type": "code",
   "execution_count": 78,
   "metadata": {},
   "outputs": [
    {
     "name": "stderr",
     "output_type": "stream",
     "text": [
      "/opt/conda/lib/python3.7/site-packages/sklearn/model_selection/_split.py:1978: FutureWarning: The default value of cv will change from 3 to 5 in version 0.22. Specify it explicitly to silence this warning.\n",
      "  warnings.warn(CV_WARNING, FutureWarning)\n"
     ]
    },
    {
     "name": "stdout",
     "output_type": "stream",
     "text": [
      "{'criterion': 'mse', 'max_depth': 12, 'random_state': 12345}\n",
      "CPU times: user 21.6 s, sys: 0 ns, total: 21.6 s\n",
      "Wall time: 21.9 s\n"
     ]
    },
    {
     "data": {
      "text/plain": [
       "2118.201180601501"
      ]
     },
     "execution_count": 78,
     "metadata": {},
     "output_type": "execute_result"
    }
   ],
   "source": [
    "%%time\n",
    "\n",
    "regressor = DecisionTreeRegressor() \n",
    "max_depth_list = [x for x in range(2, 20)]\n",
    "hyperparams = [{'criterion':['mse'], \n",
    "                'max_depth':max_depth_list, \n",
    "                'random_state':[12345]}]\n",
    "\n",
    "clf = GridSearchCV(regressor, hyperparams, scoring='neg_mean_squared_error')\n",
    "clf.fit(ohe_features_train, target_train)\n",
    "print(clf.best_params_)\n",
    "\n",
    "means = clf.cv_results_['mean_test_score']\n",
    "cv_RMSE_DTR_ohe = (max(means)*-1) ** 0.5\n",
    "cv_RMSE_DTR_ohe"
   ]
  },
  {
   "cell_type": "markdown",
   "metadata": {},
   "source": [
    "<div class=\"alert alert-block alert-success\">\n",
    "<b>Успех:</b> Радует, что для подбора параметров использовался метод основанный на кросс-валидации с корректной метрикой.\n",
    "</div>"
   ]
  },
  {
   "cell_type": "markdown",
   "metadata": {},
   "source": [
    "### Catboost"
   ]
  },
  {
   "cell_type": "code",
   "execution_count": 79,
   "metadata": {
    "scrolled": true
   },
   "outputs": [],
   "source": [
    "cat_columns = ['VehicleType','FuelType','Brand','Model','NotRepaired']\n",
    "ohe_features_train_cb = o_features_train[cat_columns].astype(int)\n",
    "ohe_features_test_cb = o_features_test[cat_columns].astype(int)\n",
    "train_pool = Pool(ohe_features_train_cb, target_train, cat_features = cat_columns)\n",
    "test_pool = Pool(ohe_features_test_cb, target_test, cat_features = cat_columns)"
   ]
  },
  {
   "cell_type": "code",
   "execution_count": 80,
   "metadata": {},
   "outputs": [
    {
     "name": "stdout",
     "output_type": "stream",
     "text": [
      "0:\tlearn: 4367.7936159\ttotal: 362ms\tremaining: 1m 12s\n",
      "1:\tlearn: 4248.3151741\ttotal: 668ms\tremaining: 1m 6s\n",
      "2:\tlearn: 4148.4176767\ttotal: 1.06s\tremaining: 1m 9s\n",
      "3:\tlearn: 4063.1129488\ttotal: 1.27s\tremaining: 1m 2s\n",
      "4:\tlearn: 3991.7693299\ttotal: 1.56s\tremaining: 1m\n",
      "5:\tlearn: 3932.9736597\ttotal: 1.86s\tremaining: 1m\n",
      "6:\tlearn: 3882.7836252\ttotal: 2.06s\tremaining: 56.9s\n",
      "7:\tlearn: 3841.5772118\ttotal: 2.36s\tremaining: 56.6s\n",
      "8:\tlearn: 3805.7796845\ttotal: 2.57s\tremaining: 54.5s\n",
      "9:\tlearn: 3773.6861133\ttotal: 2.86s\tremaining: 54.3s\n",
      "10:\tlearn: 3747.1206817\ttotal: 3.06s\tremaining: 52.6s\n",
      "11:\tlearn: 3725.1778033\ttotal: 3.36s\tremaining: 52.6s\n",
      "12:\tlearn: 3708.2297936\ttotal: 3.65s\tremaining: 52.6s\n",
      "13:\tlearn: 3690.4614047\ttotal: 3.86s\tremaining: 51.3s\n",
      "14:\tlearn: 3674.7146445\ttotal: 4.16s\tremaining: 51.3s\n",
      "15:\tlearn: 3661.3324562\ttotal: 4.46s\tremaining: 51.3s\n",
      "16:\tlearn: 3649.8854705\ttotal: 4.76s\tremaining: 51.3s\n",
      "17:\tlearn: 3640.7693162\ttotal: 5.06s\tremaining: 51.1s\n",
      "18:\tlearn: 3632.5123106\ttotal: 5.36s\tremaining: 51.1s\n",
      "19:\tlearn: 3619.0179038\ttotal: 5.75s\tremaining: 51.8s\n",
      "20:\tlearn: 3608.0222342\ttotal: 6.05s\tremaining: 51.6s\n",
      "21:\tlearn: 3597.4651907\ttotal: 6.35s\tremaining: 51.4s\n",
      "22:\tlearn: 3591.5697920\ttotal: 6.65s\tremaining: 51.2s\n",
      "23:\tlearn: 3584.9700423\ttotal: 6.95s\tremaining: 50.9s\n",
      "24:\tlearn: 3578.1339007\ttotal: 7.15s\tremaining: 50.1s\n",
      "25:\tlearn: 3570.6704792\ttotal: 7.45s\tremaining: 49.9s\n",
      "26:\tlearn: 3564.9645656\ttotal: 7.75s\tremaining: 49.6s\n",
      "27:\tlearn: 3560.3222345\ttotal: 8.04s\tremaining: 49.4s\n",
      "28:\tlearn: 3555.0902603\ttotal: 8.34s\tremaining: 49.2s\n",
      "29:\tlearn: 3550.7419447\ttotal: 8.55s\tremaining: 48.5s\n",
      "30:\tlearn: 3546.9342679\ttotal: 8.84s\tremaining: 48.2s\n",
      "31:\tlearn: 3544.8024069\ttotal: 9.15s\tremaining: 48s\n",
      "32:\tlearn: 3541.4141265\ttotal: 9.45s\tremaining: 47.8s\n",
      "33:\tlearn: 3537.5636017\ttotal: 9.74s\tremaining: 47.5s\n",
      "34:\tlearn: 3534.8827742\ttotal: 10s\tremaining: 47.4s\n",
      "35:\tlearn: 3532.4299741\ttotal: 10.3s\tremaining: 47.1s\n",
      "36:\tlearn: 3529.3278036\ttotal: 10.5s\tremaining: 46.4s\n",
      "37:\tlearn: 3527.4029182\ttotal: 10.8s\tremaining: 46.2s\n",
      "38:\tlearn: 3526.1451100\ttotal: 11.1s\tremaining: 45.6s\n",
      "39:\tlearn: 3523.3702759\ttotal: 11.3s\tremaining: 45.4s\n",
      "40:\tlearn: 3521.8152644\ttotal: 11.6s\tremaining: 45.1s\n",
      "41:\tlearn: 3520.3578043\ttotal: 11.9s\tremaining: 44.9s\n",
      "42:\tlearn: 3518.6714933\ttotal: 12.1s\tremaining: 44.3s\n",
      "43:\tlearn: 3517.2309123\ttotal: 12.4s\tremaining: 44.1s\n",
      "44:\tlearn: 3515.8211032\ttotal: 12.7s\tremaining: 43.9s\n",
      "45:\tlearn: 3513.9729825\ttotal: 12.9s\tremaining: 43.3s\n",
      "46:\tlearn: 3513.0479946\ttotal: 13.2s\tremaining: 43.1s\n",
      "47:\tlearn: 3512.3148296\ttotal: 13.5s\tremaining: 42.9s\n",
      "48:\tlearn: 3510.4635996\ttotal: 13.8s\tremaining: 42.6s\n",
      "49:\tlearn: 3509.2481288\ttotal: 14.1s\tremaining: 42.4s\n",
      "50:\tlearn: 3508.0831540\ttotal: 14.3s\tremaining: 41.9s\n",
      "51:\tlearn: 3507.0505076\ttotal: 14.6s\tremaining: 41.6s\n",
      "52:\tlearn: 3505.3497503\ttotal: 14.9s\tremaining: 41.4s\n",
      "53:\tlearn: 3504.1911073\ttotal: 15.1s\tremaining: 40.9s\n",
      "54:\tlearn: 3503.1302890\ttotal: 15.5s\tremaining: 40.9s\n",
      "55:\tlearn: 3501.8843061\ttotal: 15.7s\tremaining: 40.5s\n",
      "56:\tlearn: 3501.2906090\ttotal: 16s\tremaining: 40.2s\n",
      "57:\tlearn: 3500.4126691\ttotal: 16.3s\tremaining: 40s\n",
      "58:\tlearn: 3499.5549990\ttotal: 16.6s\tremaining: 39.7s\n",
      "59:\tlearn: 3498.4747915\ttotal: 16.8s\tremaining: 39.3s\n",
      "60:\tlearn: 3497.7605063\ttotal: 17s\tremaining: 38.8s\n",
      "61:\tlearn: 3497.1846475\ttotal: 17.3s\tremaining: 38.6s\n",
      "62:\tlearn: 3496.2879780\ttotal: 17.6s\tremaining: 38.3s\n",
      "63:\tlearn: 3495.6070757\ttotal: 17.9s\tremaining: 38.1s\n",
      "64:\tlearn: 3494.4344436\ttotal: 18.2s\tremaining: 37.8s\n",
      "65:\tlearn: 3493.3848076\ttotal: 18.4s\tremaining: 37.4s\n",
      "66:\tlearn: 3492.6562766\ttotal: 18.7s\tremaining: 37.2s\n",
      "67:\tlearn: 3491.2742480\ttotal: 18.9s\tremaining: 36.7s\n",
      "68:\tlearn: 3490.6056163\ttotal: 19.2s\tremaining: 36.5s\n",
      "69:\tlearn: 3489.8245892\ttotal: 19.5s\tremaining: 36.2s\n",
      "70:\tlearn: 3489.3463192\ttotal: 19.7s\tremaining: 35.8s\n",
      "71:\tlearn: 3488.7913025\ttotal: 20s\tremaining: 35.6s\n",
      "72:\tlearn: 3487.7422430\ttotal: 20.3s\tremaining: 35.3s\n",
      "73:\tlearn: 3486.9167523\ttotal: 20.6s\tremaining: 35.1s\n",
      "74:\tlearn: 3486.1768181\ttotal: 20.9s\tremaining: 34.9s\n",
      "75:\tlearn: 3485.4200274\ttotal: 21.2s\tremaining: 34.6s\n",
      "76:\tlearn: 3484.5333237\ttotal: 21.5s\tremaining: 34.4s\n",
      "77:\tlearn: 3483.3976276\ttotal: 21.7s\tremaining: 34s\n",
      "78:\tlearn: 3482.3039308\ttotal: 22s\tremaining: 33.7s\n",
      "79:\tlearn: 3481.3987848\ttotal: 22.2s\tremaining: 33.3s\n",
      "80:\tlearn: 3481.0243254\ttotal: 22.5s\tremaining: 33.1s\n",
      "81:\tlearn: 3480.3583256\ttotal: 22.8s\tremaining: 32.8s\n",
      "82:\tlearn: 3479.9279441\ttotal: 23s\tremaining: 32.5s\n",
      "83:\tlearn: 3478.8975534\ttotal: 23.3s\tremaining: 32.2s\n",
      "84:\tlearn: 3477.9951636\ttotal: 23.6s\tremaining: 31.9s\n",
      "85:\tlearn: 3477.3672079\ttotal: 23.8s\tremaining: 31.6s\n",
      "86:\tlearn: 3476.5741237\ttotal: 24.1s\tremaining: 31.3s\n",
      "87:\tlearn: 3476.0063853\ttotal: 24.3s\tremaining: 30.9s\n",
      "88:\tlearn: 3475.1125159\ttotal: 24.6s\tremaining: 30.7s\n",
      "89:\tlearn: 3474.4487623\ttotal: 24.8s\tremaining: 30.3s\n",
      "90:\tlearn: 3473.8651623\ttotal: 25.1s\tremaining: 30.1s\n",
      "91:\tlearn: 3473.3223225\ttotal: 25.3s\tremaining: 29.7s\n",
      "92:\tlearn: 3472.6484036\ttotal: 25.6s\tremaining: 29.5s\n",
      "93:\tlearn: 3472.3408052\ttotal: 25.9s\tremaining: 29.2s\n",
      "94:\tlearn: 3471.9884714\ttotal: 26.1s\tremaining: 28.9s\n",
      "95:\tlearn: 3471.4676193\ttotal: 26.4s\tremaining: 28.6s\n",
      "96:\tlearn: 3470.9417186\ttotal: 26.6s\tremaining: 28.3s\n",
      "97:\tlearn: 3470.5945971\ttotal: 26.9s\tremaining: 28s\n",
      "98:\tlearn: 3470.0604975\ttotal: 27.1s\tremaining: 27.7s\n",
      "99:\tlearn: 3469.7901981\ttotal: 27.4s\tremaining: 27.4s\n",
      "100:\tlearn: 3469.5233155\ttotal: 27.6s\tremaining: 27.1s\n",
      "101:\tlearn: 3469.2778116\ttotal: 27.9s\tremaining: 26.8s\n",
      "102:\tlearn: 3468.9359429\ttotal: 28.2s\tremaining: 26.6s\n",
      "103:\tlearn: 3468.3173359\ttotal: 28.4s\tremaining: 26.2s\n",
      "104:\tlearn: 3467.9685827\ttotal: 28.7s\tremaining: 26s\n",
      "105:\tlearn: 3467.7138110\ttotal: 29s\tremaining: 25.7s\n",
      "106:\tlearn: 3467.4210704\ttotal: 29.2s\tremaining: 25.4s\n",
      "107:\tlearn: 3467.1301202\ttotal: 29.5s\tremaining: 25.1s\n",
      "108:\tlearn: 3466.7381930\ttotal: 29.8s\tremaining: 24.9s\n",
      "109:\tlearn: 3466.4151838\ttotal: 30s\tremaining: 24.5s\n",
      "110:\tlearn: 3465.3892847\ttotal: 30.3s\tremaining: 24.3s\n",
      "111:\tlearn: 3465.1848659\ttotal: 30.6s\tremaining: 24s\n",
      "112:\tlearn: 3464.6983549\ttotal: 30.8s\tremaining: 23.7s\n",
      "113:\tlearn: 3464.0226174\ttotal: 31.1s\tremaining: 23.5s\n",
      "114:\tlearn: 3463.5085272\ttotal: 31.4s\tremaining: 23.2s\n",
      "115:\tlearn: 3462.9881851\ttotal: 31.6s\tremaining: 22.9s\n",
      "116:\tlearn: 3462.4386074\ttotal: 31.9s\tremaining: 22.6s\n",
      "117:\tlearn: 3462.2286489\ttotal: 32.2s\tremaining: 22.4s\n",
      "118:\tlearn: 3461.9476242\ttotal: 32.5s\tremaining: 22.1s\n",
      "119:\tlearn: 3461.8055178\ttotal: 32.7s\tremaining: 21.8s\n",
      "120:\tlearn: 3461.4505478\ttotal: 33s\tremaining: 21.5s\n",
      "121:\tlearn: 3461.0783885\ttotal: 33.3s\tremaining: 21.3s\n",
      "122:\tlearn: 3460.8693250\ttotal: 33.5s\tremaining: 21s\n",
      "123:\tlearn: 3460.1962592\ttotal: 33.8s\tremaining: 20.7s\n",
      "124:\tlearn: 3459.8295371\ttotal: 34.1s\tremaining: 20.4s\n",
      "125:\tlearn: 3459.4538925\ttotal: 34.3s\tremaining: 20.1s\n",
      "126:\tlearn: 3459.0333871\ttotal: 34.6s\tremaining: 19.9s\n",
      "127:\tlearn: 3458.8126787\ttotal: 34.9s\tremaining: 19.6s\n",
      "128:\tlearn: 3458.4677697\ttotal: 35.2s\tremaining: 19.4s\n",
      "129:\tlearn: 3458.1604864\ttotal: 35.4s\tremaining: 19.1s\n",
      "130:\tlearn: 3457.8588461\ttotal: 35.7s\tremaining: 18.8s\n",
      "131:\tlearn: 3457.4788488\ttotal: 35.9s\tremaining: 18.5s\n",
      "132:\tlearn: 3457.1164570\ttotal: 36.2s\tremaining: 18.2s\n",
      "133:\tlearn: 3456.8537308\ttotal: 36.5s\tremaining: 18s\n",
      "134:\tlearn: 3456.3294559\ttotal: 36.7s\tremaining: 17.7s\n",
      "135:\tlearn: 3455.9614373\ttotal: 37s\tremaining: 17.4s\n",
      "136:\tlearn: 3455.8014130\ttotal: 37.2s\tremaining: 17.1s\n",
      "137:\tlearn: 3455.5724663\ttotal: 37.5s\tremaining: 16.8s\n",
      "138:\tlearn: 3455.4572491\ttotal: 37.8s\tremaining: 16.6s\n",
      "139:\tlearn: 3455.1783019\ttotal: 38s\tremaining: 16.3s\n",
      "140:\tlearn: 3454.5909567\ttotal: 38.3s\tremaining: 16s\n",
      "141:\tlearn: 3454.3145235\ttotal: 38.6s\tremaining: 15.8s\n",
      "142:\tlearn: 3454.1148864\ttotal: 38.8s\tremaining: 15.5s\n",
      "143:\tlearn: 3453.7862455\ttotal: 39.1s\tremaining: 15.2s\n",
      "144:\tlearn: 3453.5332396\ttotal: 39.4s\tremaining: 14.9s\n",
      "145:\tlearn: 3453.2226516\ttotal: 39.6s\tremaining: 14.6s\n",
      "146:\tlearn: 3452.9908871\ttotal: 39.9s\tremaining: 14.4s\n",
      "147:\tlearn: 3452.7247644\ttotal: 40.2s\tremaining: 14.1s\n",
      "148:\tlearn: 3452.5710919\ttotal: 40.4s\tremaining: 13.8s\n",
      "149:\tlearn: 3452.2615694\ttotal: 40.7s\tremaining: 13.6s\n",
      "150:\tlearn: 3452.0272783\ttotal: 40.9s\tremaining: 13.3s\n",
      "151:\tlearn: 3451.7987277\ttotal: 41.2s\tremaining: 13s\n",
      "152:\tlearn: 3451.4926017\ttotal: 41.5s\tremaining: 12.7s\n",
      "153:\tlearn: 3451.2497152\ttotal: 41.7s\tremaining: 12.4s\n",
      "154:\tlearn: 3451.0448891\ttotal: 42s\tremaining: 12.2s\n",
      "155:\tlearn: 3451.0322863\ttotal: 42.2s\tremaining: 11.9s\n",
      "156:\tlearn: 3450.8266979\ttotal: 42.4s\tremaining: 11.6s\n",
      "157:\tlearn: 3450.5762914\ttotal: 42.7s\tremaining: 11.3s\n",
      "158:\tlearn: 3450.2826592\ttotal: 43s\tremaining: 11.1s\n",
      "159:\tlearn: 3450.0828785\ttotal: 43.3s\tremaining: 10.8s\n",
      "160:\tlearn: 3450.0130058\ttotal: 43.5s\tremaining: 10.5s\n",
      "161:\tlearn: 3449.9490564\ttotal: 43.8s\tremaining: 10.3s\n",
      "162:\tlearn: 3449.8822710\ttotal: 44s\tremaining: 9.98s\n",
      "163:\tlearn: 3449.6448636\ttotal: 44.3s\tremaining: 9.72s\n",
      "164:\tlearn: 3449.1896378\ttotal: 44.6s\tremaining: 9.45s\n",
      "165:\tlearn: 3449.0309382\ttotal: 44.8s\tremaining: 9.17s\n",
      "166:\tlearn: 3449.0066630\ttotal: 45.1s\tremaining: 8.9s\n",
      "167:\tlearn: 3448.8407157\ttotal: 45.4s\tremaining: 8.64s\n",
      "168:\tlearn: 3448.7163223\ttotal: 45.6s\tremaining: 8.36s\n",
      "169:\tlearn: 3448.5893747\ttotal: 45.9s\tremaining: 8.09s\n",
      "170:\tlearn: 3448.4691566\ttotal: 46.1s\tremaining: 7.81s\n",
      "171:\tlearn: 3448.2963873\ttotal: 46.4s\tremaining: 7.55s\n",
      "172:\tlearn: 3447.8626436\ttotal: 46.7s\tremaining: 7.28s\n",
      "173:\tlearn: 3447.7300121\ttotal: 46.9s\tremaining: 7s\n",
      "174:\tlearn: 3447.7275102\ttotal: 47.2s\tremaining: 6.74s\n",
      "175:\tlearn: 3447.4913366\ttotal: 47.4s\tremaining: 6.46s\n",
      "176:\tlearn: 3447.2666812\ttotal: 47.7s\tremaining: 6.19s\n",
      "177:\tlearn: 3447.0780082\ttotal: 48s\tremaining: 5.93s\n",
      "178:\tlearn: 3447.0044188\ttotal: 48.2s\tremaining: 5.66s\n",
      "179:\tlearn: 3446.9882706\ttotal: 48.5s\tremaining: 5.38s\n",
      "180:\tlearn: 3446.8212244\ttotal: 48.8s\tremaining: 5.12s\n",
      "181:\tlearn: 3446.6846970\ttotal: 49s\tremaining: 4.85s\n",
      "182:\tlearn: 3446.6236985\ttotal: 49.3s\tremaining: 4.58s\n",
      "183:\tlearn: 3446.1462040\ttotal: 49.5s\tremaining: 4.31s\n",
      "184:\tlearn: 3445.7962635\ttotal: 49.8s\tremaining: 4.04s\n",
      "185:\tlearn: 3445.5147956\ttotal: 50.1s\tremaining: 3.77s\n",
      "186:\tlearn: 3445.4193039\ttotal: 50.3s\tremaining: 3.5s\n",
      "187:\tlearn: 3445.3387713\ttotal: 50.6s\tremaining: 3.23s\n",
      "188:\tlearn: 3444.9090334\ttotal: 50.9s\tremaining: 2.96s\n",
      "189:\tlearn: 3444.7191202\ttotal: 51.1s\tremaining: 2.69s\n",
      "190:\tlearn: 3444.4983871\ttotal: 51.4s\tremaining: 2.42s\n",
      "191:\tlearn: 3444.3491047\ttotal: 51.6s\tremaining: 2.15s\n",
      "192:\tlearn: 3444.0033776\ttotal: 51.9s\tremaining: 1.88s\n",
      "193:\tlearn: 3443.9407790\ttotal: 52.1s\tremaining: 1.61s\n",
      "194:\tlearn: 3443.8790635\ttotal: 52.4s\tremaining: 1.34s\n",
      "195:\tlearn: 3443.6433088\ttotal: 52.7s\tremaining: 1.08s\n",
      "196:\tlearn: 3443.6136918\ttotal: 52.9s\tremaining: 806ms\n",
      "197:\tlearn: 3443.4538502\ttotal: 53.2s\tremaining: 538ms\n",
      "198:\tlearn: 3443.2898725\ttotal: 53.5s\tremaining: 269ms\n",
      "199:\tlearn: 3443.0688307\ttotal: 53.8s\tremaining: 0us\n",
      "CPU times: user 49.9 s, sys: 3.82 s, total: 53.7 s\n",
      "Wall time: 55.2 s\n"
     ]
    },
    {
     "data": {
      "text/plain": [
       "<catboost.core.CatBoostRegressor at 0x7f58940c95d0>"
      ]
     },
     "execution_count": 80,
     "metadata": {},
     "output_type": "execute_result"
    }
   ],
   "source": [
    "%%time\n",
    "\n",
    "model_cb = CatBoostRegressor(iterations=200,learning_rate=0.1,loss_function='RMSE') \n",
    "\n",
    "model_cb.fit(train_pool)"
   ]
  },
  {
   "cell_type": "code",
   "execution_count": 81,
   "metadata": {},
   "outputs": [],
   "source": [
    "# %%time\n",
    "\n",
    "#regressor = CatBoostRegressor() \n",
    "#hyperparams = [{'learning_rate':[0.1, 0.5, 0.8],\n",
    "#                'random_state':[12345],\n",
    "#                'verbose':[False]}]\n",
    "\n",
    "#clf = GridSearchCV(regressor, hyperparams, scoring='neg_mean_squared_error')\n",
    "#clf.fit(ohe_features_train, target_train)\n",
    "\n",
    "#print(clf.best_params_)\n",
    "\n",
    "#means = clf.cv_results_['mean_test_score']\n",
    "#cv_RMSE_cb_ohe = (max(means)*-1) ** 0.5\n",
    "#cv_RMSE_cb_ohe"
   ]
  },
  {
   "cell_type": "markdown",
   "metadata": {},
   "source": [
    "<div class=\"alert alert-block alert-warning\">\n",
    "<b>Изменения:</b> Я не понимаю, что нужно тут использовать. Я пыталась использовать Pool, он все время выдает ошибки, тем более у меня нет информации о весах, а писать ее от рандома странно. В документации Catboost нет примеров. Короче помоги, пожалуйста, я вообще не понимаю, что тут нужно делать и зачем. \n",
    "</div>"
   ]
  },
  {
   "cell_type": "markdown",
   "metadata": {},
   "source": [
    "<div class=\"alert alert-block alert-info\">\n",
    "<b>Совет (ревью 2): </b> <a href=\"https://catboost.ai/docs/concepts/python-usages-examples.html#binary-classification\">Тут</a> есть пример.\n",
    "</div>"
   ]
  },
  {
   "cell_type": "markdown",
   "metadata": {},
   "source": [
    "<div class=\"alert alert-block alert-success\">\n",
    "<b>Успех (ревью 3):</b> Верно!\n",
    "</div>"
   ]
  },
  {
   "cell_type": "markdown",
   "metadata": {},
   "source": [
    "### LGBM Regressor"
   ]
  },
  {
   "cell_type": "code",
   "execution_count": 82,
   "metadata": {},
   "outputs": [
    {
     "name": "stdout",
     "output_type": "stream",
     "text": [
      "<class 'pandas.core.frame.DataFrame'>\n",
      "Int64Index: 265776 entries, 25945 to 217570\n",
      "Data columns (total 11 columns):\n",
      "VehicleType          265776 non-null category\n",
      "RegistrationYear     265776 non-null category\n",
      "Power                265776 non-null category\n",
      "Model                265776 non-null category\n",
      "Kilometer            265776 non-null category\n",
      "RegistrationMonth    265776 non-null category\n",
      "FuelType             265776 non-null category\n",
      "Brand                265776 non-null category\n",
      "NotRepaired          265776 non-null category\n",
      "Gearbox_auto         265776 non-null category\n",
      "Gearbox_manual       265776 non-null category\n",
      "dtypes: category(11)\n",
      "memory usage: 5.6 MB\n"
     ]
    }
   ],
   "source": [
    "ohe_features_train_lgbm = ohe_features_train.astype('category')\n",
    "ohe_features_test_lgbm = ohe_features_test.astype('category')\n",
    "ohe_features_train_lgbm.info()"
   ]
  },
  {
   "cell_type": "code",
   "execution_count": 83,
   "metadata": {},
   "outputs": [
    {
     "name": "stderr",
     "output_type": "stream",
     "text": [
      "/opt/conda/lib/python3.7/site-packages/sklearn/model_selection/_split.py:1978: FutureWarning: The default value of cv will change from 3 to 5 in version 0.22. Specify it explicitly to silence this warning.\n",
      "  warnings.warn(CV_WARNING, FutureWarning)\n"
     ]
    },
    {
     "name": "stdout",
     "output_type": "stream",
     "text": [
      "{'learning_rate': 0.1, 'num_leaves': 200, 'random_state': 12345}\n",
      "CPU times: user 3min 57s, sys: 1 s, total: 3min 58s\n",
      "Wall time: 4min 2s\n"
     ]
    },
    {
     "data": {
      "text/plain": [
       "1717.6301942016187"
      ]
     },
     "execution_count": 83,
     "metadata": {},
     "output_type": "execute_result"
    }
   ],
   "source": [
    "%%time\n",
    "\n",
    "regressor = LGBMRegressor() \n",
    "hyperparams = [{'num_leaves':[31, 100, 200], \n",
    "                'learning_rate':[0.1, 0.5, 0.8],\n",
    "                'random_state':[12345]}]\n",
    "\n",
    "clf = GridSearchCV(regressor, hyperparams, scoring='neg_mean_squared_error')\n",
    "clf.fit(ohe_features_train_lgbm, target_train)\n",
    "print(clf.best_params_)\n",
    "\n",
    "\n",
    "means = clf.cv_results_['mean_test_score']\n",
    "cv_RMSE_lgbm_ohe = (max(means)*-1) ** 0.5\n",
    "cv_RMSE_lgbm_ohe"
   ]
  },
  {
   "cell_type": "markdown",
   "metadata": {},
   "source": [
    "<div class=\"alert alert-block alert-danger\">\n",
    "<b>Ошибка:</b> У моделей Catboost и lightGBM существуют внутренние механизмы обработки категориальных признаков. В данном случае нужно использовать их. Более подробную информацию можно найти в интернете.\n",
    "    <br> Подскажу с lightGBM: достаточно изменить тип колонок с категориальными признаками на соответствующий: .astype('category').\n",
    "</div>"
   ]
  },
  {
   "cell_type": "markdown",
   "metadata": {},
   "source": [
    "<div class=\"alert alert-block alert-warning\">\n",
    "<b>Изменения:</b> Заменила на для lightGBM тип признаков на category.\n",
    "</div>"
   ]
  },
  {
   "cell_type": "markdown",
   "metadata": {},
   "source": [
    "<div class=\"alert alert-block alert-danger\">\n",
    "<b>Ошибка (ревью 2):</b> Ты не используешь ohe_features_train_lgbm .\n",
    "</div>"
   ]
  },
  {
   "cell_type": "markdown",
   "metadata": {},
   "source": [
    "<div class=\"alert alert-block alert-success\">\n",
    "<b>Успех (ревью 3):</b> Теперь все ОК.\n",
    "</div>"
   ]
  },
  {
   "cell_type": "markdown",
   "metadata": {},
   "source": [
    "## Анализ моделей"
   ]
  },
  {
   "cell_type": "markdown",
   "metadata": {},
   "source": [
    "### Linear Regression"
   ]
  },
  {
   "cell_type": "code",
   "execution_count": 84,
   "metadata": {},
   "outputs": [
    {
     "name": "stdout",
     "output_type": "stream",
     "text": [
      "CPU times: user 99.8 ms, sys: 42.4 ms, total: 142 ms\n",
      "Wall time: 119 ms\n"
     ]
    },
    {
     "data": {
      "text/plain": [
       "0.11901402473449707"
      ]
     },
     "execution_count": 84,
     "metadata": {},
     "output_type": "execute_result"
    }
   ],
   "source": [
    "%%time\n",
    "start_time = time.time()\n",
    "model_lr = LinearRegression()\n",
    "model_lr.fit(ohe_features_train, target_train)\n",
    "\n",
    "time_lr = (time.time() - start_time)\n",
    "time_lr"
   ]
  },
  {
   "cell_type": "code",
   "execution_count": 85,
   "metadata": {},
   "outputs": [
    {
     "name": "stdout",
     "output_type": "stream",
     "text": [
      "CPU times: user 28.6 ms, sys: 4.92 ms, total: 33.5 ms\n",
      "Wall time: 6.99 ms\n"
     ]
    },
    {
     "data": {
      "text/plain": [
       "0.0068895816802978516"
      ]
     },
     "execution_count": 85,
     "metadata": {},
     "output_type": "execute_result"
    }
   ],
   "source": [
    "%%time\n",
    "start_time = time.time()\n",
    "target_predict_lr = model_lr.predict(ohe_features_test)\n",
    "RMSE_lr = mean_squared_error(target_test, target_predict_lr) ** 0.5\n",
    "RMSE_lr\n",
    "\n",
    "time_lr_pred = (time.time() - start_time)\n",
    "time_lr_pred"
   ]
  },
  {
   "cell_type": "markdown",
   "metadata": {},
   "source": [
    "### Decision Tree"
   ]
  },
  {
   "cell_type": "code",
   "execution_count": 86,
   "metadata": {},
   "outputs": [
    {
     "name": "stdout",
     "output_type": "stream",
     "text": [
      "CPU times: user 796 ms, sys: 44.7 ms, total: 840 ms\n",
      "Wall time: 865 ms\n"
     ]
    },
    {
     "data": {
      "text/plain": [
       "0.8650081157684326"
      ]
     },
     "execution_count": 86,
     "metadata": {},
     "output_type": "execute_result"
    }
   ],
   "source": [
    "%%time\n",
    "start_time = time.time()\n",
    "model_dt = DecisionTreeRegressor(criterion='mse', \n",
    "                              max_depth=15, \n",
    "                              random_state=12345) \n",
    "model_dt.fit(ohe_features_train, target_train)\n",
    "\n",
    "time_dt = (time.time() - start_time)\n",
    "time_dt"
   ]
  },
  {
   "cell_type": "code",
   "execution_count": 87,
   "metadata": {},
   "outputs": [
    {
     "name": "stdout",
     "output_type": "stream",
     "text": [
      "CPU times: user 16.5 ms, sys: 4.12 ms, total: 20.6 ms\n",
      "Wall time: 27.1 ms\n"
     ]
    },
    {
     "data": {
      "text/plain": [
       "0.027035951614379883"
      ]
     },
     "execution_count": 87,
     "metadata": {},
     "output_type": "execute_result"
    }
   ],
   "source": [
    "%%time\n",
    "start_time = time.time()\n",
    "target_predict_dt = model_dt.predict(ohe_features_test)\n",
    "RMSE_dt = mean_squared_error(target_test, target_predict_dt) ** 0.5\n",
    "RMSE_dt\n",
    "\n",
    "time_dt_pred = (time.time() - start_time)\n",
    "time_dt_pred"
   ]
  },
  {
   "cell_type": "markdown",
   "metadata": {},
   "source": [
    "### CatBoost"
   ]
  },
  {
   "cell_type": "code",
   "execution_count": 88,
   "metadata": {},
   "outputs": [],
   "source": [
    "#%%time\n",
    "#start_time = time.time()\n",
    "#model_cb = CatBoostRegressor(learning_rate=0.5, \n",
    "#                          random_state=12345, \n",
    "#                          verbose=False) \n",
    "#model_cb.fit(ohe_features_train, target_train)\n",
    "\n",
    "#time_cb = (time.time() - start_time)\n",
    "#time_cb"
   ]
  },
  {
   "cell_type": "code",
   "execution_count": 94,
   "metadata": {},
   "outputs": [
    {
     "name": "stdout",
     "output_type": "stream",
     "text": [
      "0:\tlearn: 4367.7936159\ttotal: 404ms\tremaining: 1m 20s\n",
      "1:\tlearn: 4248.3151741\ttotal: 709ms\tremaining: 1m 10s\n",
      "2:\tlearn: 4148.4176767\ttotal: 1.1s\tremaining: 1m 12s\n",
      "3:\tlearn: 4063.1129488\ttotal: 1.31s\tremaining: 1m 4s\n",
      "4:\tlearn: 3991.7693299\ttotal: 1.6s\tremaining: 1m 2s\n",
      "5:\tlearn: 3932.9736597\ttotal: 1.9s\tremaining: 1m 1s\n",
      "6:\tlearn: 3882.7836252\ttotal: 2.1s\tremaining: 58s\n",
      "7:\tlearn: 3841.5772118\ttotal: 2.4s\tremaining: 57.6s\n",
      "8:\tlearn: 3805.7796845\ttotal: 2.7s\tremaining: 57.2s\n",
      "9:\tlearn: 3773.6861133\ttotal: 2.9s\tremaining: 55.1s\n",
      "10:\tlearn: 3747.1206817\ttotal: 3.19s\tremaining: 54.9s\n",
      "11:\tlearn: 3725.1778033\ttotal: 3.4s\tremaining: 53.3s\n",
      "12:\tlearn: 3708.2297936\ttotal: 3.7s\tremaining: 53.2s\n",
      "13:\tlearn: 3690.4614047\ttotal: 4s\tremaining: 53.1s\n",
      "14:\tlearn: 3674.7146445\ttotal: 4.29s\tremaining: 53s\n",
      "15:\tlearn: 3661.3324562\ttotal: 4.69s\tremaining: 54s\n",
      "16:\tlearn: 3649.8854705\ttotal: 5.09s\tremaining: 54.8s\n",
      "17:\tlearn: 3640.7693162\ttotal: 5.39s\tremaining: 54.5s\n",
      "18:\tlearn: 3632.5123106\ttotal: 5.69s\tremaining: 54.2s\n",
      "19:\tlearn: 3619.0179038\ttotal: 6.09s\tremaining: 54.8s\n",
      "20:\tlearn: 3608.0222342\ttotal: 6.39s\tremaining: 54.5s\n",
      "21:\tlearn: 3597.4651907\ttotal: 6.7s\tremaining: 54.2s\n",
      "22:\tlearn: 3591.5697920\ttotal: 7.09s\tremaining: 54.5s\n",
      "23:\tlearn: 3584.9700423\ttotal: 7.3s\tremaining: 53.5s\n",
      "24:\tlearn: 3578.1339007\ttotal: 7.59s\tremaining: 53.1s\n",
      "25:\tlearn: 3570.6704792\ttotal: 7.89s\tremaining: 52.8s\n",
      "26:\tlearn: 3564.9645656\ttotal: 8.19s\tremaining: 52.5s\n",
      "27:\tlearn: 3560.3222345\ttotal: 8.48s\tremaining: 52.1s\n",
      "28:\tlearn: 3555.0902603\ttotal: 8.69s\tremaining: 51.2s\n",
      "29:\tlearn: 3550.7419447\ttotal: 8.99s\tremaining: 50.9s\n",
      "30:\tlearn: 3546.9342679\ttotal: 9.28s\tremaining: 50.6s\n",
      "31:\tlearn: 3544.8024069\ttotal: 9.58s\tremaining: 50.3s\n",
      "32:\tlearn: 3541.4141265\ttotal: 9.79s\tremaining: 49.5s\n",
      "33:\tlearn: 3537.5636017\ttotal: 10.1s\tremaining: 49.2s\n",
      "34:\tlearn: 3534.8827742\ttotal: 10.5s\tremaining: 49.4s\n",
      "35:\tlearn: 3532.4299741\ttotal: 10.7s\tremaining: 48.7s\n",
      "36:\tlearn: 3529.3278036\ttotal: 11s\tremaining: 48.4s\n",
      "37:\tlearn: 3527.4029182\ttotal: 11.3s\tremaining: 48.1s\n",
      "38:\tlearn: 3526.1451100\ttotal: 11.6s\tremaining: 47.8s\n",
      "39:\tlearn: 3523.3702759\ttotal: 11.8s\tremaining: 47.1s\n",
      "40:\tlearn: 3521.8152644\ttotal: 12.1s\tremaining: 46.8s\n",
      "41:\tlearn: 3520.3578043\ttotal: 12.4s\tremaining: 46.6s\n",
      "42:\tlearn: 3518.6714933\ttotal: 12.7s\tremaining: 46.3s\n",
      "43:\tlearn: 3517.2309123\ttotal: 12.9s\tremaining: 45.7s\n",
      "44:\tlearn: 3515.8211032\ttotal: 13.2s\tremaining: 45.4s\n",
      "45:\tlearn: 3513.9729825\ttotal: 13.5s\tremaining: 45.1s\n",
      "46:\tlearn: 3513.0479946\ttotal: 13.7s\tremaining: 44.5s\n",
      "47:\tlearn: 3512.3148296\ttotal: 14s\tremaining: 44.2s\n",
      "48:\tlearn: 3510.4635996\ttotal: 14.3s\tremaining: 44s\n",
      "49:\tlearn: 3509.2481288\ttotal: 14.6s\tremaining: 43.7s\n",
      "50:\tlearn: 3508.0831540\ttotal: 14.8s\tremaining: 43.2s\n",
      "51:\tlearn: 3507.0505076\ttotal: 15.1s\tremaining: 42.9s\n",
      "52:\tlearn: 3505.3497503\ttotal: 15.4s\tremaining: 42.6s\n",
      "53:\tlearn: 3504.1911073\ttotal: 15.6s\tremaining: 42.1s\n",
      "54:\tlearn: 3503.1302890\ttotal: 15.9s\tremaining: 41.9s\n",
      "55:\tlearn: 3501.8843061\ttotal: 16.2s\tremaining: 41.6s\n",
      "56:\tlearn: 3501.2906090\ttotal: 16.5s\tremaining: 41.3s\n",
      "57:\tlearn: 3500.4126691\ttotal: 16.7s\tremaining: 40.8s\n",
      "58:\tlearn: 3499.5549990\ttotal: 17s\tremaining: 40.5s\n",
      "59:\tlearn: 3498.4747915\ttotal: 17.2s\tremaining: 40.1s\n",
      "60:\tlearn: 3497.7605063\ttotal: 17.5s\tremaining: 39.8s\n",
      "61:\tlearn: 3497.1846475\ttotal: 17.8s\tremaining: 39.5s\n",
      "62:\tlearn: 3496.2879780\ttotal: 18.1s\tremaining: 39.3s\n",
      "63:\tlearn: 3495.6070757\ttotal: 18.4s\tremaining: 39s\n",
      "64:\tlearn: 3494.4344436\ttotal: 18.6s\tremaining: 38.6s\n",
      "65:\tlearn: 3493.3848076\ttotal: 18.9s\tremaining: 38.3s\n",
      "66:\tlearn: 3492.6562766\ttotal: 19.2s\tremaining: 38s\n",
      "67:\tlearn: 3491.2742480\ttotal: 19.4s\tremaining: 37.6s\n",
      "68:\tlearn: 3490.6056163\ttotal: 19.7s\tremaining: 37.3s\n",
      "69:\tlearn: 3489.8245892\ttotal: 20s\tremaining: 37.1s\n",
      "70:\tlearn: 3489.3463192\ttotal: 20.2s\tremaining: 36.6s\n",
      "71:\tlearn: 3488.7913025\ttotal: 20.5s\tremaining: 36.4s\n",
      "72:\tlearn: 3487.7422430\ttotal: 20.8s\tremaining: 36.1s\n",
      "73:\tlearn: 3486.9167523\ttotal: 21s\tremaining: 35.7s\n",
      "74:\tlearn: 3486.1768181\ttotal: 21.3s\tremaining: 35.4s\n",
      "75:\tlearn: 3485.4200274\ttotal: 21.6s\tremaining: 35.2s\n",
      "76:\tlearn: 3484.5333237\ttotal: 21.9s\tremaining: 34.9s\n",
      "77:\tlearn: 3483.3976276\ttotal: 22.1s\tremaining: 34.5s\n",
      "78:\tlearn: 3482.3039308\ttotal: 22.4s\tremaining: 34.2s\n",
      "79:\tlearn: 3481.3987848\ttotal: 22.7s\tremaining: 34s\n",
      "80:\tlearn: 3481.0243254\ttotal: 22.9s\tremaining: 33.7s\n",
      "81:\tlearn: 3480.3583256\ttotal: 23.2s\tremaining: 33.3s\n",
      "82:\tlearn: 3479.9279441\ttotal: 23.4s\tremaining: 33.1s\n",
      "83:\tlearn: 3478.8975534\ttotal: 23.7s\tremaining: 32.7s\n",
      "84:\tlearn: 3477.9951636\ttotal: 23.9s\tremaining: 32.4s\n",
      "85:\tlearn: 3477.3672079\ttotal: 24.2s\tremaining: 32s\n",
      "86:\tlearn: 3476.5741237\ttotal: 24.4s\tremaining: 31.8s\n",
      "87:\tlearn: 3476.0063853\ttotal: 24.7s\tremaining: 31.4s\n",
      "88:\tlearn: 3475.1125159\ttotal: 24.9s\tremaining: 31.1s\n",
      "89:\tlearn: 3474.4487623\ttotal: 25.2s\tremaining: 30.9s\n",
      "90:\tlearn: 3473.8651623\ttotal: 25.4s\tremaining: 30.5s\n",
      "91:\tlearn: 3473.3223225\ttotal: 25.7s\tremaining: 30.2s\n",
      "92:\tlearn: 3472.6484036\ttotal: 26s\tremaining: 30s\n",
      "93:\tlearn: 3472.3408052\ttotal: 26.2s\tremaining: 29.6s\n",
      "94:\tlearn: 3471.9884714\ttotal: 26.5s\tremaining: 29.3s\n",
      "95:\tlearn: 3471.4676193\ttotal: 26.8s\tremaining: 29.1s\n",
      "96:\tlearn: 3470.9417186\ttotal: 27s\tremaining: 28.7s\n",
      "97:\tlearn: 3470.5945971\ttotal: 27.3s\tremaining: 28.5s\n",
      "98:\tlearn: 3470.0604975\ttotal: 27.6s\tremaining: 28.2s\n",
      "99:\tlearn: 3469.7901981\ttotal: 27.8s\tremaining: 27.8s\n",
      "100:\tlearn: 3469.5233155\ttotal: 28.1s\tremaining: 27.6s\n",
      "101:\tlearn: 3469.2778116\ttotal: 28.4s\tremaining: 27.3s\n",
      "102:\tlearn: 3468.9359429\ttotal: 28.7s\tremaining: 27.1s\n",
      "103:\tlearn: 3468.3173359\ttotal: 28.9s\tremaining: 26.7s\n",
      "104:\tlearn: 3467.9685827\ttotal: 29.2s\tremaining: 26.5s\n",
      "105:\tlearn: 3467.7138110\ttotal: 29.5s\tremaining: 26.2s\n",
      "106:\tlearn: 3467.4210704\ttotal: 29.7s\tremaining: 25.9s\n",
      "107:\tlearn: 3467.1301202\ttotal: 30s\tremaining: 25.6s\n",
      "108:\tlearn: 3466.7381930\ttotal: 30.3s\tremaining: 25.3s\n",
      "109:\tlearn: 3466.4151838\ttotal: 30.5s\tremaining: 25s\n",
      "110:\tlearn: 3465.3892847\ttotal: 30.8s\tremaining: 24.7s\n",
      "111:\tlearn: 3465.1848659\ttotal: 31s\tremaining: 24.4s\n",
      "112:\tlearn: 3464.6983549\ttotal: 31.3s\tremaining: 24.1s\n",
      "113:\tlearn: 3464.0226174\ttotal: 31.6s\tremaining: 23.9s\n",
      "114:\tlearn: 3463.5085272\ttotal: 31.8s\tremaining: 23.5s\n",
      "115:\tlearn: 3462.9881851\ttotal: 32.1s\tremaining: 23.3s\n",
      "116:\tlearn: 3462.4386074\ttotal: 32.3s\tremaining: 22.9s\n",
      "117:\tlearn: 3462.2286489\ttotal: 32.6s\tremaining: 22.7s\n",
      "118:\tlearn: 3461.9476242\ttotal: 32.9s\tremaining: 22.4s\n",
      "119:\tlearn: 3461.8055178\ttotal: 33.1s\tremaining: 22.1s\n",
      "120:\tlearn: 3461.4505478\ttotal: 33.4s\tremaining: 21.8s\n",
      "121:\tlearn: 3461.0783885\ttotal: 33.7s\tremaining: 21.6s\n",
      "122:\tlearn: 3460.8693250\ttotal: 33.9s\tremaining: 21.2s\n",
      "123:\tlearn: 3460.1962592\ttotal: 34.2s\tremaining: 21s\n",
      "124:\tlearn: 3459.8295371\ttotal: 34.5s\tremaining: 20.7s\n",
      "125:\tlearn: 3459.4538925\ttotal: 34.7s\tremaining: 20.4s\n",
      "126:\tlearn: 3459.0333871\ttotal: 35s\tremaining: 20.1s\n",
      "127:\tlearn: 3458.8126787\ttotal: 35.3s\tremaining: 19.9s\n",
      "128:\tlearn: 3458.4677697\ttotal: 35.5s\tremaining: 19.6s\n",
      "129:\tlearn: 3458.1604864\ttotal: 35.8s\tremaining: 19.3s\n",
      "130:\tlearn: 3457.8588461\ttotal: 36.1s\tremaining: 19s\n",
      "131:\tlearn: 3457.4788488\ttotal: 36.3s\tremaining: 18.7s\n",
      "132:\tlearn: 3457.1164570\ttotal: 36.6s\tremaining: 18.4s\n",
      "133:\tlearn: 3456.8537308\ttotal: 36.9s\tremaining: 18.2s\n",
      "134:\tlearn: 3456.3294559\ttotal: 37.1s\tremaining: 17.9s\n",
      "135:\tlearn: 3455.9614373\ttotal: 37.4s\tremaining: 17.6s\n",
      "136:\tlearn: 3455.8014130\ttotal: 37.7s\tremaining: 17.3s\n",
      "137:\tlearn: 3455.5724663\ttotal: 38s\tremaining: 17.1s\n",
      "138:\tlearn: 3455.4572491\ttotal: 38.2s\tremaining: 16.8s\n",
      "139:\tlearn: 3455.1783019\ttotal: 38.5s\tremaining: 16.5s\n",
      "140:\tlearn: 3454.5909567\ttotal: 38.7s\tremaining: 16.2s\n",
      "141:\tlearn: 3454.3145235\ttotal: 39s\tremaining: 15.9s\n",
      "142:\tlearn: 3454.1148864\ttotal: 39.3s\tremaining: 15.7s\n",
      "143:\tlearn: 3453.7862455\ttotal: 39.5s\tremaining: 15.4s\n",
      "144:\tlearn: 3453.5332396\ttotal: 39.8s\tremaining: 15.1s\n",
      "145:\tlearn: 3453.2226516\ttotal: 40s\tremaining: 14.8s\n",
      "146:\tlearn: 3452.9908871\ttotal: 40.3s\tremaining: 14.5s\n",
      "147:\tlearn: 3452.7247644\ttotal: 40.6s\tremaining: 14.3s\n",
      "148:\tlearn: 3452.5710919\ttotal: 40.9s\tremaining: 14s\n",
      "149:\tlearn: 3452.2615694\ttotal: 41.1s\tremaining: 13.7s\n",
      "150:\tlearn: 3452.0272783\ttotal: 41.4s\tremaining: 13.4s\n",
      "151:\tlearn: 3451.7987277\ttotal: 41.6s\tremaining: 13.1s\n",
      "152:\tlearn: 3451.4926017\ttotal: 41.9s\tremaining: 12.9s\n",
      "153:\tlearn: 3451.2497152\ttotal: 42.1s\tremaining: 12.6s\n",
      "154:\tlearn: 3451.0448891\ttotal: 42.4s\tremaining: 12.3s\n",
      "155:\tlearn: 3451.0322863\ttotal: 42.6s\tremaining: 12s\n",
      "156:\tlearn: 3450.8266979\ttotal: 42.9s\tremaining: 11.8s\n",
      "157:\tlearn: 3450.5762914\ttotal: 43.2s\tremaining: 11.5s\n",
      "158:\tlearn: 3450.2826592\ttotal: 43.4s\tremaining: 11.2s\n",
      "159:\tlearn: 3450.0828785\ttotal: 43.7s\tremaining: 10.9s\n",
      "160:\tlearn: 3450.0130058\ttotal: 43.9s\tremaining: 10.6s\n",
      "161:\tlearn: 3449.9490564\ttotal: 44.2s\tremaining: 10.4s\n",
      "162:\tlearn: 3449.8822710\ttotal: 44.4s\tremaining: 10.1s\n",
      "163:\tlearn: 3449.6448636\ttotal: 44.7s\tremaining: 9.81s\n",
      "164:\tlearn: 3449.1896378\ttotal: 45s\tremaining: 9.54s\n",
      "165:\tlearn: 3449.0309382\ttotal: 45.2s\tremaining: 9.26s\n",
      "166:\tlearn: 3449.0066630\ttotal: 45.5s\tremaining: 8.99s\n",
      "167:\tlearn: 3448.8407157\ttotal: 45.7s\tremaining: 8.71s\n",
      "168:\tlearn: 3448.7163223\ttotal: 46s\tremaining: 8.44s\n",
      "169:\tlearn: 3448.5893747\ttotal: 46.2s\tremaining: 8.15s\n",
      "170:\tlearn: 3448.4691566\ttotal: 46.5s\tremaining: 7.88s\n",
      "171:\tlearn: 3448.2963873\ttotal: 46.8s\tremaining: 7.62s\n",
      "172:\tlearn: 3447.8626436\ttotal: 47s\tremaining: 7.33s\n",
      "173:\tlearn: 3447.7300121\ttotal: 47.3s\tremaining: 7.07s\n",
      "174:\tlearn: 3447.7275102\ttotal: 47.5s\tremaining: 6.79s\n",
      "175:\tlearn: 3447.4913366\ttotal: 47.8s\tremaining: 6.52s\n",
      "176:\tlearn: 3447.2666812\ttotal: 48.1s\tremaining: 6.25s\n",
      "177:\tlearn: 3447.0780082\ttotal: 48.3s\tremaining: 5.97s\n",
      "178:\tlearn: 3447.0044188\ttotal: 48.6s\tremaining: 5.7s\n",
      "179:\tlearn: 3446.9882706\ttotal: 48.9s\tremaining: 5.43s\n",
      "180:\tlearn: 3446.8212244\ttotal: 49.1s\tremaining: 5.15s\n",
      "181:\tlearn: 3446.6846970\ttotal: 49.4s\tremaining: 4.88s\n",
      "182:\tlearn: 3446.6236985\ttotal: 49.6s\tremaining: 4.61s\n",
      "183:\tlearn: 3446.1462040\ttotal: 49.9s\tremaining: 4.34s\n",
      "184:\tlearn: 3445.7962635\ttotal: 50.1s\tremaining: 4.06s\n",
      "185:\tlearn: 3445.5147956\ttotal: 50.4s\tremaining: 3.79s\n",
      "186:\tlearn: 3445.4193039\ttotal: 50.7s\tremaining: 3.52s\n",
      "187:\tlearn: 3445.3387713\ttotal: 51s\tremaining: 3.25s\n",
      "188:\tlearn: 3444.9090334\ttotal: 51.3s\tremaining: 2.98s\n",
      "189:\tlearn: 3444.7191202\ttotal: 51.5s\tremaining: 2.71s\n",
      "190:\tlearn: 3444.4983871\ttotal: 51.8s\tremaining: 2.44s\n",
      "191:\tlearn: 3444.3491047\ttotal: 52s\tremaining: 2.17s\n",
      "192:\tlearn: 3444.0033776\ttotal: 52.3s\tremaining: 1.9s\n",
      "193:\tlearn: 3443.9407790\ttotal: 52.6s\tremaining: 1.63s\n",
      "194:\tlearn: 3443.8790635\ttotal: 52.8s\tremaining: 1.35s\n",
      "195:\tlearn: 3443.6433088\ttotal: 53.1s\tremaining: 1.08s\n",
      "196:\tlearn: 3443.6136918\ttotal: 53.3s\tremaining: 811ms\n",
      "197:\tlearn: 3443.4538502\ttotal: 53.6s\tremaining: 541ms\n",
      "198:\tlearn: 3443.2898725\ttotal: 53.8s\tremaining: 270ms\n",
      "199:\tlearn: 3443.0688307\ttotal: 54.1s\tremaining: 0us\n",
      "CPU times: user 49.9 s, sys: 4 s, total: 53.9 s\n",
      "Wall time: 55.4 s\n"
     ]
    },
    {
     "data": {
      "text/plain": [
       "55.437947511672974"
      ]
     },
     "execution_count": 94,
     "metadata": {},
     "output_type": "execute_result"
    }
   ],
   "source": [
    "%%time\n",
    "start_time = time.time()\n",
    "model_cb = CatBoostRegressor(iterations=200,learning_rate=0.1,loss_function='RMSE') \n",
    "\n",
    "model_cb.fit(train_pool)\n",
    "time_cb= (time.time() - start_time)\n",
    "time_cb"
   ]
  },
  {
   "cell_type": "code",
   "execution_count": 90,
   "metadata": {},
   "outputs": [
    {
     "name": "stdout",
     "output_type": "stream",
     "text": [
      "CPU times: user 95 ms, sys: 8.34 ms, total: 103 ms\n",
      "Wall time: 98 ms\n"
     ]
    },
    {
     "data": {
      "text/plain": [
       "0.09791922569274902"
      ]
     },
     "execution_count": 90,
     "metadata": {},
     "output_type": "execute_result"
    }
   ],
   "source": [
    "%%time\n",
    "start_time = time.time()\n",
    "target_predict_cb = model_cb.predict(test_pool)\n",
    "RMSE_cb = mean_squared_error(target_test, target_predict_cb) ** 0.5\n",
    "RMSE_cb\n",
    "time_cb_pred = (time.time() - start_time)\n",
    "time_cb_pred"
   ]
  },
  {
   "cell_type": "markdown",
   "metadata": {},
   "source": [
    "### LGBMRegressor"
   ]
  },
  {
   "cell_type": "code",
   "execution_count": 91,
   "metadata": {},
   "outputs": [
    {
     "name": "stdout",
     "output_type": "stream",
     "text": [
      "CPU times: user 13.8 s, sys: 62 ms, total: 13.9 s\n",
      "Wall time: 14.1 s\n"
     ]
    },
    {
     "data": {
      "text/plain": [
       "14.096331119537354"
      ]
     },
     "execution_count": 91,
     "metadata": {},
     "output_type": "execute_result"
    }
   ],
   "source": [
    "%%time\n",
    "start_time = time.time()\n",
    "model_lgbm = LGBMRegressor(learning_rate=0.1, \n",
    "                      num_leaves=200, \n",
    "                      random_state=12345)\n",
    "model_lgbm.fit(ohe_features_train_lgbm, target_train)\n",
    "\n",
    "time_lgbm = (time.time() - start_time)\n",
    "time_lgbm"
   ]
  },
  {
   "cell_type": "code",
   "execution_count": 92,
   "metadata": {},
   "outputs": [
    {
     "name": "stdout",
     "output_type": "stream",
     "text": [
      "CPU times: user 1.53 s, sys: 4.16 ms, total: 1.54 s\n",
      "Wall time: 1.59 s\n"
     ]
    },
    {
     "data": {
      "text/plain": [
       "1.5921664237976074"
      ]
     },
     "execution_count": 92,
     "metadata": {},
     "output_type": "execute_result"
    }
   ],
   "source": [
    "%%time\n",
    "start_time = time.time()\n",
    "target_predict_lgbm = model_lgbm.predict(ohe_features_test_lgbm)\n",
    "RMSE_lgbm = mean_squared_error(target_test, target_predict_lgbm) ** 0.5\n",
    "RMSE_lgbm\n",
    "time_lgbm_pred = (time.time() - start_time)\n",
    "time_lgbm_pred"
   ]
  },
  {
   "cell_type": "markdown",
   "metadata": {},
   "source": [
    "<div class=\"alert alert-block alert-success\">\n",
    "<b>Успех:</b> Молодец, что отдельно замеряла время обучения и время предсказания. Тестирование было сделано верно.\n",
    "</div>"
   ]
  },
  {
   "cell_type": "code",
   "execution_count": 95,
   "metadata": {},
   "outputs": [
    {
     "data": {
      "text/html": [
       "<div>\n",
       "<style scoped>\n",
       "    .dataframe tbody tr th:only-of-type {\n",
       "        vertical-align: middle;\n",
       "    }\n",
       "\n",
       "    .dataframe tbody tr th {\n",
       "        vertical-align: top;\n",
       "    }\n",
       "\n",
       "    .dataframe thead th {\n",
       "        text-align: right;\n",
       "    }\n",
       "</style>\n",
       "<table border=\"1\" class=\"dataframe\">\n",
       "  <thead>\n",
       "    <tr style=\"text-align: right;\">\n",
       "      <th></th>\n",
       "      <th>RMSE</th>\n",
       "      <th>Learning time</th>\n",
       "      <th>Prediction time</th>\n",
       "    </tr>\n",
       "  </thead>\n",
       "  <tbody>\n",
       "    <tr>\n",
       "      <td>LinearRegression</td>\n",
       "      <td>3921.362979</td>\n",
       "      <td>0.119014</td>\n",
       "      <td>0.006890</td>\n",
       "    </tr>\n",
       "    <tr>\n",
       "      <td>DecisionTreeRegressor</td>\n",
       "      <td>2067.855966</td>\n",
       "      <td>0.865008</td>\n",
       "      <td>0.027036</td>\n",
       "    </tr>\n",
       "    <tr>\n",
       "      <td>CatBoostRegressor</td>\n",
       "      <td>3452.081196</td>\n",
       "      <td>55.437948</td>\n",
       "      <td>0.097919</td>\n",
       "    </tr>\n",
       "    <tr>\n",
       "      <td>LGBMRegressor</td>\n",
       "      <td>1702.225594</td>\n",
       "      <td>14.096331</td>\n",
       "      <td>1.592166</td>\n",
       "    </tr>\n",
       "  </tbody>\n",
       "</table>\n",
       "</div>"
      ],
      "text/plain": [
       "                              RMSE  Learning time  Prediction time\n",
       "LinearRegression       3921.362979       0.119014         0.006890\n",
       "DecisionTreeRegressor  2067.855966       0.865008         0.027036\n",
       "CatBoostRegressor      3452.081196      55.437948         0.097919\n",
       "LGBMRegressor          1702.225594      14.096331         1.592166"
      ]
     },
     "execution_count": 95,
     "metadata": {},
     "output_type": "execute_result"
    }
   ],
   "source": [
    "index = ['LinearRegression',\n",
    "         'DecisionTreeRegressor',\n",
    "         'CatBoostRegressor',\n",
    "         'LGBMRegressor']\n",
    "\n",
    "data = {'RMSE': [RMSE_lr, RMSE_dt, RMSE_cb, RMSE_lgbm], 'Learning time': [time_lr, time_dt, time_cb, time_lgbm], 'Prediction time': [time_lr_pred, time_dt_pred, time_cb_pred, time_lgbm_pred]}\n",
    "\n",
    "\n",
    "result = pd.DataFrame(data=data, index=index)\n",
    "result"
   ]
  },
  {
   "cell_type": "markdown",
   "metadata": {},
   "source": [
    "<div class=\"alert alert-block alert-info\">\n",
    "<b>Совет: </b> Желательно было добавить время предсказания в эту тубалицу.\n",
    "</div>"
   ]
  },
  {
   "cell_type": "markdown",
   "metadata": {},
   "source": [
    "<div class=\"alert alert-block alert-warning\">\n",
    "<b>Изменения:</b> Добавила столбец времени предсказания.\n",
    "</div>"
   ]
  },
  {
   "cell_type": "markdown",
   "metadata": {},
   "source": [
    "<div class=\"alert alert-block alert-success\">\n",
    "<b>Успех (ревью 2):</b> Отлично!\n",
    "</div>"
   ]
  },
  {
   "cell_type": "markdown",
   "metadata": {},
   "source": [
    "### Вывод"
   ]
  },
  {
   "cell_type": "markdown",
   "metadata": {},
   "source": [
    "Мы подобрали оптимальные параметры и обучили 4 модели. Если мы хотим достигнуть компромиса между скоростью и точностью, то нам стоит выбрать модель Decision Tree, так как она значительно быстрее обучается, чем CatBoostRegressor и LGBMRegressor, но не сильно отличаются по точности. Если же мы сменим приоритеты в сторону точности, то чтоит выбрать модель LGBMRegressor. \n",
    "Если бы заказчика не устроила точность нашей модели, то в потенциале можно было бы попробовать подобрать другие гиперпараметры, просто на это потребовалось дополнительное время. Так же для улучшения качества модели можно было бы попробовать исключить значения переменной цена, которые сильно больше стандартного отклонения, так же можно было бы поробовать другую систуму кодирования категориальных признаков. "
   ]
  },
  {
   "cell_type": "markdown",
   "metadata": {},
   "source": [
    "<div class=\"alert alert-block alert-success\">\n",
    "<b>Успех:</b> Анализ с равнение проведены.\n",
    "</div>"
   ]
  },
  {
   "cell_type": "markdown",
   "metadata": {},
   "source": [
    "## Чек-лист проверки"
   ]
  },
  {
   "cell_type": "markdown",
   "metadata": {},
   "source": [
    "Поставьте 'x' в выполненных пунктах. Далее нажмите Shift+Enter."
   ]
  },
  {
   "cell_type": "markdown",
   "metadata": {},
   "source": [
    "- [x]  Jupyter Notebook открыт\n",
    "- [x]  Весь код выполняется без ошибок\n",
    "- [x]  Ячейки с кодом расположены в порядке исполнения\n",
    "- [x]  Выполнена загрузка и подготовка данных\n",
    "- [x]  Выполнено обучение моделей\n",
    "- [x]  Есть анализ скорости работы и качества моделей"
   ]
  }
 ],
 "metadata": {
  "ExecuteTimeLog": [
   {
    "duration": 362,
    "start_time": "2021-07-06T18:20:17.172Z"
   },
   {
    "duration": 710,
    "start_time": "2021-07-06T18:20:35.302Z"
   },
   {
    "duration": 1250,
    "start_time": "2021-07-06T18:20:36.015Z"
   },
   {
    "duration": 1113,
    "start_time": "2021-07-06T18:20:43.852Z"
   },
   {
    "duration": 157,
    "start_time": "2021-07-06T18:20:55.683Z"
   },
   {
    "duration": 168,
    "start_time": "2021-07-06T20:12:42.051Z"
   },
   {
    "duration": 137,
    "start_time": "2021-07-06T20:14:49.573Z"
   },
   {
    "duration": 39,
    "start_time": "2021-07-06T20:14:59.356Z"
   },
   {
    "duration": 107,
    "start_time": "2021-07-06T20:16:16.384Z"
   },
   {
    "duration": 880,
    "start_time": "2021-07-07T06:26:39.321Z"
   },
   {
    "duration": 1143,
    "start_time": "2021-07-07T06:26:40.203Z"
   },
   {
    "duration": 173,
    "start_time": "2021-07-07T06:26:41.349Z"
   },
   {
    "duration": 138,
    "start_time": "2021-07-07T06:26:41.524Z"
   },
   {
    "duration": 39,
    "start_time": "2021-07-07T06:26:41.979Z"
   },
   {
    "duration": 222,
    "start_time": "2021-07-07T06:36:33.346Z"
   },
   {
    "duration": 1457,
    "start_time": "2021-07-07T06:45:19.271Z"
   },
   {
    "duration": 1522,
    "start_time": "2021-07-07T06:45:29.903Z"
   },
   {
    "duration": 542,
    "start_time": "2021-07-07T06:48:16.780Z"
   },
   {
    "duration": 721,
    "start_time": "2021-07-07T06:55:55.424Z"
   },
   {
    "duration": 1256,
    "start_time": "2021-07-07T06:56:09.941Z"
   },
   {
    "duration": 91,
    "start_time": "2021-07-07T06:56:27.561Z"
   },
   {
    "duration": 513,
    "start_time": "2021-07-07T06:56:33.593Z"
   },
   {
    "duration": 1263,
    "start_time": "2021-07-07T06:57:24.515Z"
   },
   {
    "duration": 6,
    "start_time": "2021-07-07T06:57:42.744Z"
   },
   {
    "duration": 116,
    "start_time": "2021-07-07T06:57:50.953Z"
   },
   {
    "duration": 5063,
    "start_time": "2021-07-07T07:03:55.946Z"
   },
   {
    "duration": 4034,
    "start_time": "2021-07-07T07:04:16.523Z"
   },
   {
    "duration": 4312,
    "start_time": "2021-07-07T07:05:03.237Z"
   },
   {
    "duration": 5019,
    "start_time": "2021-07-07T07:05:48.973Z"
   },
   {
    "duration": 116,
    "start_time": "2021-07-07T07:09:34.198Z"
   },
   {
    "duration": 591,
    "start_time": "2021-07-07T07:09:43.521Z"
   },
   {
    "duration": 96,
    "start_time": "2021-07-07T07:10:06.973Z"
   },
   {
    "duration": 4254,
    "start_time": "2021-07-07T07:10:14.900Z"
   },
   {
    "duration": 581,
    "start_time": "2021-07-07T07:10:48.603Z"
   },
   {
    "duration": 4446,
    "start_time": "2021-07-07T07:11:08.317Z"
   },
   {
    "duration": 128,
    "start_time": "2021-07-07T07:11:25.342Z"
   },
   {
    "duration": 543,
    "start_time": "2021-07-07T07:11:32.493Z"
   },
   {
    "duration": 5,
    "start_time": "2021-07-07T07:13:52.638Z"
   },
   {
    "duration": 1360,
    "start_time": "2021-07-07T07:13:52.826Z"
   },
   {
    "duration": 187,
    "start_time": "2021-07-07T07:13:54.190Z"
   },
   {
    "duration": 272,
    "start_time": "2021-07-07T07:13:54.381Z"
   },
   {
    "duration": 29,
    "start_time": "2021-07-07T07:13:54.655Z"
   },
   {
    "duration": 111,
    "start_time": "2021-07-07T07:13:54.686Z"
   },
   {
    "duration": 1788,
    "start_time": "2021-07-07T07:13:55.581Z"
   },
   {
    "duration": 193,
    "start_time": "2021-07-07T07:22:32.084Z"
   },
   {
    "duration": 4973,
    "start_time": "2021-07-07T07:22:37.902Z"
   },
   {
    "duration": 445,
    "start_time": "2021-07-07T07:22:50.342Z"
   },
   {
    "duration": 197,
    "start_time": "2021-07-07T07:27:40.310Z"
   },
   {
    "duration": 344,
    "start_time": "2021-07-07T07:29:04.087Z"
   },
   {
    "duration": 41,
    "start_time": "2021-07-07T07:29:29.809Z"
   },
   {
    "duration": 337,
    "start_time": "2021-07-07T07:29:35.314Z"
   },
   {
    "duration": 392,
    "start_time": "2021-07-07T07:30:42.695Z"
   },
   {
    "duration": 1311,
    "start_time": "2021-07-07T07:31:13.162Z"
   },
   {
    "duration": 12471,
    "start_time": "2021-07-07T07:31:37.629Z"
   },
   {
    "duration": 4777,
    "start_time": "2021-07-07T07:33:49.602Z"
   },
   {
    "duration": 8794,
    "start_time": "2021-07-07T07:34:50.184Z"
   },
   {
    "duration": 5,
    "start_time": "2021-07-07T07:38:48.825Z"
   },
   {
    "duration": 963,
    "start_time": "2021-07-07T07:40:46.464Z"
   },
   {
    "duration": 117,
    "start_time": "2021-07-07T07:45:22.689Z"
   },
   {
    "duration": 7,
    "start_time": "2021-07-07T07:46:22.446Z"
   },
   {
    "duration": 6,
    "start_time": "2021-07-07T07:46:33.181Z"
   },
   {
    "duration": 107,
    "start_time": "2021-07-07T07:48:00.190Z"
   },
   {
    "duration": 17,
    "start_time": "2021-07-07T07:48:45.894Z"
   },
   {
    "duration": 12,
    "start_time": "2021-07-07T07:49:08.014Z"
   },
   {
    "duration": 19,
    "start_time": "2021-07-07T07:49:31.436Z"
   },
   {
    "duration": 9,
    "start_time": "2021-07-07T07:50:15.577Z"
   },
   {
    "duration": 15,
    "start_time": "2021-07-07T07:50:21.161Z"
   },
   {
    "duration": 4,
    "start_time": "2021-07-07T07:50:32.159Z"
   },
   {
    "duration": 1198,
    "start_time": "2021-07-07T07:50:32.500Z"
   },
   {
    "duration": 172,
    "start_time": "2021-07-07T07:50:33.701Z"
   },
   {
    "duration": 245,
    "start_time": "2021-07-07T07:50:33.877Z"
   },
   {
    "duration": 29,
    "start_time": "2021-07-07T07:50:34.412Z"
   },
   {
    "duration": 91,
    "start_time": "2021-07-07T07:50:34.810Z"
   },
   {
    "duration": 669,
    "start_time": "2021-07-07T07:50:37.793Z"
   },
   {
    "duration": 15,
    "start_time": "2021-07-07T07:50:41.297Z"
   },
   {
    "duration": 21,
    "start_time": "2021-07-07T07:50:58.793Z"
   },
   {
    "duration": 390,
    "start_time": "2021-07-07T07:51:43.816Z"
   },
   {
    "duration": 2324,
    "start_time": "2021-07-07T07:51:59.157Z"
   },
   {
    "duration": 1984,
    "start_time": "2021-07-07T07:52:09.312Z"
   },
   {
    "duration": 58,
    "start_time": "2021-07-07T07:52:19.043Z"
   },
   {
    "duration": 15,
    "start_time": "2021-07-07T07:52:35.598Z"
   },
   {
    "duration": 32,
    "start_time": "2021-07-07T07:52:42.766Z"
   },
   {
    "duration": 2012,
    "start_time": "2021-07-07T07:54:48.315Z"
   },
   {
    "duration": 15,
    "start_time": "2021-07-07T07:54:55.349Z"
   },
   {
    "duration": 30,
    "start_time": "2021-07-07T07:55:04.634Z"
   },
   {
    "duration": 15,
    "start_time": "2021-07-07T07:55:18.416Z"
   },
   {
    "duration": 2369,
    "start_time": "2021-07-07T08:00:23.141Z"
   },
   {
    "duration": 6,
    "start_time": "2021-07-07T08:00:39.098Z"
   },
   {
    "duration": 4,
    "start_time": "2021-07-07T09:23:57.744Z"
   },
   {
    "duration": 1159,
    "start_time": "2021-07-07T09:23:58.104Z"
   },
   {
    "duration": 217,
    "start_time": "2021-07-07T09:23:59.267Z"
   },
   {
    "duration": 211,
    "start_time": "2021-07-07T09:23:59.676Z"
   },
   {
    "duration": 27,
    "start_time": "2021-07-07T09:24:04.220Z"
   },
   {
    "duration": 116,
    "start_time": "2021-07-07T09:24:04.766Z"
   },
   {
    "duration": 978,
    "start_time": "2021-07-07T09:24:51.834Z"
   },
   {
    "duration": 21,
    "start_time": "2021-07-07T09:24:53.570Z"
   },
   {
    "duration": 12,
    "start_time": "2021-07-07T09:24:56.545Z"
   },
   {
    "duration": 16,
    "start_time": "2021-07-07T09:24:58.890Z"
   },
   {
    "duration": 246,
    "start_time": "2021-07-07T09:26:20.747Z"
   },
   {
    "duration": 5,
    "start_time": "2021-07-07T09:26:24.052Z"
   },
   {
    "duration": 5,
    "start_time": "2021-07-07T09:26:43.883Z"
   },
   {
    "duration": 1085,
    "start_time": "2021-07-07T09:55:32.667Z"
   },
   {
    "duration": 170,
    "start_time": "2021-07-07T09:55:33.763Z"
   },
   {
    "duration": 239,
    "start_time": "2021-07-07T09:55:33.940Z"
   },
   {
    "duration": 31,
    "start_time": "2021-07-07T09:55:34.182Z"
   },
   {
    "duration": 120,
    "start_time": "2021-07-07T09:55:34.216Z"
   },
   {
    "duration": 672,
    "start_time": "2021-07-07T09:55:41.323Z"
   },
   {
    "duration": 17,
    "start_time": "2021-07-07T09:55:42.711Z"
   },
   {
    "duration": 661,
    "start_time": "2021-07-07T09:55:54.469Z"
   },
   {
    "duration": 17,
    "start_time": "2021-07-07T09:55:55.132Z"
   },
   {
    "duration": 4,
    "start_time": "2021-07-07T09:56:02.837Z"
   },
   {
    "duration": 1065,
    "start_time": "2021-07-07T09:56:03.383Z"
   },
   {
    "duration": 171,
    "start_time": "2021-07-07T09:56:04.451Z"
   },
   {
    "duration": 230,
    "start_time": "2021-07-07T09:56:05.433Z"
   },
   {
    "duration": 36,
    "start_time": "2021-07-07T09:56:09.966Z"
   },
   {
    "duration": 92,
    "start_time": "2021-07-07T09:56:10.598Z"
   },
   {
    "duration": 667,
    "start_time": "2021-07-07T09:56:18.911Z"
   },
   {
    "duration": 17,
    "start_time": "2021-07-07T09:56:20.420Z"
   },
   {
    "duration": 1047,
    "start_time": "2021-07-07T09:56:33.488Z"
   },
   {
    "duration": 12,
    "start_time": "2021-07-07T09:56:40.963Z"
   },
   {
    "duration": 16,
    "start_time": "2021-07-07T09:56:41.724Z"
   },
   {
    "duration": 253,
    "start_time": "2021-07-07T09:56:48.522Z"
   },
   {
    "duration": 255,
    "start_time": "2021-07-07T09:57:34.876Z"
   },
   {
    "duration": 230,
    "start_time": "2021-07-07T10:00:02.522Z"
   },
   {
    "duration": 11848,
    "start_time": "2021-07-07T10:00:19.742Z"
   },
   {
    "duration": 238,
    "start_time": "2021-07-07T10:12:50.077Z"
   },
   {
    "duration": 4,
    "start_time": "2021-07-07T10:13:15.154Z"
   },
   {
    "duration": 107,
    "start_time": "2021-07-07T10:13:20.960Z"
   },
   {
    "duration": 11,
    "start_time": "2021-07-07T10:13:29.560Z"
   },
   {
    "duration": 18,
    "start_time": "2021-07-07T10:14:08.854Z"
   },
   {
    "duration": 365,
    "start_time": "2021-07-07T10:14:15.330Z"
   },
   {
    "duration": 6,
    "start_time": "2021-07-07T10:14:45.506Z"
   },
   {
    "duration": 5,
    "start_time": "2021-07-07T10:14:53.079Z"
   },
   {
    "duration": 7,
    "start_time": "2021-07-07T10:17:11.014Z"
   },
   {
    "duration": 1047,
    "start_time": "2021-07-07T10:19:12.792Z"
   },
   {
    "duration": 30,
    "start_time": "2021-07-07T10:20:03.411Z"
   },
   {
    "duration": 7,
    "start_time": "2021-07-07T10:20:31.198Z"
   },
   {
    "duration": 19,
    "start_time": "2021-07-07T10:22:11.725Z"
   },
   {
    "duration": 4,
    "start_time": "2021-07-07T10:22:33.676Z"
   },
   {
    "duration": 9270,
    "start_time": "2021-07-07T10:24:23.372Z"
   },
   {
    "duration": 5,
    "start_time": "2021-07-07T10:26:35.765Z"
   },
   {
    "duration": 773,
    "start_time": "2021-07-07T11:13:01.892Z"
   },
   {
    "duration": 303,
    "start_time": "2021-07-07T11:14:13.107Z"
   },
   {
    "duration": 1513,
    "start_time": "2021-07-08T06:56:14.873Z"
   },
   {
    "duration": 1265,
    "start_time": "2021-07-08T06:56:16.389Z"
   },
   {
    "duration": 179,
    "start_time": "2021-07-08T06:56:17.656Z"
   },
   {
    "duration": 256,
    "start_time": "2021-07-08T06:56:17.838Z"
   },
   {
    "duration": 45,
    "start_time": "2021-07-08T06:56:22.957Z"
   },
   {
    "duration": 100,
    "start_time": "2021-07-08T06:56:23.428Z"
   },
   {
    "duration": 742,
    "start_time": "2021-07-08T06:56:28.217Z"
   },
   {
    "duration": 16,
    "start_time": "2021-07-08T06:56:35.408Z"
   },
   {
    "duration": 12,
    "start_time": "2021-07-08T06:56:35.717Z"
   },
   {
    "duration": 15,
    "start_time": "2021-07-08T06:56:36.442Z"
   },
   {
    "duration": 274,
    "start_time": "2021-07-08T06:56:39.896Z"
   },
   {
    "duration": 8,
    "start_time": "2021-07-08T06:56:42.965Z"
   },
   {
    "duration": 392,
    "start_time": "2021-07-08T06:59:48.480Z"
   },
   {
    "duration": 5,
    "start_time": "2021-07-08T07:00:11.507Z"
   },
   {
    "duration": 1313,
    "start_time": "2021-07-08T07:00:22.159Z"
   },
   {
    "duration": 1436,
    "start_time": "2021-07-08T07:01:46.836Z"
   },
   {
    "duration": 1321,
    "start_time": "2021-07-08T07:03:01.557Z"
   },
   {
    "duration": 69354,
    "start_time": "2021-07-08T07:05:47.893Z"
   },
   {
    "duration": 5,
    "start_time": "2021-07-08T07:33:31.916Z"
   },
   {
    "duration": 1144,
    "start_time": "2021-07-08T07:33:32.671Z"
   },
   {
    "duration": 198,
    "start_time": "2021-07-08T07:33:33.817Z"
   },
   {
    "duration": 270,
    "start_time": "2021-07-08T07:33:34.017Z"
   },
   {
    "duration": 32,
    "start_time": "2021-07-08T07:33:34.289Z"
   },
   {
    "duration": 94,
    "start_time": "2021-07-08T07:33:34.993Z"
   },
   {
    "duration": 714,
    "start_time": "2021-07-08T07:33:39.806Z"
   },
   {
    "duration": 15,
    "start_time": "2021-07-08T07:33:40.522Z"
   },
   {
    "duration": 19,
    "start_time": "2021-07-08T07:33:40.868Z"
   },
   {
    "duration": 17,
    "start_time": "2021-07-08T07:33:41.450Z"
   },
   {
    "duration": 260,
    "start_time": "2021-07-08T07:33:44.658Z"
   },
   {
    "duration": 6,
    "start_time": "2021-07-08T07:36:39.256Z"
   },
   {
    "duration": 1184,
    "start_time": "2021-07-08T07:36:42.992Z"
   },
   {
    "duration": 31402,
    "start_time": "2021-07-08T07:37:14.429Z"
   },
   {
    "duration": 31469,
    "start_time": "2021-07-08T07:38:00.089Z"
   },
   {
    "duration": 30850,
    "start_time": "2021-07-08T07:39:10.379Z"
   },
   {
    "duration": 30954,
    "start_time": "2021-07-08T07:40:34.592Z"
   },
   {
    "duration": 31665,
    "start_time": "2021-07-08T07:41:18.970Z"
   },
   {
    "duration": 31137,
    "start_time": "2021-07-08T07:43:10.416Z"
   },
   {
    "duration": 255,
    "start_time": "2021-07-08T07:44:14.671Z"
   },
   {
    "duration": 11477,
    "start_time": "2021-07-08T07:44:26.210Z"
   },
   {
    "duration": 583801,
    "start_time": "2021-07-08T07:45:52.764Z"
   },
   {
    "duration": 638518,
    "start_time": "2021-07-08T07:56:35.797Z"
   },
   {
    "duration": 266,
    "start_time": "2021-07-08T08:10:45.192Z"
   },
   {
    "duration": 7573,
    "start_time": "2021-07-08T08:10:54.918Z"
   },
   {
    "duration": 10414,
    "start_time": "2021-07-08T08:11:31.481Z"
   },
   {
    "duration": 528,
    "start_time": "2021-07-08T08:13:41.644Z"
   },
   {
    "duration": 289,
    "start_time": "2021-07-08T08:14:09.165Z"
   },
   {
    "duration": 7408,
    "start_time": "2021-07-08T08:15:57.264Z"
   },
   {
    "duration": 203120,
    "start_time": "2021-07-08T08:17:51.431Z"
   },
   {
    "duration": 558004,
    "start_time": "2021-07-08T08:24:08.520Z"
   },
   {
    "duration": 37397,
    "start_time": "2021-07-08T08:33:50.844Z"
   },
   {
    "duration": 872,
    "start_time": "2021-07-08T08:34:43.052Z"
   },
   {
    "duration": 141,
    "start_time": "2021-07-08T08:35:03.847Z"
   },
   {
    "duration": 240,
    "start_time": "2021-07-08T08:35:12.575Z"
   },
   {
    "duration": 295,
    "start_time": "2021-07-08T08:35:19.149Z"
   },
   {
    "duration": 412,
    "start_time": "2021-07-08T08:35:46.391Z"
   },
   {
    "duration": 56406,
    "start_time": "2021-07-08T08:36:07.768Z"
   },
   {
    "duration": 5684,
    "start_time": "2021-07-08T08:37:19.559Z"
   },
   {
    "duration": 1762,
    "start_time": "2021-07-08T08:38:01.128Z"
   },
   {
    "duration": 373,
    "start_time": "2021-07-08T08:40:05.758Z"
   },
   {
    "duration": 90,
    "start_time": "2021-07-08T08:40:25.798Z"
   },
   {
    "duration": 10,
    "start_time": "2021-07-08T08:40:26.080Z"
   },
   {
    "duration": 7,
    "start_time": "2021-07-08T08:40:26.747Z"
   },
   {
    "duration": 394,
    "start_time": "2021-07-08T08:40:34.172Z"
   },
   {
    "duration": 1175,
    "start_time": "2021-07-08T08:40:45.980Z"
   },
   {
    "duration": 45,
    "start_time": "2021-07-08T08:40:47.158Z"
   },
   {
    "duration": 159124,
    "start_time": "2021-07-08T08:40:47.207Z"
   },
   {
    "duration": 318,
    "start_time": "2021-07-08T08:43:26.334Z"
   },
   {
    "duration": 62951,
    "start_time": "2021-07-08T08:43:26.654Z"
   },
   {
    "duration": 228,
    "start_time": "2021-07-08T08:44:29.610Z"
   },
   {
    "duration": 11,
    "start_time": "2021-07-08T08:44:29.840Z"
   },
   {
    "duration": 5,
    "start_time": "2021-07-08T08:44:29.856Z"
   },
   {
    "duration": 8,
    "start_time": "2021-07-08T08:45:28.620Z"
   },
   {
    "duration": 1483,
    "start_time": "2021-07-08T08:45:29.547Z"
   },
   {
    "duration": 179,
    "start_time": "2021-07-08T08:45:31.032Z"
   },
   {
    "duration": 252,
    "start_time": "2021-07-08T08:45:31.215Z"
   },
   {
    "duration": 185,
    "start_time": "2021-07-08T08:45:31.471Z"
   },
   {
    "duration": 29,
    "start_time": "2021-07-08T08:45:48.150Z"
   },
   {
    "duration": 103,
    "start_time": "2021-07-08T08:45:48.581Z"
   },
   {
    "duration": 1238,
    "start_time": "2021-07-08T08:46:13.014Z"
   },
   {
    "duration": 19,
    "start_time": "2021-07-08T08:46:17.161Z"
   },
   {
    "duration": 16,
    "start_time": "2021-07-08T08:46:17.575Z"
   },
   {
    "duration": 18,
    "start_time": "2021-07-08T08:46:21.080Z"
   },
   {
    "duration": 211,
    "start_time": "2021-07-08T08:46:23.905Z"
   },
   {
    "duration": 4,
    "start_time": "2021-07-08T08:46:24.671Z"
   },
   {
    "duration": 1246,
    "start_time": "2021-07-08T08:46:26.833Z"
   },
   {
    "duration": 6175,
    "start_time": "2021-07-08T08:46:33.603Z"
   },
   {
    "duration": 342,
    "start_time": "2021-07-08T08:47:05.957Z"
   },
   {
    "duration": 89,
    "start_time": "2021-07-08T08:47:12.301Z"
   },
   {
    "duration": 99,
    "start_time": "2021-07-08T08:47:24.578Z"
   },
   {
    "duration": 168,
    "start_time": "2021-07-08T08:47:48.482Z"
   },
   {
    "duration": 107,
    "start_time": "2021-07-08T08:47:54.476Z"
   },
   {
    "duration": 5,
    "start_time": "2021-07-08T08:51:39.099Z"
   },
   {
    "duration": 5,
    "start_time": "2021-07-08T08:51:54.379Z"
   },
   {
    "duration": 1154,
    "start_time": "2021-07-08T08:51:54.392Z"
   },
   {
    "duration": 198,
    "start_time": "2021-07-08T08:51:55.549Z"
   },
   {
    "duration": 254,
    "start_time": "2021-07-08T08:51:55.751Z"
   },
   {
    "duration": 181,
    "start_time": "2021-07-08T08:51:56.008Z"
   },
   {
    "duration": 31,
    "start_time": "2021-07-08T08:51:56.193Z"
   },
   {
    "duration": 126,
    "start_time": "2021-07-08T08:51:56.227Z"
   },
   {
    "duration": 810,
    "start_time": "2021-07-08T08:51:56.369Z"
   },
   {
    "duration": 15,
    "start_time": "2021-07-08T08:51:57.184Z"
   },
   {
    "duration": 19,
    "start_time": "2021-07-08T08:51:57.203Z"
   },
   {
    "duration": 59,
    "start_time": "2021-07-08T08:51:57.225Z"
   },
   {
    "duration": 238,
    "start_time": "2021-07-08T08:51:57.287Z"
   },
   {
    "duration": 5,
    "start_time": "2021-07-08T08:51:57.528Z"
   },
   {
    "duration": 1137,
    "start_time": "2021-07-08T08:51:57.535Z"
   },
   {
    "duration": 30931,
    "start_time": "2021-07-08T08:51:58.675Z"
   },
   {
    "duration": 1519988,
    "start_time": "2021-07-08T08:52:29.608Z"
   },
   {
    "duration": 2308670,
    "start_time": "2021-07-08T09:17:49.599Z"
   },
   {
    "duration": 121,
    "start_time": "2021-07-08T09:56:18.272Z"
   },
   {
    "duration": 87,
    "start_time": "2021-07-08T09:56:18.396Z"
   },
   {
    "duration": 1304,
    "start_time": "2021-07-08T09:56:18.489Z"
   },
   {
    "duration": 32,
    "start_time": "2021-07-08T09:56:19.796Z"
   },
   {
    "duration": 199351,
    "start_time": "2021-07-08T09:56:19.830Z"
   },
   {
    "duration": 212,
    "start_time": "2021-07-08T09:59:39.184Z"
   },
   {
    "duration": 92191,
    "start_time": "2021-07-08T09:59:39.401Z"
   },
   {
    "duration": 1991,
    "start_time": "2021-07-08T10:01:11.595Z"
   },
   {
    "duration": 16,
    "start_time": "2021-07-08T10:01:13.589Z"
   },
   {
    "duration": 1333,
    "start_time": "2021-07-09T08:02:14.093Z"
   },
   {
    "duration": 1077,
    "start_time": "2021-07-09T08:02:18.485Z"
   },
   {
    "duration": 149,
    "start_time": "2021-07-09T08:02:19.738Z"
   },
   {
    "duration": 210,
    "start_time": "2021-07-09T08:02:22.242Z"
   },
   {
    "duration": 149,
    "start_time": "2021-07-09T08:02:24.341Z"
   },
   {
    "duration": 109,
    "start_time": "2021-07-09T08:03:54.636Z"
   },
   {
    "duration": 140,
    "start_time": "2021-07-09T08:03:57.710Z"
   },
   {
    "duration": 38,
    "start_time": "2021-07-09T08:04:41.714Z"
   },
   {
    "duration": 86,
    "start_time": "2021-07-09T08:04:42.695Z"
   },
   {
    "duration": 743,
    "start_time": "2021-07-09T08:04:50.049Z"
   },
   {
    "duration": 15,
    "start_time": "2021-07-09T08:04:50.795Z"
   },
   {
    "duration": 12,
    "start_time": "2021-07-09T08:04:50.921Z"
   },
   {
    "duration": 17,
    "start_time": "2021-07-09T08:04:51.168Z"
   },
   {
    "duration": 220,
    "start_time": "2021-07-09T08:04:56.413Z"
   },
   {
    "duration": 5,
    "start_time": "2021-07-09T08:04:59.242Z"
   },
   {
    "duration": 1375,
    "start_time": "2021-07-09T08:05:01.881Z"
   },
   {
    "duration": 26702,
    "start_time": "2021-07-09T08:05:09.070Z"
   },
   {
    "duration": 85,
    "start_time": "2021-07-09T08:06:55.886Z"
   },
   {
    "duration": 51,
    "start_time": "2021-07-09T08:07:05.757Z"
   },
   {
    "duration": 383,
    "start_time": "2021-07-09T08:07:15.399Z"
   },
   {
    "duration": 21,
    "start_time": "2021-07-09T08:07:49.718Z"
   },
   {
    "duration": 89471,
    "start_time": "2021-07-09T08:08:50.593Z"
   },
   {
    "duration": 21,
    "start_time": "2021-07-09T08:11:43.281Z"
   },
   {
    "duration": 531556,
    "start_time": "2021-07-09T08:11:50.602Z"
   },
   {
    "duration": 93,
    "start_time": "2021-07-09T08:20:42.162Z"
   },
   {
    "duration": 251,
    "start_time": "2021-07-09T08:22:39.007Z"
   },
   {
    "duration": 5,
    "start_time": "2021-07-09T08:24:35.316Z"
   },
   {
    "duration": 1144,
    "start_time": "2021-07-09T08:24:43.521Z"
   },
   {
    "duration": 172,
    "start_time": "2021-07-09T08:24:44.669Z"
   },
   {
    "duration": 12,
    "start_time": "2021-07-09T08:24:44.844Z"
   },
   {
    "duration": 136,
    "start_time": "2021-07-09T08:24:44.860Z"
   },
   {
    "duration": 176,
    "start_time": "2021-07-09T08:24:45.625Z"
   },
   {
    "duration": 42,
    "start_time": "2021-07-09T08:24:47.455Z"
   },
   {
    "duration": 93,
    "start_time": "2021-07-09T08:24:48.320Z"
   },
   {
    "duration": 754,
    "start_time": "2021-07-09T08:24:52.082Z"
   },
   {
    "duration": 26,
    "start_time": "2021-07-09T08:24:52.838Z"
   },
   {
    "duration": 13,
    "start_time": "2021-07-09T08:24:55.185Z"
   },
   {
    "duration": 16,
    "start_time": "2021-07-09T08:24:55.669Z"
   },
   {
    "duration": 225,
    "start_time": "2021-07-09T08:24:58.975Z"
   },
   {
    "duration": 6,
    "start_time": "2021-07-09T08:25:00.605Z"
   },
   {
    "duration": 1439,
    "start_time": "2021-07-09T08:25:03.117Z"
   },
   {
    "duration": 31660,
    "start_time": "2021-07-09T08:25:07.200Z"
   },
   {
    "duration": 256,
    "start_time": "2021-07-09T08:26:12.567Z"
   },
   {
    "duration": 254,
    "start_time": "2021-07-09T08:27:09.165Z"
   },
   {
    "duration": 5,
    "start_time": "2021-07-09T08:28:08.495Z"
   },
   {
    "duration": 190,
    "start_time": "2021-07-09T08:31:39.392Z"
   },
   {
    "duration": 183,
    "start_time": "2021-07-09T08:33:44.444Z"
   },
   {
    "duration": 5358,
    "start_time": "2021-07-09T08:34:09.232Z"
   },
   {
    "duration": 6904,
    "start_time": "2021-07-09T08:35:28.601Z"
   },
   {
    "duration": 268,
    "start_time": "2021-07-09T08:38:35.959Z"
   },
   {
    "duration": 332,
    "start_time": "2021-07-09T08:38:46.785Z"
   },
   {
    "duration": 6,
    "start_time": "2021-07-09T08:39:00.829Z"
   },
   {
    "duration": 5327,
    "start_time": "2021-07-09T08:39:49.613Z"
   },
   {
    "duration": 786,
    "start_time": "2021-07-09T08:40:40.962Z"
   },
   {
    "duration": 261,
    "start_time": "2021-07-09T08:42:13.968Z"
   },
   {
    "duration": 5516,
    "start_time": "2021-07-09T08:42:38.249Z"
   },
   {
    "duration": 12,
    "start_time": "2021-07-09T08:42:57.096Z"
   },
   {
    "duration": 188,
    "start_time": "2021-07-09T08:43:45.754Z"
   },
   {
    "duration": 199145,
    "start_time": "2021-07-09T08:52:12.686Z"
   },
   {
    "duration": 143,
    "start_time": "2021-07-09T08:55:31.833Z"
   },
   {
    "duration": 47800,
    "start_time": "2021-07-09T08:55:31.980Z"
   },
   {
    "duration": 2076,
    "start_time": "2021-07-09T08:56:19.783Z"
   },
   {
    "duration": 256,
    "start_time": "2021-07-09T08:56:21.861Z"
   },
   {
    "duration": 129,
    "start_time": "2021-07-09T08:59:41.234Z"
   },
   {
    "duration": 16,
    "start_time": "2021-07-09T08:59:44.573Z"
   },
   {
    "duration": 258,
    "start_time": "2021-07-09T08:59:50.494Z"
   },
   {
    "duration": 1148,
    "start_time": "2021-07-09T09:00:00.648Z"
   },
   {
    "duration": 33,
    "start_time": "2021-07-09T09:00:01.799Z"
   },
   {
    "duration": 14,
    "start_time": "2021-07-09T09:00:08.167Z"
   },
   {
    "duration": 1513,
    "start_time": "2021-07-09T17:39:05.763Z"
   },
   {
    "duration": 1109,
    "start_time": "2021-07-09T17:39:07.279Z"
   },
   {
    "duration": 162,
    "start_time": "2021-07-09T17:39:08.391Z"
   },
   {
    "duration": 3,
    "start_time": "2021-07-09T17:39:08.556Z"
   },
   {
    "duration": 139,
    "start_time": "2021-07-09T17:39:08.561Z"
   },
   {
    "duration": 161,
    "start_time": "2021-07-09T17:39:08.702Z"
   },
   {
    "duration": 41,
    "start_time": "2021-07-09T17:39:09.055Z"
   },
   {
    "duration": 91,
    "start_time": "2021-07-09T17:39:09.469Z"
   },
   {
    "duration": 768,
    "start_time": "2021-07-09T17:39:10.318Z"
   },
   {
    "duration": 16,
    "start_time": "2021-07-09T17:39:11.088Z"
   },
   {
    "duration": 13,
    "start_time": "2021-07-09T17:39:11.124Z"
   },
   {
    "duration": 17,
    "start_time": "2021-07-09T17:39:11.461Z"
   },
   {
    "duration": 235,
    "start_time": "2021-07-09T17:39:12.538Z"
   },
   {
    "duration": 6,
    "start_time": "2021-07-09T17:39:13.911Z"
   },
   {
    "duration": 1365,
    "start_time": "2021-07-09T17:39:16.431Z"
   },
   {
    "duration": 31731,
    "start_time": "2021-07-09T17:39:17.891Z"
   },
   {
    "duration": 109,
    "start_time": "2021-07-09T17:39:49.625Z"
   },
   {
    "duration": 1531,
    "start_time": "2021-07-09T19:28:31.165Z"
   },
   {
    "duration": 1252,
    "start_time": "2021-07-09T19:28:33.866Z"
   },
   {
    "duration": 167,
    "start_time": "2021-07-09T19:28:35.928Z"
   },
   {
    "duration": 3,
    "start_time": "2021-07-09T19:28:37.305Z"
   },
   {
    "duration": 140,
    "start_time": "2021-07-09T19:28:37.904Z"
   },
   {
    "duration": 41,
    "start_time": "2021-07-09T19:28:42.365Z"
   },
   {
    "duration": 99,
    "start_time": "2021-07-09T19:28:43.080Z"
   },
   {
    "duration": 858,
    "start_time": "2021-07-09T19:28:58.902Z"
   },
   {
    "duration": 16,
    "start_time": "2021-07-09T19:29:02.744Z"
   },
   {
    "duration": 13,
    "start_time": "2021-07-09T19:29:04.088Z"
   },
   {
    "duration": 17,
    "start_time": "2021-07-09T19:29:04.538Z"
   },
   {
    "duration": 266,
    "start_time": "2021-07-09T19:29:14.632Z"
   },
   {
    "duration": 7,
    "start_time": "2021-07-09T19:29:18.683Z"
   },
   {
    "duration": 1383,
    "start_time": "2021-07-09T19:29:25.638Z"
   },
   {
    "duration": 33951,
    "start_time": "2021-07-09T19:29:29.622Z"
   },
   {
    "duration": 587,
    "start_time": "2021-07-09T19:32:09.218Z"
   },
   {
    "duration": 7789,
    "start_time": "2021-07-09T19:32:29.797Z"
   },
   {
    "duration": 7505,
    "start_time": "2021-07-09T19:33:10.858Z"
   },
   {
    "duration": 361,
    "start_time": "2021-07-09T19:33:46.133Z"
   },
   {
    "duration": 29,
    "start_time": "2021-07-09T19:35:37.913Z"
   },
   {
    "duration": 7638,
    "start_time": "2021-07-09T19:36:00.342Z"
   },
   {
    "duration": 6,
    "start_time": "2021-07-09T19:37:20.716Z"
   },
   {
    "duration": 26,
    "start_time": "2021-07-09T19:38:19.404Z"
   },
   {
    "duration": 17,
    "start_time": "2021-07-09T19:38:35.365Z"
   },
   {
    "duration": 11984,
    "start_time": "2021-07-09T19:41:04.058Z"
   },
   {
    "duration": 120,
    "start_time": "2021-07-09T19:41:42.861Z"
   },
   {
    "duration": 1300,
    "start_time": "2021-07-09T19:42:42.060Z"
   },
   {
    "duration": 759,
    "start_time": "2021-07-09T19:46:07.974Z"
   },
   {
    "duration": 9,
    "start_time": "2021-07-09T19:46:16.314Z"
   },
   {
    "duration": 327,
    "start_time": "2021-07-09T19:47:03.843Z"
   },
   {
    "duration": 5,
    "start_time": "2021-07-09T19:49:30.296Z"
   },
   {
    "duration": 7,
    "start_time": "2021-07-09T20:02:41.920Z"
   },
   {
    "duration": 217,
    "start_time": "2021-07-09T20:02:57.867Z"
   },
   {
    "duration": 230,
    "start_time": "2021-07-09T20:03:11.076Z"
   },
   {
    "duration": 266,
    "start_time": "2021-07-09T20:08:33.536Z"
   },
   {
    "duration": 255,
    "start_time": "2021-07-09T20:08:49.700Z"
   },
   {
    "duration": 453322,
    "start_time": "2021-07-09T20:10:24.483Z"
   },
   {
    "duration": 105,
    "start_time": "2021-07-09T20:18:28.966Z"
   },
   {
    "duration": 453668,
    "start_time": "2021-07-09T20:18:41.503Z"
   },
   {
    "duration": 122,
    "start_time": "2021-07-09T20:26:51.922Z"
   },
   {
    "duration": 453314,
    "start_time": "2021-07-09T20:27:47.067Z"
   },
   {
    "duration": 94637,
    "start_time": "2021-07-09T20:45:31.138Z"
   },
   {
    "duration": 711,
    "start_time": "2021-07-09T20:47:41.816Z"
   },
   {
    "duration": 225,
    "start_time": "2021-07-09T20:48:32.582Z"
   },
   {
    "duration": 763,
    "start_time": "2021-07-09T20:48:56.648Z"
   },
   {
    "duration": 1086,
    "start_time": "2021-07-11T05:02:49.366Z"
   },
   {
    "duration": 746,
    "start_time": "2021-07-11T05:02:52.074Z"
   },
   {
    "duration": 122,
    "start_time": "2021-07-11T05:02:53.775Z"
   },
   {
    "duration": 82,
    "start_time": "2021-07-11T05:02:57.812Z"
   },
   {
    "duration": 2,
    "start_time": "2021-07-11T05:03:02.816Z"
   },
   {
    "duration": 82,
    "start_time": "2021-07-11T05:03:03.051Z"
   },
   {
    "duration": 4,
    "start_time": "2021-07-11T05:03:09.018Z"
   },
   {
    "duration": 716,
    "start_time": "2021-07-11T05:03:09.358Z"
   },
   {
    "duration": 110,
    "start_time": "2021-07-11T05:03:10.076Z"
   },
   {
    "duration": 3,
    "start_time": "2021-07-11T05:03:11.340Z"
   },
   {
    "duration": 75,
    "start_time": "2021-07-11T05:03:11.569Z"
   },
   {
    "duration": 106,
    "start_time": "2021-07-11T05:03:12.271Z"
   },
   {
    "duration": 25,
    "start_time": "2021-07-11T05:03:13.616Z"
   },
   {
    "duration": 66,
    "start_time": "2021-07-11T05:03:14.491Z"
   },
   {
    "duration": 468,
    "start_time": "2021-07-11T05:03:15.865Z"
   },
   {
    "duration": 9,
    "start_time": "2021-07-11T05:03:17.092Z"
   },
   {
    "duration": 8,
    "start_time": "2021-07-11T05:03:17.676Z"
   },
   {
    "duration": 10,
    "start_time": "2021-07-11T05:03:18.259Z"
   },
   {
    "duration": 183,
    "start_time": "2021-07-11T05:03:21.810Z"
   },
   {
    "duration": 4,
    "start_time": "2021-07-11T05:03:29.662Z"
   },
   {
    "duration": 1194,
    "start_time": "2021-07-11T05:03:32.105Z"
   },
   {
    "duration": 22046,
    "start_time": "2021-07-11T05:03:36.140Z"
   },
   {
    "duration": 505,
    "start_time": "2021-07-11T05:03:58.191Z"
   },
   {
    "duration": 56652,
    "start_time": "2021-07-11T05:03:58.698Z"
   },
   {
    "duration": 54722,
    "start_time": "2021-07-11T05:05:08.381Z"
   },
   {
    "duration": 161,
    "start_time": "2021-07-11T05:06:03.105Z"
   },
   {
    "duration": 171,
    "start_time": "2021-07-11T05:06:31.581Z"
   },
   {
    "duration": 452,
    "start_time": "2021-07-11T05:06:56.074Z"
   },
   {
    "duration": 55938,
    "start_time": "2021-07-11T05:07:01.655Z"
   },
   {
    "duration": 104,
    "start_time": "2021-07-11T05:07:57.595Z"
   },
   {
    "duration": 3,
    "start_time": "2021-07-11T05:08:29.996Z"
   },
   {
    "duration": 4,
    "start_time": "2021-07-11T05:08:36.332Z"
   },
   {
    "duration": 667,
    "start_time": "2021-07-11T05:08:36.339Z"
   },
   {
    "duration": 112,
    "start_time": "2021-07-11T05:08:37.009Z"
   },
   {
    "duration": 2,
    "start_time": "2021-07-11T05:08:37.124Z"
   },
   {
    "duration": 84,
    "start_time": "2021-07-11T05:08:37.128Z"
   },
   {
    "duration": 114,
    "start_time": "2021-07-11T05:08:37.213Z"
   },
   {
    "duration": 23,
    "start_time": "2021-07-11T05:08:37.330Z"
   },
   {
    "duration": 83,
    "start_time": "2021-07-11T05:08:37.356Z"
   },
   {
    "duration": 441,
    "start_time": "2021-07-11T05:08:37.441Z"
   },
   {
    "duration": 13,
    "start_time": "2021-07-11T05:08:37.884Z"
   },
   {
    "duration": 9,
    "start_time": "2021-07-11T05:08:37.899Z"
   },
   {
    "duration": 10,
    "start_time": "2021-07-11T05:08:37.909Z"
   },
   {
    "duration": 176,
    "start_time": "2021-07-11T05:08:37.921Z"
   },
   {
    "duration": 4,
    "start_time": "2021-07-11T05:08:38.098Z"
   },
   {
    "duration": 1190,
    "start_time": "2021-07-11T05:08:38.104Z"
   },
   {
    "duration": -391,
    "start_time": "2021-07-11T05:15:11.053Z"
   },
   {
    "duration": 3,
    "start_time": "2021-07-11T05:15:22.470Z"
   },
   {
    "duration": 633,
    "start_time": "2021-07-11T05:15:28.166Z"
   },
   {
    "duration": 111,
    "start_time": "2021-07-11T05:15:28.801Z"
   },
   {
    "duration": 2,
    "start_time": "2021-07-11T05:15:29.801Z"
   },
   {
    "duration": 75,
    "start_time": "2021-07-11T05:15:29.990Z"
   },
   {
    "duration": 108,
    "start_time": "2021-07-11T05:15:30.363Z"
   },
   {
    "duration": 19,
    "start_time": "2021-07-11T05:15:31.165Z"
   },
   {
    "duration": 65,
    "start_time": "2021-07-11T05:15:31.484Z"
   },
   {
    "duration": 439,
    "start_time": "2021-07-11T05:15:32.152Z"
   },
   {
    "duration": 9,
    "start_time": "2021-07-11T05:15:32.593Z"
   },
   {
    "duration": 11,
    "start_time": "2021-07-11T05:15:32.604Z"
   },
   {
    "duration": 8,
    "start_time": "2021-07-11T05:15:32.637Z"
   },
   {
    "duration": 166,
    "start_time": "2021-07-11T05:15:33.170Z"
   },
   {
    "duration": 5,
    "start_time": "2021-07-11T05:15:33.672Z"
   },
   {
    "duration": 1238,
    "start_time": "2021-07-11T05:15:34.163Z"
   },
   {
    "duration": 21970,
    "start_time": "2021-07-11T05:15:35.403Z"
   },
   {
    "duration": 482,
    "start_time": "2021-07-11T05:15:57.375Z"
   },
   {
    "duration": 55183,
    "start_time": "2021-07-11T05:15:57.859Z"
   },
   {
    "duration": 2,
    "start_time": "2021-07-11T05:16:53.043Z"
   },
   {
    "duration": 88,
    "start_time": "2021-07-11T05:16:53.047Z"
   },
   {
    "duration": 242856,
    "start_time": "2021-07-11T05:16:53.137Z"
   },
   {
    "duration": 125,
    "start_time": "2021-07-11T05:20:55.996Z"
   },
   {
    "duration": 79,
    "start_time": "2021-07-11T05:20:56.123Z"
   },
   {
    "duration": 958,
    "start_time": "2021-07-11T05:20:56.204Z"
   },
   {
    "duration": 32,
    "start_time": "2021-07-11T05:20:57.163Z"
   },
   {
    "duration": 2,
    "start_time": "2021-07-11T05:20:57.196Z"
   },
   {
    "duration": 55398,
    "start_time": "2021-07-11T05:20:57.199Z"
   },
   {
    "duration": 103,
    "start_time": "2021-07-11T05:21:52.599Z"
   },
   {
    "duration": 14101,
    "start_time": "2021-07-11T05:21:52.704Z"
   },
   {
    "duration": 1597,
    "start_time": "2021-07-11T05:22:06.807Z"
   },
   {
    "duration": 250,
    "start_time": "2021-07-11T05:22:08.406Z"
   },
   {
    "duration": 55443,
    "start_time": "2021-07-11T05:29:49.392Z"
   },
   {
    "duration": 10,
    "start_time": "2021-07-11T05:30:44.837Z"
   }
  ],
  "kernelspec": {
   "display_name": "Python 3",
   "language": "python",
   "name": "python3"
  },
  "language_info": {
   "codemirror_mode": {
    "name": "ipython",
    "version": 3
   },
   "file_extension": ".py",
   "mimetype": "text/x-python",
   "name": "python",
   "nbconvert_exporter": "python",
   "pygments_lexer": "ipython3",
   "version": "3.7.8"
  },
  "toc": {
   "base_numbering": 1,
   "nav_menu": {},
   "number_sections": true,
   "sideBar": true,
   "skip_h1_title": true,
   "title_cell": "Table of Contents",
   "title_sidebar": "Contents",
   "toc_cell": false,
   "toc_position": {},
   "toc_section_display": true,
   "toc_window_display": false
  }
 },
 "nbformat": 4,
 "nbformat_minor": 2
}
